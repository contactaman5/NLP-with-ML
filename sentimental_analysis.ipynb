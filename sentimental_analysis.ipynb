{
  "nbformat": 4,
  "nbformat_minor": 0,
  "metadata": {
    "colab": {
      "provenance": [],
      "mount_file_id": "1HVdJGjPASGc7bG2KkF02x_1v3xk7qc0u",
      "authorship_tag": "ABX9TyPetJbm6GSsdCIBDH3KMkVC",
      "include_colab_link": true
    },
    "kernelspec": {
      "name": "python3",
      "display_name": "Python 3"
    },
    "language_info": {
      "name": "python"
    }
  },
  "cells": [
    {
      "cell_type": "markdown",
      "metadata": {
        "id": "view-in-github",
        "colab_type": "text"
      },
      "source": [
        "<a href=\"https://colab.research.google.com/github/contactaman5/NLP-with-ML/blob/main/sentimental_analysis.ipynb\" target=\"_parent\"><img src=\"https://colab.research.google.com/assets/colab-badge.svg\" alt=\"Open In Colab\"/></a>"
      ]
    },
    {
      "cell_type": "code",
      "source": [
        "!pip install --quiet nltk[all]"
      ],
      "metadata": {
        "colab": {
          "base_uri": "https://localhost:8080/"
        },
        "id": "ED8fcOhx4-c4",
        "outputId": "e55ffbcd-421b-4d8b-839b-05dac7fc086a"
      },
      "execution_count": 20,
      "outputs": [
        {
          "output_type": "stream",
          "name": "stdout",
          "text": [
            "\u001b[?25l   \u001b[90m━━━━━━━━━━━━━━━━━━━━━━━━━━━━━━━━━━━━━━━━\u001b[0m \u001b[32m0.0/1.3 MB\u001b[0m \u001b[31m?\u001b[0m eta \u001b[36m-:--:--\u001b[0m\r\u001b[2K   \u001b[91m━━━━━━━━━\u001b[0m\u001b[90m╺\u001b[0m\u001b[90m━━━━━━━━━━━━━━━━━━━━━━━━━━━━━━\u001b[0m \u001b[32m0.3/1.3 MB\u001b[0m \u001b[31m8.1 MB/s\u001b[0m eta \u001b[36m0:00:01\u001b[0m\r\u001b[2K   \u001b[91m━━━━━━━━━━━━━━━━━━━━━━━━━━━━━━━━━━━━━━━\u001b[0m\u001b[91m╸\u001b[0m \u001b[32m1.3/1.3 MB\u001b[0m \u001b[31m20.8 MB/s\u001b[0m eta \u001b[36m0:00:01\u001b[0m\r\u001b[2K   \u001b[90m━━━━━━━━━━━━━━━━━━━━━━━━━━━━━━━━━━━━━━━━\u001b[0m \u001b[32m1.3/1.3 MB\u001b[0m \u001b[31m15.4 MB/s\u001b[0m eta \u001b[36m0:00:00\u001b[0m\n",
            "\u001b[?25h"
          ]
        }
      ]
    },
    {
      "cell_type": "code",
      "execution_count": 29,
      "metadata": {
        "colab": {
          "base_uri": "https://localhost:8080/"
        },
        "id": "_Y0hXPGJipjd",
        "outputId": "74cfc210-9a91-4057-a652-2c0705c015c2"
      },
      "outputs": [
        {
          "output_type": "stream",
          "name": "stderr",
          "text": [
            "[nltk_data] Downloading package punkt to /root/nltk_data...\n",
            "[nltk_data]   Package punkt is already up-to-date!\n",
            "[nltk_data] Downloading package stopwords to /root/nltk_data...\n",
            "[nltk_data]   Package stopwords is already up-to-date!\n",
            "[nltk_data] Downloading package punkt_tab to /root/nltk_data...\n",
            "[nltk_data]   Package punkt_tab is already up-to-date!\n"
          ]
        },
        {
          "output_type": "execute_result",
          "data": {
            "text/plain": [
              "True"
            ]
          },
          "metadata": {},
          "execution_count": 29
        }
      ],
      "source": [
        "import pandas as pd\n",
        "import numpy as np\n",
        "import nltk\n",
        "import re\n",
        "\n",
        "from nltk.corpus import stopwords\n",
        "nltk.download('punkt')\n",
        "nltk.download('stopwords')\n",
        "nltk.download('punkt_tab')"
      ]
    },
    {
      "cell_type": "code",
      "source": [
        "data_dir = '/content/drive/MyDrive/Data Science/NLP/data/cleaned data.csv'\n",
        "data = pd.read_csv(data_dir)"
      ],
      "metadata": {
        "id": "ogkarARJkkW5"
      },
      "execution_count": 22,
      "outputs": []
    },
    {
      "cell_type": "code",
      "source": [
        "data.head(10)"
      ],
      "metadata": {
        "colab": {
          "base_uri": "https://localhost:8080/",
          "height": 363
        },
        "id": "RaVEfKwxk6JR",
        "outputId": "6c2c6616-57e0-4aa0-98ca-02a7b5f9e700"
      },
      "execution_count": 23,
      "outputs": [
        {
          "output_type": "execute_result",
          "data": {
            "text/plain": [
              "                                                Text Classification\n",
              "0                            i didnt feel humiliated        sadness\n",
              "1  i can go from feeling so hopeless to so damned...        sadness\n",
              "2   im grabbing a minute to post i feel greedy wrong          anger\n",
              "3  i am ever feeling nostalgic about the fireplac...           love\n",
              "4                               i am feeling grouchy          anger\n",
              "5  ive been feeling a little burdened lately wasn...        sadness\n",
              "6  ive been taking or milligrams or times recomme...       surprise\n",
              "7  i feel as confused about life as a teenager or...           fear\n",
              "8  i have been with petronas for years i feel tha...            joy\n",
              "9                                i feel romantic too           love"
            ],
            "text/html": [
              "\n",
              "  <div id=\"df-58f57847-5c00-4dbd-9c34-3ae5bd2ac7f3\" class=\"colab-df-container\">\n",
              "    <div>\n",
              "<style scoped>\n",
              "    .dataframe tbody tr th:only-of-type {\n",
              "        vertical-align: middle;\n",
              "    }\n",
              "\n",
              "    .dataframe tbody tr th {\n",
              "        vertical-align: top;\n",
              "    }\n",
              "\n",
              "    .dataframe thead th {\n",
              "        text-align: right;\n",
              "    }\n",
              "</style>\n",
              "<table border=\"1\" class=\"dataframe\">\n",
              "  <thead>\n",
              "    <tr style=\"text-align: right;\">\n",
              "      <th></th>\n",
              "      <th>Text</th>\n",
              "      <th>Classification</th>\n",
              "    </tr>\n",
              "  </thead>\n",
              "  <tbody>\n",
              "    <tr>\n",
              "      <th>0</th>\n",
              "      <td>i didnt feel humiliated</td>\n",
              "      <td>sadness</td>\n",
              "    </tr>\n",
              "    <tr>\n",
              "      <th>1</th>\n",
              "      <td>i can go from feeling so hopeless to so damned...</td>\n",
              "      <td>sadness</td>\n",
              "    </tr>\n",
              "    <tr>\n",
              "      <th>2</th>\n",
              "      <td>im grabbing a minute to post i feel greedy wrong</td>\n",
              "      <td>anger</td>\n",
              "    </tr>\n",
              "    <tr>\n",
              "      <th>3</th>\n",
              "      <td>i am ever feeling nostalgic about the fireplac...</td>\n",
              "      <td>love</td>\n",
              "    </tr>\n",
              "    <tr>\n",
              "      <th>4</th>\n",
              "      <td>i am feeling grouchy</td>\n",
              "      <td>anger</td>\n",
              "    </tr>\n",
              "    <tr>\n",
              "      <th>5</th>\n",
              "      <td>ive been feeling a little burdened lately wasn...</td>\n",
              "      <td>sadness</td>\n",
              "    </tr>\n",
              "    <tr>\n",
              "      <th>6</th>\n",
              "      <td>ive been taking or milligrams or times recomme...</td>\n",
              "      <td>surprise</td>\n",
              "    </tr>\n",
              "    <tr>\n",
              "      <th>7</th>\n",
              "      <td>i feel as confused about life as a teenager or...</td>\n",
              "      <td>fear</td>\n",
              "    </tr>\n",
              "    <tr>\n",
              "      <th>8</th>\n",
              "      <td>i have been with petronas for years i feel tha...</td>\n",
              "      <td>joy</td>\n",
              "    </tr>\n",
              "    <tr>\n",
              "      <th>9</th>\n",
              "      <td>i feel romantic too</td>\n",
              "      <td>love</td>\n",
              "    </tr>\n",
              "  </tbody>\n",
              "</table>\n",
              "</div>\n",
              "    <div class=\"colab-df-buttons\">\n",
              "\n",
              "  <div class=\"colab-df-container\">\n",
              "    <button class=\"colab-df-convert\" onclick=\"convertToInteractive('df-58f57847-5c00-4dbd-9c34-3ae5bd2ac7f3')\"\n",
              "            title=\"Convert this dataframe to an interactive table.\"\n",
              "            style=\"display:none;\">\n",
              "\n",
              "  <svg xmlns=\"http://www.w3.org/2000/svg\" height=\"24px\" viewBox=\"0 -960 960 960\">\n",
              "    <path d=\"M120-120v-720h720v720H120Zm60-500h600v-160H180v160Zm220 220h160v-160H400v160Zm0 220h160v-160H400v160ZM180-400h160v-160H180v160Zm440 0h160v-160H620v160ZM180-180h160v-160H180v160Zm440 0h160v-160H620v160Z\"/>\n",
              "  </svg>\n",
              "    </button>\n",
              "\n",
              "  <style>\n",
              "    .colab-df-container {\n",
              "      display:flex;\n",
              "      gap: 12px;\n",
              "    }\n",
              "\n",
              "    .colab-df-convert {\n",
              "      background-color: #E8F0FE;\n",
              "      border: none;\n",
              "      border-radius: 50%;\n",
              "      cursor: pointer;\n",
              "      display: none;\n",
              "      fill: #1967D2;\n",
              "      height: 32px;\n",
              "      padding: 0 0 0 0;\n",
              "      width: 32px;\n",
              "    }\n",
              "\n",
              "    .colab-df-convert:hover {\n",
              "      background-color: #E2EBFA;\n",
              "      box-shadow: 0px 1px 2px rgba(60, 64, 67, 0.3), 0px 1px 3px 1px rgba(60, 64, 67, 0.15);\n",
              "      fill: #174EA6;\n",
              "    }\n",
              "\n",
              "    .colab-df-buttons div {\n",
              "      margin-bottom: 4px;\n",
              "    }\n",
              "\n",
              "    [theme=dark] .colab-df-convert {\n",
              "      background-color: #3B4455;\n",
              "      fill: #D2E3FC;\n",
              "    }\n",
              "\n",
              "    [theme=dark] .colab-df-convert:hover {\n",
              "      background-color: #434B5C;\n",
              "      box-shadow: 0px 1px 3px 1px rgba(0, 0, 0, 0.15);\n",
              "      filter: drop-shadow(0px 1px 2px rgba(0, 0, 0, 0.3));\n",
              "      fill: #FFFFFF;\n",
              "    }\n",
              "  </style>\n",
              "\n",
              "    <script>\n",
              "      const buttonEl =\n",
              "        document.querySelector('#df-58f57847-5c00-4dbd-9c34-3ae5bd2ac7f3 button.colab-df-convert');\n",
              "      buttonEl.style.display =\n",
              "        google.colab.kernel.accessAllowed ? 'block' : 'none';\n",
              "\n",
              "      async function convertToInteractive(key) {\n",
              "        const element = document.querySelector('#df-58f57847-5c00-4dbd-9c34-3ae5bd2ac7f3');\n",
              "        const dataTable =\n",
              "          await google.colab.kernel.invokeFunction('convertToInteractive',\n",
              "                                                    [key], {});\n",
              "        if (!dataTable) return;\n",
              "\n",
              "        const docLinkHtml = 'Like what you see? Visit the ' +\n",
              "          '<a target=\"_blank\" href=https://colab.research.google.com/notebooks/data_table.ipynb>data table notebook</a>'\n",
              "          + ' to learn more about interactive tables.';\n",
              "        element.innerHTML = '';\n",
              "        dataTable['output_type'] = 'display_data';\n",
              "        await google.colab.output.renderOutput(dataTable, element);\n",
              "        const docLink = document.createElement('div');\n",
              "        docLink.innerHTML = docLinkHtml;\n",
              "        element.appendChild(docLink);\n",
              "      }\n",
              "    </script>\n",
              "  </div>\n",
              "\n",
              "\n",
              "<div id=\"df-aed58d77-6fef-4111-a5b2-26bca86d1d27\">\n",
              "  <button class=\"colab-df-quickchart\" onclick=\"quickchart('df-aed58d77-6fef-4111-a5b2-26bca86d1d27')\"\n",
              "            title=\"Suggest charts\"\n",
              "            style=\"display:none;\">\n",
              "\n",
              "<svg xmlns=\"http://www.w3.org/2000/svg\" height=\"24px\"viewBox=\"0 0 24 24\"\n",
              "     width=\"24px\">\n",
              "    <g>\n",
              "        <path d=\"M19 3H5c-1.1 0-2 .9-2 2v14c0 1.1.9 2 2 2h14c1.1 0 2-.9 2-2V5c0-1.1-.9-2-2-2zM9 17H7v-7h2v7zm4 0h-2V7h2v10zm4 0h-2v-4h2v4z\"/>\n",
              "    </g>\n",
              "</svg>\n",
              "  </button>\n",
              "\n",
              "<style>\n",
              "  .colab-df-quickchart {\n",
              "      --bg-color: #E8F0FE;\n",
              "      --fill-color: #1967D2;\n",
              "      --hover-bg-color: #E2EBFA;\n",
              "      --hover-fill-color: #174EA6;\n",
              "      --disabled-fill-color: #AAA;\n",
              "      --disabled-bg-color: #DDD;\n",
              "  }\n",
              "\n",
              "  [theme=dark] .colab-df-quickchart {\n",
              "      --bg-color: #3B4455;\n",
              "      --fill-color: #D2E3FC;\n",
              "      --hover-bg-color: #434B5C;\n",
              "      --hover-fill-color: #FFFFFF;\n",
              "      --disabled-bg-color: #3B4455;\n",
              "      --disabled-fill-color: #666;\n",
              "  }\n",
              "\n",
              "  .colab-df-quickchart {\n",
              "    background-color: var(--bg-color);\n",
              "    border: none;\n",
              "    border-radius: 50%;\n",
              "    cursor: pointer;\n",
              "    display: none;\n",
              "    fill: var(--fill-color);\n",
              "    height: 32px;\n",
              "    padding: 0;\n",
              "    width: 32px;\n",
              "  }\n",
              "\n",
              "  .colab-df-quickchart:hover {\n",
              "    background-color: var(--hover-bg-color);\n",
              "    box-shadow: 0 1px 2px rgba(60, 64, 67, 0.3), 0 1px 3px 1px rgba(60, 64, 67, 0.15);\n",
              "    fill: var(--button-hover-fill-color);\n",
              "  }\n",
              "\n",
              "  .colab-df-quickchart-complete:disabled,\n",
              "  .colab-df-quickchart-complete:disabled:hover {\n",
              "    background-color: var(--disabled-bg-color);\n",
              "    fill: var(--disabled-fill-color);\n",
              "    box-shadow: none;\n",
              "  }\n",
              "\n",
              "  .colab-df-spinner {\n",
              "    border: 2px solid var(--fill-color);\n",
              "    border-color: transparent;\n",
              "    border-bottom-color: var(--fill-color);\n",
              "    animation:\n",
              "      spin 1s steps(1) infinite;\n",
              "  }\n",
              "\n",
              "  @keyframes spin {\n",
              "    0% {\n",
              "      border-color: transparent;\n",
              "      border-bottom-color: var(--fill-color);\n",
              "      border-left-color: var(--fill-color);\n",
              "    }\n",
              "    20% {\n",
              "      border-color: transparent;\n",
              "      border-left-color: var(--fill-color);\n",
              "      border-top-color: var(--fill-color);\n",
              "    }\n",
              "    30% {\n",
              "      border-color: transparent;\n",
              "      border-left-color: var(--fill-color);\n",
              "      border-top-color: var(--fill-color);\n",
              "      border-right-color: var(--fill-color);\n",
              "    }\n",
              "    40% {\n",
              "      border-color: transparent;\n",
              "      border-right-color: var(--fill-color);\n",
              "      border-top-color: var(--fill-color);\n",
              "    }\n",
              "    60% {\n",
              "      border-color: transparent;\n",
              "      border-right-color: var(--fill-color);\n",
              "    }\n",
              "    80% {\n",
              "      border-color: transparent;\n",
              "      border-right-color: var(--fill-color);\n",
              "      border-bottom-color: var(--fill-color);\n",
              "    }\n",
              "    90% {\n",
              "      border-color: transparent;\n",
              "      border-bottom-color: var(--fill-color);\n",
              "    }\n",
              "  }\n",
              "</style>\n",
              "\n",
              "  <script>\n",
              "    async function quickchart(key) {\n",
              "      const quickchartButtonEl =\n",
              "        document.querySelector('#' + key + ' button');\n",
              "      quickchartButtonEl.disabled = true;  // To prevent multiple clicks.\n",
              "      quickchartButtonEl.classList.add('colab-df-spinner');\n",
              "      try {\n",
              "        const charts = await google.colab.kernel.invokeFunction(\n",
              "            'suggestCharts', [key], {});\n",
              "      } catch (error) {\n",
              "        console.error('Error during call to suggestCharts:', error);\n",
              "      }\n",
              "      quickchartButtonEl.classList.remove('colab-df-spinner');\n",
              "      quickchartButtonEl.classList.add('colab-df-quickchart-complete');\n",
              "    }\n",
              "    (() => {\n",
              "      let quickchartButtonEl =\n",
              "        document.querySelector('#df-aed58d77-6fef-4111-a5b2-26bca86d1d27 button');\n",
              "      quickchartButtonEl.style.display =\n",
              "        google.colab.kernel.accessAllowed ? 'block' : 'none';\n",
              "    })();\n",
              "  </script>\n",
              "</div>\n",
              "\n",
              "    </div>\n",
              "  </div>\n"
            ],
            "application/vnd.google.colaboratory.intrinsic+json": {
              "type": "dataframe",
              "variable_name": "data",
              "summary": "{\n  \"name\": \"data\",\n  \"rows\": 16963,\n  \"fields\": [\n    {\n      \"column\": \"Text\",\n      \"properties\": {\n        \"dtype\": \"string\",\n        \"num_unique_values\": 16963,\n        \"samples\": [\n          \"i feel like i just doomed myself\",\n          \"i want is to be happy and to feel loved\",\n          \"i dun answer him i feel very impolite but if i do answer him he will talks to u i dunno wat to do\"\n        ],\n        \"semantic_type\": \"\",\n        \"description\": \"\"\n      }\n    },\n    {\n      \"column\": \"Classification\",\n      \"properties\": {\n        \"dtype\": \"category\",\n        \"num_unique_values\": 6,\n        \"samples\": [\n          \"sadness\",\n          \"anger\",\n          \"joy\"\n        ],\n        \"semantic_type\": \"\",\n        \"description\": \"\"\n      }\n    }\n  ]\n}"
            }
          },
          "metadata": {},
          "execution_count": 23
        }
      ]
    },
    {
      "cell_type": "code",
      "source": [
        "data['Classification'].value_counts()"
      ],
      "metadata": {
        "colab": {
          "base_uri": "https://localhost:8080/",
          "height": 303
        },
        "id": "k4YJAbBbk67O",
        "outputId": "bb087ba6-e05e-4aae-f619-6a97ef300cf1"
      },
      "execution_count": 24,
      "outputs": [
        {
          "output_type": "execute_result",
          "data": {
            "text/plain": [
              "Classification\n",
              "joy         5822\n",
              "sadness     4866\n",
              "anger       2244\n",
              "fear        2076\n",
              "love        1350\n",
              "surprise     605\n",
              "Name: count, dtype: int64"
            ],
            "text/html": [
              "<div>\n",
              "<style scoped>\n",
              "    .dataframe tbody tr th:only-of-type {\n",
              "        vertical-align: middle;\n",
              "    }\n",
              "\n",
              "    .dataframe tbody tr th {\n",
              "        vertical-align: top;\n",
              "    }\n",
              "\n",
              "    .dataframe thead th {\n",
              "        text-align: right;\n",
              "    }\n",
              "</style>\n",
              "<table border=\"1\" class=\"dataframe\">\n",
              "  <thead>\n",
              "    <tr style=\"text-align: right;\">\n",
              "      <th></th>\n",
              "      <th>count</th>\n",
              "    </tr>\n",
              "    <tr>\n",
              "      <th>Classification</th>\n",
              "      <th></th>\n",
              "    </tr>\n",
              "  </thead>\n",
              "  <tbody>\n",
              "    <tr>\n",
              "      <th>joy</th>\n",
              "      <td>5822</td>\n",
              "    </tr>\n",
              "    <tr>\n",
              "      <th>sadness</th>\n",
              "      <td>4866</td>\n",
              "    </tr>\n",
              "    <tr>\n",
              "      <th>anger</th>\n",
              "      <td>2244</td>\n",
              "    </tr>\n",
              "    <tr>\n",
              "      <th>fear</th>\n",
              "      <td>2076</td>\n",
              "    </tr>\n",
              "    <tr>\n",
              "      <th>love</th>\n",
              "      <td>1350</td>\n",
              "    </tr>\n",
              "    <tr>\n",
              "      <th>surprise</th>\n",
              "      <td>605</td>\n",
              "    </tr>\n",
              "  </tbody>\n",
              "</table>\n",
              "</div><br><label><b>dtype:</b> int64</label>"
            ]
          },
          "metadata": {},
          "execution_count": 24
        }
      ]
    },
    {
      "cell_type": "markdown",
      "source": [
        "## Data Processing"
      ],
      "metadata": {
        "id": "4GlAIwRblZhj"
      }
    },
    {
      "cell_type": "code",
      "source": [
        "sentences = data['Text'].values.tolist()\n",
        "labels = data['Classification'].values.tolist()"
      ],
      "metadata": {
        "id": "wENPUSy6lT8i"
      },
      "execution_count": 25,
      "outputs": []
    },
    {
      "cell_type": "code",
      "source": [
        "sentences[:10]"
      ],
      "metadata": {
        "colab": {
          "base_uri": "https://localhost:8080/"
        },
        "id": "DAZZRoXXlpVp",
        "outputId": "78141b40-0a14-47a4-d9e4-21fc988461cf"
      },
      "execution_count": 26,
      "outputs": [
        {
          "output_type": "execute_result",
          "data": {
            "text/plain": [
              "['i didnt feel humiliated',\n",
              " 'i can go from feeling so hopeless to so damned hopeful just from being around someone who cares and is awake',\n",
              " 'im grabbing a minute to post i feel greedy wrong',\n",
              " 'i am ever feeling nostalgic about the fireplace i will know that it is still on the property',\n",
              " 'i am feeling grouchy',\n",
              " 'ive been feeling a little burdened lately wasnt sure why that was',\n",
              " 'ive been taking or milligrams or times recommended amount and ive fallen asleep a lot faster but i also feel like so funny',\n",
              " 'i feel as confused about life as a teenager or as jaded as a year old man',\n",
              " 'i have been with petronas for years i feel that petronas has performed well and made a huge profit',\n",
              " 'i feel romantic too']"
            ]
          },
          "metadata": {},
          "execution_count": 26
        }
      ]
    },
    {
      "cell_type": "code",
      "source": [
        "# converting to lower case\n",
        "sentences = [token.lower() for token in sentences]"
      ],
      "metadata": {
        "id": "-qITSBb3mpbS"
      },
      "execution_count": 10,
      "outputs": []
    },
    {
      "cell_type": "code",
      "source": [
        "# tokenize\n",
        "sentences = [sentence.split(' ') for sentence in sentences]"
      ],
      "metadata": {
        "id": "-OCKX2CDnWBk"
      },
      "execution_count": 31,
      "outputs": []
    },
    {
      "cell_type": "code",
      "source": [
        "# removing stopwords\n",
        "eng_stopwords = stopwords.words('english')\n",
        "\n",
        "sentences = [[token for token in sentence if token not in eng_stopwords] for sentence in sentences]"
      ],
      "metadata": {
        "id": "j24_zvwnpaXN"
      },
      "execution_count": 34,
      "outputs": []
    },
    {
      "cell_type": "code",
      "source": [
        "sentences[5]"
      ],
      "metadata": {
        "colab": {
          "base_uri": "https://localhost:8080/"
        },
        "id": "jpWunXVtncuF",
        "outputId": "382fdf3b-1d55-4b0b-c976-9380744a37e2"
      },
      "execution_count": 37,
      "outputs": [
        {
          "output_type": "execute_result",
          "data": {
            "text/plain": [
              "['ive', 'feeling', 'little', 'burdened', 'lately', 'wasnt', 'sure']"
            ]
          },
          "metadata": {},
          "execution_count": 37
        }
      ]
    },
    {
      "cell_type": "code",
      "source": [
        "# Stemming\n",
        "\n",
        "from nltk.stem import PorterStemmer\n",
        "\n",
        "ps = PorterStemmer()\n",
        "\n",
        "sentences = [[ps.stem(token) for token in sentence] for sentence in sentences]"
      ],
      "metadata": {
        "id": "Hhl3Vdlq89xv"
      },
      "execution_count": 38,
      "outputs": []
    },
    {
      "cell_type": "code",
      "source": [
        "# joining tokens\n",
        "sentences = [' '.join(sentence) for sentence in sentences]"
      ],
      "metadata": {
        "id": "ENyQTbkR9UsF"
      },
      "execution_count": 41,
      "outputs": []
    },
    {
      "cell_type": "code",
      "source": [
        "sentences[1]"
      ],
      "metadata": {
        "colab": {
          "base_uri": "https://localhost:8080/",
          "height": 36
        },
        "id": "ypARyzhE9kYs",
        "outputId": "3d7b7cdd-d4af-436a-8942-43bcfba18095"
      },
      "execution_count": 44,
      "outputs": [
        {
          "output_type": "execute_result",
          "data": {
            "text/plain": [
              "'go feel hopeless damn hope around someon care awak'"
            ],
            "application/vnd.google.colaboratory.intrinsic+json": {
              "type": "string"
            }
          },
          "metadata": {},
          "execution_count": 44
        }
      ]
    },
    {
      "cell_type": "markdown",
      "source": [
        "## Creating a Vocabulary"
      ],
      "metadata": {
        "id": "a1k3yInwEZKQ"
      }
    },
    {
      "cell_type": "code",
      "source": [
        "# Creating a vocabulary dictionary\n",
        "from collections import defaultdict\n",
        "\n",
        "vocab = defaultdict(int)\n",
        "\n",
        "for sentence in sentences:\n",
        "  words = re.findall(r'\\b\\w+\\b', sentence)\n",
        "  for word in words:\n",
        "    vocab [word] += 1\n",
        "\n",
        "sorted_vocab = dict(sorted(vocab.items(), key=lambda x: x[1], reverse=True))\n",
        "\n",
        "print(sorted_vocab)"
      ],
      "metadata": {
        "colab": {
          "base_uri": "https://localhost:8080/"
        },
        "id": "0-iJTaAP9y-W",
        "outputId": "b1cdb353-e758-4d5a-9ee2-05b256420b67"
      },
      "execution_count": 48,
      "outputs": [
        {
          "output_type": "stream",
          "name": "stdout",
          "text": [
            "{'feel': 17959, 'like': 3148, 'im': 2552, 'get': 1043, 'time': 1019, 'know': 986, 'make': 983, 'realli': 972, 'go': 934, 'want': 896, 'love': 827, 'littl': 786, 'think': 758, 'peopl': 712, 'day': 711, 'one': 690, 'thing': 673, 'would': 669, 'even': 631, 'ive': 623, 'still': 622, 'life': 567, 'way': 560, 'bit': 556, 'need': 542, 'someth': 531, 'much': 520, 'work': 501, 'dont': 496, 'could': 484, 'start': 476, 'say': 459, 'tri': 433, 'look': 428, 'back': 426, 'see': 422, 'good': 422, 'pretti': 415, 'come': 380, 'right': 378, 'alway': 376, 'help': 360, 'today': 360, 'also': 358, 'year': 356, 'friend': 349, 'take': 342, 'around': 323, 'use': 322, 'person': 317, 'cant': 314, 'well': 303, 'made': 303, 'happi': 299, 'though': 295, 'live': 293, 'hate': 290, 'got': 289, 'didnt': 285, 'felt': 283, 'someon': 277, 'never': 274, 'thought': 274, 'write': 273, 'hope': 272, 'lot': 271, 'week': 270, 'quit': 264, 'find': 262, 'mani': 262, 'read': 261, 'everi': 259, 'sure': 258, 'less': 255, 'enough': 243, 'anyth': 242, 'kind': 240, 'home': 238, 'support': 237, 'ever': 233, 'away': 233, 'long': 233, 'left': 232, 'last': 231, 'talk': 230, 'better': 230, 'give': 227, 'actual': 225, 'rememb': 220, 'everyth': 220, 'tell': 217, 'wonder': 217, 'sometim': 217, 'keep': 216, 'let': 214, 'without': 214, 'http': 214, 'accept': 213, 'care': 212, 'world': 210, 'amaz': 209, 'end': 205, 'new': 201, 'famili': 201, 'gener': 200, 'blog': 200, 'post': 198, 'stress': 198, 'abl': 193, 'emot': 193, 'miss': 192, 'put': 191, 'first': 189, 'moment': 189, 'said': 183, 'bad': 180, 'happen': 178, 'leav': 177, 'rather': 176, 'href': 176, 'place': 175, 'alreadi': 171, 'alon': 170, 'pain': 170, 'seem': 170, 'book': 169, 'heart': 169, 'hurt': 169, 'ask': 167, 'ill': 167, 'part': 167, 'other': 166, 'sad': 165, 'excit': 165, 'strang': 165, 'call': 165, 'overwhelm': 164, 'walk': 164, 'mean': 163, 'stop': 161, 'complet': 160, 'run': 157, 'point': 157, 'sinc': 157, 'night': 157, 'thank': 157, 'noth': 156, 'morn': 154, 'two': 154, 'girl': 154, 'may': 153, 'bless': 153, 'irrit': 152, 'yet': 152, 'us': 151, 'toward': 150, 'might': 149, 'enjoy': 149, 'often': 146, 'share': 145, 'understand': 145, 'learn': 144, 'watch': 144, 'weird': 143, 'word': 142, 'sweet': 142, 'school': 141, 'sleep': 141, 'late': 140, 'lost': 139, 'reason': 139, 'anyon': 138, 'passion': 138, 'move': 137, 'guess': 137, 'import': 136, 'face': 136, 'wrong': 135, 'becom': 135, 'whole': 133, 'chang': 133, 'hour': 133, 'went': 133, 'sit': 132, 'comfort': 132, 'anoth': 132, 'bodi': 131, 'almost': 131, 'month': 131, 'everyon': 131, 'done': 130, 'id': 129, 'old': 128, 'mess': 128, 'believ': 128, 'hard': 126, 'play': 126, 'angri': 124, 'mayb': 124, 'content': 123, 'hand': 122, 'depress': 122, 'els': 121, 'self': 121, 'show': 121, 'kid': 121, 'especi': 121, 'next': 121, 'fact': 120, 'mind': 120, 'joy': 120, 'posit': 119, 'great': 118, 'wish': 118, 'tire': 118, 'free': 118, 'eat': 117, 'cold': 117, 'helpless': 117, 'realiz': 116, 'class': 116, 'frustrat': 115, 'sens': 115, 'afraid': 114, 'agit': 114, 'must': 114, 'decid': 113, 'final': 113, 'guy': 113, 'least': 112, 'past': 111, 'confid': 111, 'hear': 110, 'fear': 110, 'total': 110, 'sort': 110, 'experi': 109, 'usual': 109, 'found': 109, 'pressur': 109, 'head': 109, 'turn': 107, 'stori': 107, 'differ': 107, 'product': 107, 'anxiou': 107, 'job': 106, 'real': 106, 'best': 105, 'insid': 104, 'stay': 103, 'glad': 101, 'trust': 101, 'that': 101, 'nervou': 101, 'terribl': 101, 'eye': 100, 'strong': 100, 'special': 99, 'situat': 99, 'lone': 99, 'wear': 99, 'pleas': 99, 'success': 98, 'ok': 98, 'cri': 98, 'told': 98, 'far': 98, 'respect': 98, 'listen': 98, 'slightli': 98, 'perfect': 97, 'extrem': 97, 'probabl': 97, 'wait': 97, 'inspir': 96, 'continu': 96, 'hous': 96, 'wasnt': 95, 'low': 95, 'safe': 95, 'idea': 95, 'appreci': 95, 'peac': 95, 'bother': 95, 'particularli': 94, 'sorri': 94, 'admit': 94, 'exhaust': 94, 'annoy': 94, 'came': 94, 'child': 93, 'suppos': 93, 'guilti': 93, 'possibl': 92, 'ach': 92, 'horribl': 92, 'scare': 92, 'proud': 92, 'cool': 91, 'caus': 90, 'matter': 90, 'spend': 90, 'mother': 90, 'valu': 89, 'creativ': 88, 'surpris': 88, 'relax': 88, 'amp': 88, 'begin': 88, 'disappoint': 87, 'children': 87, 'close': 87, 'open': 87, 'babi': 86, 'song': 86, 'room': 86, 'man': 85, 'worri': 85, 'finish': 85, 'fine': 85, 'truli': 85, 'burden': 84, 'expect': 84, 'beauti': 84, 'futur': 84, 'talent': 84, 'terrifi': 84, 'ignor': 84, 'confus': 83, 'tortur': 83, 'parent': 83, 'miser': 83, 'stuff': 83, 'relationship': 83, 'hot': 82, 'control': 82, 'allow': 82, 'bed': 81, 'aw': 81, 'awkward': 81, 'rest': 81, 'embarrass': 80, 'plan': 80, 'asham': 80, 'belov': 80, 'spent': 80, 'impress': 79, 'wont': 79, 'calm': 79, 'big': 79, 'resent': 78, 'dream': 78, 'convinc': 78, 'togeth': 78, 'empti': 78, 'satisfi': 78, 'somewhat': 78, 'havent': 77, 'woke': 77, 'bore': 77, 'doesnt': 77, 'energi': 76, 'brave': 76, 'mom': 76, 'meet': 76, 'pass': 76, 'uncomfort': 76, 'unhappi': 76, 'problem': 76, 'suffer': 75, 'cannot': 75, 'offend': 75, 'determin': 75, 'faith': 74, 'lucki': 74, 'absolut': 74, 'anymor': 74, 'ago': 74, 'side': 73, 'question': 73, 'vulner': 73, 'full': 73, 'unsur': 72, 'knew': 72, 'insecur': 72, 'dull': 72, 'letharg': 72, 'lose': 72, 'wake': 72, 'numb': 72, 'mad': 72, 'greedi': 71, 'funni': 71, 'reject': 71, 'longer': 71, 'somehow': 71, 'devast': 71, 'music': 71, 'super': 71, 'follow': 71, 'set': 71, 'popular': 70, 'doubt': 70, 'struggl': 70, 'homesick': 70, 'rich': 70, 'nice': 70, 'sick': 70, 'isol': 70, 'minut': 69, 'smile': 69, 'money': 69, 'regret': 69, 'incred': 69, 'couldnt': 69, 'food': 69, 'cute': 69, 'hopeless': 68, 'discourag': 68, 'rush': 68, 'instead': 68, 'distract': 68, 'uncertain': 68, 'melancholi': 68, 'troubl': 68, 'selfish': 67, 'honor': 67, 'woman': 67, 'insult': 67, 'comment': 67, 'useless': 67, 'soon': 66, 'fun': 66, 'jealou': 66, 'hold': 66, 'normal': 66, 'welcom': 66, 'preciou': 65, 'rude': 65, 'bring': 65, 'assur': 65, 'hair': 65, 'shi': 65, 'definit': 65, 'damag': 65, 'game': 65, 'movi': 65, 'stand': 65, 'pleasant': 65, 'coupl': 64, 'shaken': 64, 'fall': 64, 'curiou': 64, 'groggi': 64, 'shock': 64, 'unwelcom': 64, 'reluct': 64, 'sincer': 64, 'buy': 64, 'punish': 64, 'women': 64, 'breath': 64, 'issu': 64, 'divin': 63, 'howev': 63, 'small': 63, 'gorgeou': 63, 'violent': 63, 'manag': 63, 'touch': 63, 'intimid': 63, 'danger': 63, 'sympathet': 63, 'weekend': 63, 'gloomi': 63, 'deal': 63, 'optimist': 63, 'boy': 63, 'bitter': 62, 'kinda': 62, 'adventur': 62, 'whether': 62, 'simpli': 62, 'cranki': 62, 'beaten': 62, 'drain': 62, 'creat': 62, 'charact': 62, 'remind': 62, 'defeat': 61, 'truth': 61, 'apprehens': 61, 'outsid': 61, 'disgust': 61, 'second': 61, 'your': 61, 'artist': 61, 'valuabl': 61, 'tonight': 61, 'type': 60, 'dissatisfi': 60, 'began': 60, 'pictur': 60, 'took': 60, 'energet': 60, 'resolv': 60, 'physic': 60, 'disturb': 60, 'husband': 60, 'thrill': 60, 'connect': 60, 'www': 60, 'dirti': 60, 'mine': 59, 'readi': 59, 'vain': 59, 'blank': 59, 'order': 59, 'upset': 59, 'festiv': 58, 'consid': 58, 'present': 58, 'die': 58, 'innoc': 58, 'there': 58, 'student': 58, 'break': 58, 'hesit': 58, 'smart': 58, 'interest': 58, 'threaten': 58, 'yesterday': 58, 'dumb': 58, 'speak': 58, 'heartbroken': 58, 'fake': 57, 'list': 57, 'either': 57, 'reliev': 57, 'friendli': 57, 'honestli': 57, 'express': 57, 'lack': 57, 'paranoid': 57, 'lousi': 57, 'cours': 56, 'she': 56, 'dishearten': 56, 'front': 56, 'clever': 56, 'notic': 56, 'act': 56, 'virtuou': 56, 'humili': 55, 'nostalg': 55, 'pathet': 55, 'superior': 55, 'gentl': 55, 'arm': 55, 'three': 55, 'gone': 55, 'certain': 55, 'crappi': 55, 'tender': 55, 'busi': 55, 'commun': 55, 'he': 55, 'shaki': 55, 'worthwhil': 54, 'eager': 54, 'mellow': 54, 'weight': 54, 'project': 54, 'rotten': 54, 'unfortun': 54, 'half': 54, 'summer': 54, 'countri': 54, 'fit': 53, 'unimport': 53, 'result': 53, 'piec': 53, 'worthless': 53, 'high': 53, 'honour': 53, 'whatev': 53, 'restless': 53, 'impati': 53, 'broke': 53, 'photo': 53, 'treat': 53, 'inadequ': 53, 'name': 53, 'lie': 53, 'explain': 52, 'entir': 52, 'christma': 52, 'sound': 52, 'mood': 52, 'state': 52, 'fantast': 52, 'needi': 52, 'receiv': 52, 'decis': 52, 'delici': 52, 'whenev': 52, 'pick': 52, 'intellig': 52, 'mention': 52, 'step': 51, 'group': 51, 'grate': 51, 'rebelli': 51, 'carefre': 51, 'bitchi': 51, 'social': 51, 'privileg': 51, 'behind': 51, 'skin': 50, 'young': 50, 'anger': 50, 'car': 50, 'imagin': 50, 'depriv': 50, 'abus': 50, 'true': 50, 'singl': 50, 'human': 50, 'desir': 50, 'naughti': 50, 'choic': 50, 'lame': 50, 'age': 50, 'team': 50, 'discont': 50, 'doom': 50, 'romant': 49, 'etc': 49, 'opportun': 49, 'race': 49, 'isnt': 49, 'light': 49, 'deep': 49, 'frighten': 49, 'although': 49, 'petti': 49, 'listless': 48, 'given': 48, 'pull': 48, 'exactli': 48, 'taken': 48, 'except': 48, 'reach': 48, 'loyal': 48, 'phone': 48, 'hit': 48, 'idiot': 48, 'later': 48, 'reassur': 47, 'delight': 47, 'trip': 47, 'tear': 47, 'invigor': 47, 'chanc': 47, 'studi': 47, 'recent': 47, 'clean': 47, 'grumpi': 47, 'challeng': 47, 'men': 47, 'answer': 46, 'saw': 46, 'fabul': 46, 'unlov': 46, 'line': 46, 'style': 46, 'parti': 46, 'respons': 46, 'terrif': 46, 'train': 46, 'stubborn': 46, 'event': 46, 'suddenli': 46, 'offer': 46, 'reader': 46, 'foolish': 46, 'jade': 45, 'effort': 45, 'view': 45, 'within': 45, 'fond': 45, 'spirit': 45, 'convers': 45, 'sat': 45, 'gift': 44, 'pay': 44, 'level': 44, 'vital': 44, 'natur': 44, 'current': 44, 'forward': 44, 'along': 44, 'stomach': 44, 'grow': 44, 'healthi': 44, 'drive': 44, 'delic': 44, 'mental': 44, 'shame': 44, 'return': 43, 'memori': 43, 'holiday': 43, 'cut': 43, 'water': 43, 'submiss': 43, 'ecstat': 43, 'met': 43, 'smug': 42, 'area': 42, 'fill': 42, 'art': 42, 'triumphant': 42, 'constantli': 42, 'casual': 42, 'color': 42, 'drink': 42, 'describ': 42, 'oh': 42, 'ungrat': 42, 'effect': 41, 'father': 41, 'laugh': 41, 'easi': 41, 'enviou': 41, 'deepli': 41, 'cloth': 41, 'top': 41, 'amount': 40, 'seen': 40, 'figur': 40, 'space': 40, 'fan': 40, 'kick': 40, 'upon': 40, 'attent': 40, 'dress': 40, 'frantic': 40, 'focu': 40, 'fight': 40, 'ye': 40, 'add': 40, 'date': 40, 'loss': 40, 'amus': 39, 'sever': 39, 'goe': 39, 'dark': 39, 'despit': 39, 'wouldnt': 39, 'danc': 39, 'push': 39, 'abil': 39, 'voic': 39, 'rel': 39, 'due': 39, 'activ': 39, 'entertain': 39, 'kept': 39, 'worth': 39, 'power': 39, 'sentiment': 38, 'distress': 38, 'season': 38, 'warm': 38, 'practic': 38, 'air': 38, 'gain': 38, 'tomorrow': 38, 'death': 38, 'forget': 38, 'four': 38, 'drop': 38, 'throw': 38, 'fail': 38, 'shop': 38, 'concern': 38, 'news': 38, 'skeptic': 37, 'deserv': 37, 'unpleas': 37, 'src': 37, 'son': 37, 'perhap': 37, 'visit': 37, 'quickli': 37, 'check': 37, 'known': 37, 'tragic': 37, 'ground': 37, 'messi': 37, 'strongli': 37, 'heard': 36, 'sister': 36, 'short': 36, 'serious': 36, 'door': 36, 'across': 36, 'dad': 36, 'boyfriend': 36, 'anyway': 36, 'red': 36, 'suspici': 36, 'neg': 36, 'disillus': 36, 'earli': 36, 'inform': 36, 'achiev': 35, 'motiv': 35, 'celebr': 35, 'glamor': 35, 'ad': 35, 'neglect': 35, 'case': 35, 'titl': 35, 'keen': 35, 'accomplish': 35, 'wors': 35, 'utterli': 35, 'daze': 35, 'charm': 35, 'number': 35, 'brain': 35, 'goal': 35, 'attempt': 35, 'provid': 35, 'film': 35, 'compani': 34, 'victim': 34, 'colleg': 34, 'presenc': 34, 'save': 34, 'fairli': 34, 'experienc': 34, 'subject': 34, 'crazi': 34, 'univers': 34, 'everyday': 33, 'tree': 33, 'dog': 33, 'offic': 33, 'tend': 33, 'process': 33, 'gave': 33, 'health': 33, 'theyr': 33, 'leg': 33, 'remors': 33, 'develop': 33, 'church': 33, 'perform': 32, 'huge': 32, 'paint': 32, 'prepar': 32, 'indecis': 32, 'gotten': 32, 'devot': 32, 'exercis': 32, 'choos': 32, 'belong': 32, 'avoid': 32, 'finger': 32, 'strength': 32, 'relat': 32, 'writer': 31, 'anxieti': 31, 'catch': 31, 'complac': 31, 'freak': 31, 'build': 31, 'easili': 31, 'teacher': 31, 'lazi': 31, 'near': 31, 'discuss': 31, 'guilt': 31, 'realis': 31, 'awar': 31, 'wrote': 30, 'mostli': 30, 'imag': 30, 'blame': 30, 'handl': 30, 'img': 30, 'hostil': 30, 'apart': 30, 'shake': 30, 'equal': 30, 'simpl': 30, 'design': 30, 'betray': 30, 'folk': 30, 'lesson': 30, 'seri': 30, 'career': 30, 'action': 30, 'paper': 30, 'weather': 30, 'lead': 30, 'progress': 30, 'hide': 30, 'cover': 30, 'forc': 30, 'comput': 30, 'protect': 29, 'sun': 29, 'fulli': 29, 'five': 29, 'member': 29, 'certainli': 29, 'wall': 29, 'educ': 29, 'citi': 29, 'written': 29, 'tast': 29, 'page': 29, 'author': 29, 'knowledg': 29, 'distraught': 29, 'desper': 29, 'kiss': 29, 'admir': 29, 'daili': 29, 'pray': 29, 'sociabl': 29, 'search': 29, 'dinner': 29, 'direct': 29, 'mile': 29, 'chest': 29, 'soul': 29, 'arriv': 29, 'grouchi': 28, 'inhibit': 28, 'somewher': 28, 'brother': 28, 'involv': 28, 'black': 28, 'ahead': 28, 'lord': 28, 'onto': 28, 'brought': 28, 'shouldnt': 28, 'teach': 28, 'settl': 28, 'honest': 28, 'extra': 28, 'spot': 28, 'daughter': 28, 'media': 28, 'eleg': 27, 'u': 27, 'throughout': 27, 'exam': 27, 'middl': 27, 'what': 27, 'beat': 27, 'compassion': 27, 'wast': 27, 'compar': 27, 'pop': 27, 'public': 27, 'test': 27, 'fault': 27, 'path': 27, 'base': 27, 'gonna': 27, 'difficult': 27, 'immedi': 27, 'hang': 27, 'remain': 27, 'travel': 26, 'heal': 26, 'skill': 26, 'specif': 26, 'card': 26, 'favorit': 26, 'window': 26, 'wed': 26, 'clear': 26, 'enter': 26, 'assault': 26, 'opinion': 26, 'link': 26, 'pregnant': 26, 'mark': 26, 'graciou': 26, 'cheer': 26, 'sunday': 26, 'audienc': 26, 'term': 26, 'smell': 26, 'feet': 26, 'beyond': 26, 'system': 26, 'weak': 26, 'wanna': 26, 'stuck': 26, 'slowli': 26, 'consider': 26, 'carri': 26, 'target': 26, 'bag': 25, 'street': 25, 'discov': 25, 'cultur': 25, 'suggest': 25, 'obnoxi': 25, 'outrag': 25, 'affect': 25, 'afternoon': 25, 'forgiv': 25, 'intent': 25, 'freedom': 25, 'cross': 25, 'uptight': 25, 'fix': 25, 'ladi': 25, 'genuin': 25, 'win': 25, 'wife': 25, 'complain': 25, 'focus': 25, 'marri': 25, 'white': 25, 'weepi': 25, 'blue': 25, 'lay': 24, 'rare': 24, 'arent': 24, 'afterward': 24, 'lol': 24, 'okay': 24, 'earlier': 24, 'headach': 24, 'site': 24, 'video': 24, 'shoe': 24, 'sarcast': 24, 'period': 24, 'larg': 24, 'appear': 24, 'birthday': 24, 'th': 24, 'messag': 24, 'tv': 24, 'jolli': 24, 'silli': 24, 'program': 24, 'servic': 24, 'cook': 24, 'review': 24, 'facebook': 24, 'ice': 24, 'individu': 24, 'teenag': 23, 'dead': 23, 'depend': 23, 'earth': 23, 'fli': 23, 'workout': 23, 'badli': 23, 'foot': 23, 'contribut': 23, 'blood': 23, 'text': 23, 'anim': 23, 'store': 23, 'includ': 23, 'episod': 23, 'harder': 23, 'improv': 23, 'balanc': 23, 'winter': 23, 'partner': 23, 'intens': 23, 'girlfriend': 23, 'societi': 23, 'journey': 23, 'straight': 23, 'sing': 23, 'meant': 23, 'scream': 23, 'letter': 23, 'embrac': 23, 'similar': 23, 'abandon': 23, 'rise': 23, 'reflect': 23, 'sign': 22, 'basic': 22, 'bought': 22, 'rain': 22, 'bounci': 22, 'forev': 22, 'reaction': 22, 'ride': 22, 'road': 22, 'stun': 22, 'doctor': 22, 'older': 22, 'meal': 22, 'local': 22, 'flower': 22, 'patient': 22, 'feed': 22, 'awesom': 22, 'cycl': 22, 'explor': 22, 'co': 22, 'distanc': 22, 'realiti': 22, 'bare': 22, 'count': 22, 'broken': 22, 'mouth': 22, 'b': 22, 'mix': 22, 'gut': 22, 'polit': 22, 'spiritu': 21, 'perfectli': 21, 'quiet': 21, 'onlin': 21, 'friday': 21, 'sky': 21, 'shut': 21, 'unabl': 21, 'purpos': 21, 'non': 21, 'custom': 21, 'draw': 21, 'fulfil': 21, 'size': 21, 'mistak': 21, 'six': 21, 'environ': 21, 'join': 21, 'attend': 21, 'detail': 21, 'alarm': 21, 'email': 21, 'resign': 21, 'surround': 21, 'sore': 21, 'tad': 21, 'option': 21, 'task': 21, 'besid': 21, 'scene': 21, 'lip': 21, 'potenti': 21, 'muscl': 21, 'report': 21, 'awak': 20, 'collect': 20, 'encourag': 20, 'grace': 20, 'ate': 20, 'nearli': 20, 'form': 20, 'rais': 20, 'releas': 20, 'cat': 20, 'repress': 20, 'key': 20, 'particular': 20, 'secur': 20, 'pride': 20, 'judg': 20, 'price': 20, 'crave': 20, 'agre': 20, 'christian': 20, 'bike': 20, 'unless': 20, 'slow': 20, 'player': 20, 'treasur': 20, 'blogger': 20, 'exist': 20, 'prefer': 20, 'refus': 20, 'internet': 20, 'fearless': 20, 'ear': 20, 'jump': 20, 'note': 20, 'saturday': 20, 'dread': 20, 'pack': 20, 'contact': 20, 'aliv': 19, 'stick': 19, 'shower': 19, 'wash': 19, 'soft': 19, 'odd': 19, 'american': 19, 'main': 19, 'tool': 19, 'monday': 19, 'ridicul': 19, 'outfit': 19, 'sensit': 19, 'field': 19, 'recogn': 19, 'regard': 19, 'heartless': 19, 'market': 19, 'shoulder': 19, 'glass': 19, 'behavior': 19, 'pretend': 19, 'chocol': 19, 'pound': 19, 'kill': 19, 'roll': 19, 'friendship': 19, 'serv': 19, 'pregnanc': 19, 'rock': 19, 'histori': 19, 'eventu': 19, 'seriou': 19, 'overal': 19, 'entri': 19, 'brush': 19, 'asleep': 18, 'furiou': 18, 'coffe': 18, 'bu': 18, 'anywher': 18, 'edg': 18, 'stare': 18, 'recip': 18, 'obvious': 18, 'master': 18, 'box': 18, 'limit': 18, 'attack': 18, 'familiar': 18, 'session': 18, 'novel': 18, 'breakfast': 18, 'heat': 18, 'refer': 18, 'star': 18, 'ran': 18, 'diet': 18, 'caught': 18, 'send': 18, 'separ': 18, 'schedul': 18, 'expens': 18, 'spite': 18, 'heavi': 18, 'wave': 18, 'depth': 18, 'club': 18, 'yoga': 18, 'stood': 18, 'attitud': 18, 'tabl': 18, 'stronger': 18, 'recommend': 17, 'pace': 17, 'eas': 17, 'mum': 17, 'combin': 17, 'gym': 17, 'routin': 17, 'anticip': 17, 'e': 17, 'vacat': 17, 'oblig': 17, 'major': 17, 'aspect': 17, 'financi': 17, 'weve': 17, 'shift': 17, 'apolog': 17, 'pair': 17, 'becam': 17, 'bear': 17, 'constant': 17, 'perspect': 17, 'held': 17, 'press': 17, 'lift': 17, 'languag': 17, 'fast': 17, 'easier': 17, 'garden': 17, 'tough': 17, 'invest': 17, 'degre': 17, 'engag': 17, 'stage': 17, 'journal': 17, 'approach': 17, 'english': 17, 'album': 17, 'escap': 17, 'respond': 17, 'invit': 17, 'fashion': 17, 'secret': 17, 'jesu': 17, 'magic': 17, 'medic': 17, 'fab': 17, 'will': 17, 'timid': 17, 'bunch': 17, 'solut': 17, 'wimpi': 17, 'neither': 17, 'match': 17, 'grab': 16, 'corner': 16, 'kitchen': 16, 'stranger': 16, 'town': 16, 'exampl': 16, 'failur': 16, 'tini': 16, 'item': 16, 'sorrow': 16, 'plu': 16, 'attract': 16, 'till': 16, 'highli': 16, 'lifestyl': 16, 'topic': 16, 'band': 16, 'pursu': 16, 'promis': 16, 'record': 16, 'energ': 16, 'wine': 16, 'therefor': 16, 'bookmark': 16, 'regular': 16, 'childhood': 16, 'produc': 16, 'nobodi': 16, 'thu': 16, 'common': 16, 'hadnt': 16, 'core': 16, 'lock': 16, 'drama': 16, 'swim': 16, 'advic': 16, 'properli': 16, 'repeat': 16, 'role': 16, 'consum': 16, 'statement': 16, 'fresh': 16, 'updat': 16, 'haha': 16, 'profession': 16, 'north': 16, 'intern': 16, 'maintain': 16, 'otherwis': 16, 'anybodi': 16, 'sympathi': 15, 'prayer': 15, 'colour': 15, 'advanc': 15, 'rule': 15, 'somebodi': 15, 'bird': 15, 'scent': 15, 'plant': 15, 'captur': 15, 'battl': 15, 'cast': 15, 'hug': 15, 'dismay': 15, 'tip': 15, 'loneli': 15, 'lyric': 15, 'round': 15, 'piti': 15, 'brand': 15, 'googl': 15, 'altern': 15, 'silent': 15, 'couch': 15, 'radio': 15, 'graduat': 15, 'version': 15, 'ador': 15, 'n': 15, 'rang': 15, 'neurot': 15, 'million': 15, 'button': 15, 'brown': 15, 'poor': 15, 'cope': 15, 'instantli': 15, 'govern': 15, 'cup': 15, 'grown': 15, 'aggrav': 15, 'chosen': 15, 'treatment': 15, 'none': 15, 'circl': 15, 'organ': 15, 'center': 15, 'nail': 15, 'safeti': 15, 'react': 15, 'refresh': 15, 'cream': 15, 'sweat': 15, 'concentr': 15, 'blah': 15, 'publish': 14, 'contract': 14, 'appal': 14, 'law': 14, 'c': 14, 'requir': 14, 'shall': 14, 'land': 14, 'movement': 14, 'habit': 14, 'humor': 14, 'origin': 14, 'wound': 14, 'america': 14, 'younger': 14, 'london': 14, 'outcom': 14, 'oil': 14, 'prove': 14, 'benefit': 14, 'crowd': 14, 'plot': 14, 'emo': 14, 'toe': 14, 'appli': 14, 'chair': 14, 'sake': 14, 'belief': 14, 'throat': 14, 'seek': 14, 'god': 14, 'condit': 14, 'worker': 14, 'height': 14, 'bottom': 14, 'research': 14, 'vision': 14, 'qualiti': 14, 'among': 14, 'affection': 14, 'yeah': 14, 'sugar': 14, 'yell': 14, 'gratitud': 14, 'surviv': 14, 'sell': 14, 'green': 14, 'thanksgiv': 14, 'moros': 14, 'initi': 14, 'startl': 14, 'flow': 14, 'joke': 14, 'hat': 14, 'replac': 14, 'neck': 14, 'bar': 14, 'coat': 14, 'indulg': 14, 'commit': 14, 'whilst': 14, 'everywher': 14, 'drug': 14, 'confess': 14, 'wind': 14, 'marriag': 14, 'faster': 13, 'splendid': 13, 'makeup': 13, 'drove': 13, 'hors': 13, 'accid': 13, 'ton': 13, 'unsuccess': 13, 'lunch': 13, 'repli': 13, 'beach': 13, 'block': 13, 'offici': 13, 'wit': 13, 'sensat': 13, 'twitter': 13, 'hungri': 13, 'wise': 13, 'nap': 13, 'conflict': 13, 'uncl': 13, 'shape': 13, 'particip': 13, 'born': 13, 'shoot': 13, 'consist': 13, 'function': 13, 'extent': 13, 'dare': 13, 'park': 13, 'load': 13, 'greater': 13, 'impact': 13, 'increas': 13, 'curl': 13, 'remark': 13, 'assist': 13, 'poetri': 13, 'lighter': 13, 'quot': 13, 'harm': 13, 'angel': 13, 'necessari': 13, 'blow': 13, 'fish': 13, 'bash': 13, 'sigh': 13, 'basi': 13, 'demand': 13, 'humbl': 13, 'shot': 13, 'hardli': 13, 'bank': 13, 'lover': 13, 'repres': 13, 'overli': 13, 'nurs': 13, 'featur': 13, 'float': 13, 'vote': 13, 'p': 13, 'tea': 13, 'articl': 13, 'tone': 13, 'medicin': 13, 'grant': 13, 'dear': 13, 'hospit': 13, 'giggli': 13, 'grew': 13, 'spring': 13, 'bill': 13, 'climb': 12, 'unkind': 12, 'thin': 12, 'enrag': 12, 'clearli': 12, 'influenc': 12, 'cramp': 12, 'begun': 12, 'therapi': 12, 'mountain': 12, 'fell': 12, 'worthi': 12, 'opposit': 12, 'pic': 12, 'succeed': 12, 'pile': 12, 'third': 12, 'materi': 12, 'shed': 12, 'pattern': 12, 'unworthi': 12, 'r': 12, 'suspect': 12, 'gather': 12, 'risk': 12, 'grade': 12, 'surgeri': 12, 'wrap': 12, 'closer': 12, 'soo': 12, 'interact': 12, 'contain': 12, 'deni': 12, 'christ': 12, 'fellow': 12, 'sea': 12, 'urg': 12, 'warn': 12, 'intend': 12, 'previou': 12, 'guest': 12, 'pool': 12, 'moral': 12, 'belli': 12, 'craft': 12, 'cheat': 12, 'puppi': 12, 'pink': 12, 'sudden': 12, 'loos': 12, 'ex': 12, 'dislik': 12, 'mere': 12, 'duti': 12, 'marathon': 12, 'male': 12, 'sexi': 12, 'chose': 12, 'la': 12, 'averag': 12, 'who': 12, 'sent': 12, 'avail': 12, 'tuesday': 12, 'capabl': 12, 'dr': 12, 'luck': 12, 'flight': 12, 'justifi': 12, 'flat': 12, 'burn': 12, 'appar': 12, 'sport': 12, 'identifi': 12, 'score': 12, 'youth': 12, 'plane': 12, 'credit': 12, 'beg': 12, 'chariti': 12, 'ordinari': 12, 'extend': 12, 'floor': 12, 'liter': 12, 'expos': 12, 'circumst': 12, 'x': 12, 'mr': 12, 'encount': 11, 'stretch': 11, 'associ': 11, 'quilt': 11, 'trail': 11, 'w': 11, 'manner': 11, 'fabric': 11, 'gear': 11, 'hop': 11, 'whose': 11, 'recal': 11, 'learnt': 11, 'tranquil': 11, 'shirt': 11, 'skip': 11, 'fool': 11, 'observ': 11, 'grey': 11, 'lash': 11, 'meat': 11, 'uk': 11, 'ought': 11, 'crush': 11, 'attach': 11, 'peer': 11, 'print': 11, 'classic': 11, 'leader': 11, 'worst': 11, 'unwant': 11, 'bright': 11, 'injuri': 11, 'rate': 11, 'wednesday': 11, 'machin': 11, 'occasion': 11, 'adult': 11, 'steal': 11, 'award': 11, 'random': 11, 'homework': 11, 'utter': 11, 'asid': 11, 'forgot': 11, 'purchas': 11, 'spin': 11, 'scale': 11, 'ultim': 11, 'higher': 11, 'sand': 11, 'jealousi': 11, 'smoke': 11, 'behav': 11, 'awhil': 11, 'plenti': 11, 'crash': 11, 'tension': 11, 'warmth': 11, 'remov': 11, 'critic': 11, 'sight': 11, 'select': 11, 'sunshin': 11, 'incid': 11, 'spread': 11, 'zone': 11, 'track': 11, 'despis': 11, 'outgo': 11, 'beer': 11, 'theme': 11, 'resist': 11, 'birth': 11, 'flash': 11, 'fortun': 11, 'ludicr': 11, 'cough': 11, 'statu': 11, 'sink': 11, 'england': 11, 'whiney': 11, 'excus': 11, 'cake': 11, 'swear': 11, 'hole': 11, 'mission': 11, 'flip': 11, 'grief': 11, 'minor': 11, 'pleasur': 11, 'growth': 11, 'method': 11, 'immens': 10, 'measur': 10, 'hill': 10, 'pleasantli': 10, 'hellip': 10, 'airport': 10, 'burst': 10, 'dump': 10, 'youd': 10, 'medit': 10, 'tradit': 10, 'defin': 10, 'prais': 10, 'tempt': 10, 'henc': 10, 'excel': 10, 'suicid': 10, 'boot': 10, 'compliment': 10, 'rid': 10, 'file': 10, 'emerg': 10, 'cherish': 10, 'dish': 10, 'tight': 10, 'knit': 10, 'perceiv': 10, 'mixtur': 10, 'ball': 10, 'portray': 10, 'consciou': 10, 'variou': 10, 'modern': 10, 'shell': 10, 'flawless': 10, 'fair': 10, 'perman': 10, 'hey': 10, 'reveal': 10, 'bath': 10, 'ocean': 10, 'hero': 10, 'benevol': 10, 'cuddl': 10, 'f': 10, 'coz': 10, 'disappear': 10, 'conveni': 10, 'log': 10, 'industri': 10, 'background': 10, 'partli': 10, 'unknown': 10, 'led': 10, 'phrase': 10, 'chase': 10, 'possess': 10, 'defect': 10, 'temper': 10, 'ring': 10, 'laundri': 10, 'alot': 10, 'whine': 10, 'increasingli': 10, 'occur': 10, 'cuz': 10, 'symptom': 10, 'thoroughli': 10, 'uniqu': 10, 'silenc': 10, 'object': 10, 'consequ': 10, 'radiant': 10, 'foundat': 10, 'surfac': 10, 'announc': 10, 'bedroom': 10, 'chat': 10, 'darl': 10, 'viciou': 10, 'disrespect': 10, 'bond': 10, 'twice': 10, 'structur': 10, 'photograph': 10, 'forth': 10, 'studio': 10, 'hasnt': 10, 'camera': 10, 'decent': 10, 'obviou': 10, 'sin': 10, 'gt': 10, 'relief': 10, 'recov': 10, 'viewer': 10, 'guitar': 10, 'seat': 10, 'muse': 10, 'scari': 10, 'addict': 10, 'strike': 10, 'ministri': 10, 'mommi': 10, 'unnecessari': 10, 'mass': 10, 'mode': 10, 'happili': 10, 'websit': 10, 'vintag': 9, 'toler': 9, 'worn': 9, 'fiction': 9, 'butt': 9, 'former': 9, 'cloud': 9, 'storm': 9, 'poem': 9, 'genr': 9, 'st': 9, 'slept': 9, 'weigh': 9, 'sew': 9, 'wood': 9, 'breez': 9, 'driven': 9, 'cancer': 9, 'interview': 9, 'slutti': 9, 'eaten': 9, 'privat': 9, 'font': 9, 'ventur': 9, 'templ': 9, 'punch': 9, 'contempl': 9, 'display': 9, 'dramat': 9, 'holi': 9, 'prize': 9, 'resourc': 9, 'nowher': 9, 'nerv': 9, 'bigger': 9, 'theori': 9, 'yearn': 9, 'motion': 9, 'youv': 9, 'predict': 9, 'war': 9, 'semest': 9, 'click': 9, 'switch': 9, 'chill': 9, 'cooki': 9, 'elev': 9, 'compass': 9, 'section': 9, 'amazingli': 9, 'whisper': 9, 'pre': 9, 'teen': 9, 'glimps': 9, 'librari': 9, 'copi': 9, 'massiv': 9, 'violenc': 9, 'conclus': 9, 'aunt': 9, 'tackl': 9, 'lb': 9, 'pie': 9, 'ruin': 9, 'grandmoth': 9, 'cheek': 9, 'vagu': 9, 'nauseou': 9, 'petrifi': 9, 'un': 9, 'unmotiv': 9, 'bone': 9, 'insan': 9, 'foreign': 9, 'slight': 9, 'unlik': 9, 'temperatur': 9, 'volunt': 9, 'footbal': 9, 'deliv': 9, 'grand': 9, 'nutrit': 9, 'argument': 9, 'clock': 9, 'snap': 9, 'inde': 9, 'subconsci': 9, 'china': 9, 'dig': 9, 'disast': 9, 'string': 9, 'justic': 9, 'destroy': 9, 'photographi': 9, 'percept': 9, 'potato': 9, 'religion': 9, 'appoint': 9, 'exhibit': 9, 'david': 9, 'dunno': 9, 'capac': 9, 'cousin': 9, 'crack': 9, 'hundr': 9, 'juic': 9, 'fever': 9, 'fruit': 9, 'overcom': 9, 'appl': 9, 'imposs': 9, 'vent': 9, 'vibe': 9, 'bet': 9, 'nofollow': 9, 'nose': 9, 'bottl': 9, 'vein': 9, 'wide': 8, 'chicken': 8, 'peter': 8, 'afford': 8, 'scienc': 8, 'vibrat': 8, 'canva': 8, 'alright': 8, 'companion': 8, 'nation': 8, 'regularli': 8, 'lightli': 8, 'shine': 8, 'tag': 8, 'runner': 8, 'coach': 8, 'instinct': 8, 'cigarett': 8, 'snow': 8, 'smaller': 8, 'trap': 8, 'guid': 8, 'chemo': 8, 'femal': 8, 'layer': 8, 'tune': 8, 'reli': 8, 'jubil': 8, 'chapter': 8, 'sandwich': 8, 'tongu': 8, 'en': 8, 'fals': 8, 'youll': 8, 'slip': 8, 'accident': 8, 'med': 8, 'sale': 8, 'endeavor': 8, 'transit': 8, 'pour': 8, 'shadow': 8, 'nine': 8, 'fire': 8, 'newborn': 8, 'account': 8, 'forgotten': 8, 'raini': 8, 'heavenli': 8, 'bathroom': 8, 'screen': 8, 'plain': 8, 'occupi': 8, 'pm': 8, 'loud': 8, 'exchang': 8, 'closet': 8, 'advantag': 8, 'seemingli': 8, 'engin': 8, 'armi': 8, 'lil': 8, 'regain': 8, 'pump': 8, 'desk': 8, 'taught': 8, 'logic': 8, 'upload': 8, 'tour': 8, 'construct': 8, 'charg': 8, 'address': 8, 'assert': 8, 'suck': 8, 'yarn': 8, 'independ': 8, 'boss': 8, 'sensibl': 8, 'previous': 8, 'ideal': 8, 'comparison': 8, 'teeth': 8, 'earn': 8, 'draft': 8, 'sentenc': 8, 'nd': 8, 'ten': 8, 'sum': 8, 'endur': 8, 'powerless': 8, 'wet': 8, 'suit': 8, 'confer': 8, 'disord': 8, 'despair': 8, 'caffein': 8, 'raw': 8, 'retir': 8, 'introduc': 8, 'skinni': 8, 'understood': 8, 'sooner': 8, 'luckili': 8, 'speed': 8, 'nasti': 8, 'colleagu': 8, 'organis': 8, 'adjust': 8, 'chines': 8, 'nostalgia': 8, 'york': 8, 'lung': 8, 'marvel': 8, 'snack': 8, 'cheap': 8, 'wing': 8, 'assum': 8, 'religi': 8, 'shout': 8, 'vile': 8, 'crawl': 8, 'bum': 8, 'inner': 8, 'tie': 8, 'giant': 8, 'addit': 8, 'regardless': 8, 'mirror': 8, 'endless': 8, 'wander': 8, 'restaur': 8, 'oddli': 8, 'protest': 8, 'valid': 8, 'dollar': 8, 'blind': 8, 'length': 8, 'dri': 8, 'suppli': 8, 'woken': 8, 'altogeth': 8, 'sourc': 8, 'model': 8, 'creatur': 8, 'signific': 8, 'british': 8, 'standard': 8, 'transform': 8, 'toilet': 8, 'laid': 8, 'fanci': 8, 'declin': 8, 'atmospher': 8, 'werent': 8, 'midst': 8, 'fallen': 7, 'doll': 7, 'compromis': 7, 'unit': 7, 'griev': 7, 'mild': 7, 'creation': 7, 'sam': 7, 'boat': 7, 'uncertainti': 7, 'chri': 7, 'frequent': 7, 'thick': 7, 'hunt': 7, 'claim': 7, 'concept': 7, 'lit': 7, 'appropri': 7, 'unfair': 7, 'visitor': 7, 'satisfact': 7, 'pang': 7, 'examin': 7, 'iron': 7, 'root': 7, 'pervers': 7, 'brighter': 7, 'anti': 7, 'fund': 7, 'creep': 7, 'margin': 7, 'dvd': 7, 'document': 7, 'heel': 7, 'steve': 7, 'spell': 7, 'swing': 7, 'hah': 7, 'theyd': 7, 'latest': 7, 'disadvantag': 7, 'cring': 7, 'host': 7, 'dizzi': 7, 'favourit': 7, 'happier': 7, 'applic': 7, 'drag': 7, 'enemi': 7, 'exact': 7, 'surprisingli': 7, 'moistur': 7, 'twist': 7, 'mid': 7, 'debt': 7, 'breast': 7, 'crime': 7, 'japanes': 7, 'fandom': 7, 'zero': 7, 'accord': 7, 'neighborhood': 7, 'amor': 7, 'tuck': 7, 'moon': 7, 'thrift': 7, 'essenti': 7, 'larger': 7, 'network': 7, 'eight': 7, 'boost': 7, 'director': 7, 'legitim': 7, 'slightest': 7, 'rhythm': 7, 'frankli': 7, 'solv': 7, 'feedback': 7, 'complic': 7, 'trick': 7, 'actor': 7, 'sadden': 7, 'boundari': 7, 'descript': 7, 'disabl': 7, 'lend': 7, 'roommat': 7, 'mike': 7, 'glanc': 7, 'explod': 7, 'gun': 7, 'butterfli': 7, 'canada': 7, 'darn': 7, 'grandfath': 7, 'soak': 7, 'tiger': 7, 'remot': 7, 'bleed': 7, 'fate': 7, 'sip': 7, 'unexpect': 7, 'juli': 7, 'compet': 7, 'techniqu': 7, 'lower': 7, 'asian': 7, 'threw': 7, 'sheer': 7, 'dancer': 7, 'bounc': 7, 'apologis': 7, 'bake': 7, 'pub': 7, 'lens': 7, 'squeez': 7, 'cafe': 7, 'discomfort': 7, 'proper': 7, 'incom': 7, 'whim': 7, 'etern': 7, 'unfold': 7, 'rant': 7, 'bread': 7, 'toss': 7, 'blanket': 7, 'metal': 7, 'unusu': 7, 'magazin': 7, 'burnt': 7, 'context': 7, 'prevent': 7, 'flaw': 7, 'grasp': 7, 'jewelri': 7, 'defend': 7, 'simultan': 7, 'typic': 7, 'dignifi': 7, 'misunderstood': 7, 'knee': 7, 'bubbl': 7, 'expert': 7, 'decor': 7, 'centuri': 7, 'planet': 7, 'starv': 7, 'staff': 7, 'thrown': 7, 'ticket': 7, 'pagetitl': 7, 'speech': 7, 'competit': 7, 'savag': 7, 'panic': 7, 'famou': 7, 'k': 7, 'quest': 7, 'argu': 7, 'obsess': 7, 'pant': 7, 'citizen': 7, 'strategi': 7, 'board': 7, 'rout': 7, 'novemb': 7, 'closur': 7, 'everybodi': 7, 'calori': 7, 'forum': 7, 'prospect': 7, 'tap': 7, 'affirm': 7, 'label': 7, 'repeatedli': 7, 'input': 7, 'request': 7, 'sorta': 7, 'factor': 6, 'fed': 6, 'daddi': 6, 'tired': 6, 'sooth': 6, 'neighbor': 6, 'directli': 6, 'here': 6, 'presid': 6, 'conserv': 6, 'mama': 6, 'lap': 6, 'egg': 6, 'mindset': 6, 'tube': 6, 'puzzl': 6, 'loser': 6, 'precis': 6, 'bite': 6, 'immatur': 6, 'cost': 6, 'curs': 6, 'divers': 6, 'conscious': 6, 'px': 6, 'arrang': 6, 'groceri': 6, 'quarter': 6, 'vigor': 6, 'pari': 6, 'excess': 6, 'knot': 6, 'amongst': 6, 'needl': 6, 'buri': 6, 'sole': 6, 'hike': 6, 'weari': 6, 'pill': 6, 'counsel': 6, 'patienc': 6, 'explan': 6, 'milk': 6, 'tug': 6, 'trial': 6, 'intellectu': 6, 'heartbreak': 6, 'liber': 6, 'irat': 6, 'prior': 6, 'uneasi': 6, 'ness': 6, 'torn': 6, 'sharp': 6, 'debat': 6, 'tens': 6, 'wee': 6, 'sadli': 6, 'favor': 6, 'prom': 6, 'april': 6, 'mask': 6, 'stair': 6, 'clue': 6, 'decad': 6, 'sexual': 6, 'transcend': 6, 'disagre': 6, 'categori': 6, 'scott': 6, 'twenti': 6, 'clinic': 6, 'secretli': 6, 'classroom': 6, 'notion': 6, 'access': 6, 'hardcor': 6, 'beneath': 6, 'trauma': 6, 'yay': 6, 'bat': 6, 'doubl': 6, 'worship': 6, 'info': 6, 'driver': 6, 'essenc': 6, 'paus': 6, 'handsom': 6, 'bing': 6, 'enthral': 6, 'destini': 6, 'region': 6, 'grin': 6, 'downright': 6, 'hardship': 6, 'aid': 6, 'pen': 6, 'cash': 6, 'ga': 6, 'quick': 6, 'deem': 6, 'blur': 6, 'cop': 6, 'insist': 6, 'rage': 6, 'bf': 6, 'inevit': 6, 'multipl': 6, 'si': 6, 'dine': 6, 'slide': 6, 'heaven': 6, 'mourn': 6, 'execut': 6, 'teas': 6, 'tourist': 6, 'island': 6, 'ya': 6, 'distinct': 6, 'moodi': 6, 'childish': 6, 'cathol': 6, 'alcohol': 6, 'julia': 6, 'complaint': 6, 'enthusiasm': 6, 'client': 6, 'disregard': 6, 'withdraw': 6, 'lee': 6, 'octob': 6, 'attribut': 6, 'induc': 6, 'stash': 6, 'drank': 6, 'recognis': 6, 'bah': 6, 'seren': 6, 'upcom': 6, 'offens': 6, 'antsi': 6, 'deeper': 6, 'labor': 6, 'wisdom': 6, 'unprotect': 6, 'employ': 6, 'packag': 6, 'transfer': 6, 'lean': 6, 'west': 6, 'nag': 6, 'ppl': 6, 'hotel': 6, 'evalu': 6, 'smooth': 6, 'frozen': 6, 'swallow': 6, 'psycholog': 6, 'assess': 6, 'heck': 6, 'solid': 6, 'crisi': 6, 'unnatur': 6, 'centr': 6, 'cleans': 6, 'nod': 6, 'fierc': 6, 'alongsid': 6, 'em': 6, 'elat': 6, 'empathi': 6, 'fairi': 6, 'wild': 6, 'suppress': 6, 'commerci': 6, 'singapor': 6, 'aint': 6, 'empow': 6, 'neutral': 6, 'script': 6, 'billi': 6, 'orang': 6, 'wore': 6, 'curios': 6, 'phase': 6, 'rice': 6, 'spontan': 6, 'contest': 6, 'hatr': 6, 'bonu': 6, 'mate': 6, 'flavor': 6, 'januari': 6, 'crunch': 6, 'irrat': 6, 'await': 6, 'revel': 6, 'norm': 6, 'reduc': 6, 'nausea': 6, 'code': 6, 'san': 6, 'bowl': 6, 'sibl': 6, 'occas': 6, 'paid': 6, 'acknowledg': 6, 'advertis': 6, 'greatest': 6, 'shade': 6, 'theyv': 6, 'dust': 6, 'depart': 6, 'radiat': 6, 'manifest': 6, 'stir': 6, 'pin': 6, 'traffic': 6, 'therapist': 6, 'necess': 6, 'submit': 6, 'sting': 6, 'metaphor': 6, 'per': 6, 'sooo': 6, 'complex': 6, 'costum': 6, 'toy': 6, 'elect': 6, 'drown': 6, 'anniversari': 6, 'empath': 6, 'dragon': 6, 'ident': 6, 'lifetim': 6, 'own': 6, 'ha': 6, 'cowork': 6, 'deliveri': 6, 'knock': 6, 'spoke': 6, 'whoever': 6, 'polici': 6, 'stitch': 6, 'horror': 6, 'skirt': 5, 'pale': 5, 'rob': 5, 'paul': 5, 'feelin': 5, 'nurtur': 5, 'tingl': 5, 'trend': 5, 'rejuven': 5, 'dwell': 5, 'greet': 5, 'decemb': 5, 'comedi': 5, 'owner': 5, 'obtain': 5, 'spice': 5, 'awe': 5, 'youtub': 5, 'coop': 5, 'matt': 5, 'illustr': 5, 'advoc': 5, 'politician': 5, 'sympath': 5, 'bomb': 5, 'kit': 5, 'rubbish': 5, 'polish': 5, 'nightmar': 5, 'mainli': 5, 'spoken': 5, 'dose': 5, 'exit': 5, 'glamour': 5, 'wax': 5, 'width': 5, 'outdoor': 5, 'virginia': 5, 'row': 5, 'instruct': 5, 'motor': 5, 'seldom': 5, 'academ': 5, 'athlet': 5, 'whini': 5, 'therebi': 5, 'massag': 5, 'stock': 5, 'everytim': 5, 'stem': 5, 'importantli': 5, 'mini': 5, 'dessert': 5, 'oili': 5, 'giggl': 5, 'loath': 5, 'inabl': 5, 'daniel': 5, 'disori': 5, 'traitor': 5, 'thigh': 5, 'crew': 5, 'narrat': 5, 'california': 5, 'villag': 5, 'anna': 5, 'thousand': 5, 'biggest': 5, 'protein': 5, 'snobbish': 5, 'lake': 5, 'entitl': 5, 'url': 5, 'era': 5, 'iphon': 5, 'mill': 5, 'analyz': 5, 'scar': 5, 'bibl': 5, 'arous': 5, 'zoom': 5, 'desert': 5, 'temporarili': 5, 'spill': 5, 'junk': 5, 'rainbow': 5, 'sofa': 5, 'virtual': 5, 'angl': 5, 'homeschool': 5, 'curtain': 5, 'insignific': 5, 'restor': 5, 'evid': 5, 'overwhelmingli': 5, 'backward': 5, 'romanc': 5, 'ugg': 5, 'electr': 5, 'stumbl': 5, 'dedic': 5, 'pit': 5, 'slug': 5, 'aggress': 5, 'condemn': 5, 'medium': 5, 'soup': 5, 'visibl': 5, 'jack': 5, 'trigger': 5, 'anguish': 5, 'easter': 5, 'aim': 5, 'autumn': 5, 'abit': 5, 'financ': 5, 'dun': 5, 'nonetheless': 5, 'harsh': 5, 'fascin': 5, 'hormon': 5, 'sequel': 5, 'instanc': 5, 'unsettl': 5, 'disconnect': 5, 'spray': 5, 'reson': 5, 'numer': 5, 'courag': 5, 'upsid': 5, 'cheaper': 5, 'pro': 5, 'economi': 5, 'robin': 5, 'assign': 5, 'convent': 5, 'unhealthi': 5, 'gamer': 5, 'chip': 5, 'contrast': 5, 'collar': 5, 'nativ': 5, 'diseas': 5, 'split': 5, 'jaw': 5, 'ting': 5, 'flirti': 5, 'jeremi': 5, 'wrestl': 5, 'suprem': 5, 'tendenc': 5, 'stole': 5, 'ray': 5, 'bridg': 5, 'g': 5, 'gladli': 5, 'linger': 5, 'strive': 5, 'soooo': 5, 'drawn': 5, 'cd': 5, 'ward': 5, 'polic': 5, 'yall': 5, 'someday': 5, 'roast': 5, 'aussi': 5, 'partial': 5, 'nudg': 5, 'suspens': 5, 'outing': 5, 'reward': 5, 'pursuit': 5, 'oppos': 5, 'xd': 5, 'v': 5, 'resolut': 5, 'adopt': 5, 'donat': 5, 'chick': 5, 'discoveri': 5, 'limb': 5, 'popul': 5, 'insight': 5, 'camp': 5, 'accommod': 5, 'perfum': 5, 'hostel': 5, 'user': 5, 'lj': 5, 'inferior': 5, 'blush': 5, 'backpack': 5, 'rough': 5, 'indic': 5, 'be': 5, 'jane': 5, 'succumb': 5, 'doc': 5, 'hardest': 5, 'cage': 5, 'reread': 5, 'choke': 5, 'gate': 5, 'hyper': 5, 'enthusiast': 5, 'hidden': 5, 'realist': 5, 'tickl': 5, 'choir': 5, 'accessori': 5, 'substanc': 5, 'whip': 5, 'australia': 5, 'sunni': 5, 'philosophi': 5, 'prompt': 5, 'gold': 5, 'grass': 5, 'scatter': 5, 'burger': 5, 'king': 5, 'promot': 5, 'disney': 5, 'restrict': 5, 'extraordinarili': 5, 'queen': 5, 'wick': 5, 'miseri': 5, 'sold': 5, 'consult': 5, 'seed': 5, 'conduct': 5, 'farm': 5, 'professor': 5, 'qualifi': 5, 'bliss': 5, 'mount': 5, 'musician': 5, 'miracl': 5, 'campaign': 5, 'jackson': 5, 'tomato': 5, 'web': 5, 'tightli': 5, 'behalf': 5, 'wheel': 5, 'overload': 5, 'korean': 5, 'evil': 5, 'tale': 5, 'sucker': 5, 'profoundli': 5, 'ol': 5, 'grandpar': 5, 'enrich': 5, 'absenc': 5, 'etsi': 5, 'xma': 5, 'budget': 5, 'pure': 5, 'vegan': 5, 'bout': 5, 'accompani': 5, 'laughter': 5, 'gotta': 5, 'flick': 5, 'gross': 5, 'appeal': 5, 'infect': 5, 'weapon': 5, 'bi': 5, 'harri': 5, 'guidanc': 5, 'flashback': 5, 'derbi': 5, 'wow': 5, 'integr': 5, 'melodi': 5, 'slap': 5, 'scheme': 5, 'luxuri': 5, 'permalink': 5, 'unappreci': 5, 'fog': 5, 'pat': 5, 'countless': 5, 'plate': 5, 'declar': 5, 'hum': 5, 'bug': 5, 'acquaint': 5, 'starter': 5, 'pocket': 5, 'chamber': 5, 'giveaway': 5, 'sacrific': 5, 'jim': 5, 'flood': 5, 'tidi': 5, 'sheet': 5, 'inclin': 5, 'blond': 5, 'haircut': 5, 'dealt': 5, 'lore': 5, 'consol': 5, 'glare': 5, 'gaze': 5, 'owl': 5, 'treadmil': 5, 'resid': 5, 'cube': 5, 'theater': 5, 'iv': 5, 'india': 5, 'automat': 5, 'dip': 5, 'cricket': 5, 'damn': 4, 'properti': 4, 'profit': 4, 'agent': 4, 'giddi': 4, 'pencil': 4, 'greed': 4, 'cow': 4, 'guarante': 4, 'spoil': 4, 'stiff': 4, 'detox': 4, 'brief': 4, 'garbag': 4, 'unsaf': 4, 'openli': 4, 'uncar': 4, 'dash': 4, 'emili': 4, 'semi': 4, 'vers': 4, 'alex': 4, 'fragranc': 4, 'girli': 4, 'hilari': 4, 'retrospect': 4, 'element': 4, 'amsterdam': 4, 'administr': 4, 'uni': 4, 'sauc': 4, 'tablet': 4, 'verbal': 4, 'flesh': 4, 'privaci': 4, 'devote': 4, 'uplift': 4, 'max': 4, 'yellow': 4, 'unconsci': 4, 'econom': 4, 'spare': 4, 'border': 4, 'olymp': 4, 'loyalti': 4, 'mud': 4, 'distinctli': 4, 'finland': 4, 'adapt': 4, 'abdomen': 4, 'strengthen': 4, 'er': 4, 'sweati': 4, 'stolen': 4, 'cell': 4, 'thyroid': 4, 'confront': 4, 'impend': 4, 'victori': 4, 'geek': 4, 'mainstream': 4, 'edit': 4, 'nest': 4, 'articul': 4, 'mileston': 4, 'ingredi': 4, 'civil': 4, 'daycar': 4, 'grammar': 4, 'nervous': 4, 'frame': 4, 'formula': 4, 'feminist': 4, 'itll': 4, 'brew': 4, 'militari': 4, 'smarter': 4, 'shield': 4, 'authent': 4, 'poison': 4, 'nois': 4, 'moron': 4, 'oscar': 4, 'princ': 4, 'terror': 4, 'via': 4, 'dismiss': 4, 'cancel': 4, 'supermarket': 4, 'attain': 4, 'hint': 4, 'bracelet': 4, 'bow': 4, 'di': 4, 'intim': 4, 'trash': 4, 'domin': 4, 'envelop': 4, 'thirti': 4, 'difficulti': 4, 'noon': 4, 'tick': 4, 'tank': 4, 'chore': 4, 'sampl': 4, 'stone': 4, 'grumbl': 4, 'hollywood': 4, 'layout': 4, 'bell': 4, 'pet': 4, 'wallet': 4, 'brilliant': 4, 'reinforc': 4, 'dissolv': 4, 'firmli': 4, 'paranoia': 4, 'gap': 4, 'randomli': 4, 'profess': 4, 'concert': 4, 'televis': 4, 'esteem': 4, 'wipe': 4, 'upper': 4, 'bind': 4, 'sloth': 4, 'watcher': 4, 'suffoc': 4, 'congratul': 4, 'rescu': 4, 'nowaday': 4, 'sock': 4, 'visual': 4, 'haze': 4, 'portion': 4, 'up': 4, 'lipstick': 4, 'court': 4, 'rat': 4, 'bulli': 4, 'februari': 4, 'insincer': 4, 'viru': 4, 'pinch': 4, 'sustain': 4, 'quietli': 4, 'rapidli': 4, 'verg': 4, 'interrupt': 4, 'devil': 4, 'proclaim': 4, 'correct': 4, 'uninterest': 4, 'lettuc': 4, 'assumpt': 4, 'duke': 4, 'homosexu': 4, 'profil': 4, 'bundl': 4, 'scratch': 4, 'maker': 4, 'stack': 4, 'fantasi': 4, 'clich': 4, 'intellect': 4, 'coke': 4, 'lisa': 4, 'uber': 4, 'pig': 4, 'richard': 4, 'piano': 4, 'incorpor': 4, 'recess': 4, 'unemploy': 4, 'mari': 4, 'lemon': 4, 'icon': 4, 'notebook': 4, 'crow': 4, 'goodby': 4, 'suffici': 4, 'deadlin': 4, 'mi': 4, 'anatomi': 4, 'highest': 4, 'allergi': 4, 'perpetu': 4, 'cave': 4, 'sicken': 4, 'volum': 4, 'wouldv': 4, 'lectur': 4, 'syndrom': 4, 'vocal': 4, 'hubbi': 4, 'hall': 4, 'picnic': 4, 'mysteri': 4, 'defens': 4, 'brow': 4, 'quicker': 4, 'weaker': 4, 'mildli': 4, 'confirm': 4, 'grip': 4, 'lush': 4, 'republ': 4, 'shallow': 4, 'nonsens': 4, 'leagu': 4, 'hobbi': 4, 'tutori': 4, 'bunni': 4, 'charli': 4, 'candl': 4, 'emoticon': 4, 'propos': 4, 'labour': 4, 'foul': 4, 'impolit': 4, 'passeng': 4, 'subsid': 4, 'expand': 4, 'hi': 4, 'tech': 4, 'teddi': 4, 'conscienc': 4, 'legend': 4, 'wherev': 4, 'loop': 4, 'temporari': 4, 'senior': 4, 'clearer': 4, 'psychologist': 4, 'ish': 4, 'provoc': 4, 'psychot': 4, 'panel': 4, 'repair': 4, 'hoo': 4, 'linux': 4, 'platform': 4, 'youngest': 4, 'vet': 4, 'clariti': 4, 'martin': 4, 'tribut': 4, 'ethic': 4, 'pillow': 4, 'stink': 4, 'psych': 4, 'minist': 4, 'hmmm': 4, 'btw': 4, 'sob': 4, 'miner': 4, 'powder': 4, 'sara': 4, 'div': 4, 'reput': 4, 'crumbl': 4, 'channel': 4, 'strain': 4, 'resort': 4, 'legaci': 4, 'hangov': 4, 'repercuss': 4, 'haul': 4, 'melt': 4, 'chain': 4, 'shatter': 4, 'secondari': 4, 'epic': 4, 'floral': 4, 'ed': 4, 'drip': 4, 'veggi': 4, 'hire': 4, 'clay': 4, 'trade': 4, 'aesthet': 4, 'minc': 4, 'significantli': 4, 'disrupt': 4, 'jan': 4, 'golden': 4, 'lighten': 4, 'bruis': 4, 'highschool': 4, 'stabl': 4, 'stuf': 4, 'echo': 4, 'slack': 4, 'cynic': 4, 'sarah': 4, 'rag': 4, 'fridg': 4, 'deceiv': 4, 'feder': 4, 'bold': 4, 'furnitur': 4, 'plug': 4, 'jason': 4, 'plung': 4, 'insensit': 4, 'latter': 4, 'barrier': 4, 'bump': 4, 'baptiz': 4, 'luggag': 4, 'transport': 4, 'invad': 4, 'technolog': 4, 'immers': 4, 'santa': 4, 'michael': 4, 'theyll': 4, 'jacket': 4, 'fare': 4, 'elder': 4, 'manuscript': 4, 'demon': 4, 'italian': 4, 'steadi': 4, 'abc': 4, 'mundan': 4, 'saint': 4, 'mac': 4, 'artwork': 4, 'demonstr': 4, 'flatter': 4, 'zealand': 4, 'ing': 4, 'highlight': 4, 'carrot': 4, 'mush': 4, 'clip': 4, 'robert': 4, 'cooper': 4, 'squar': 4, 'likeabl': 4, 'solo': 4, 'til': 4, 'splash': 4, 'span': 4, 'recreat': 4, 'fleet': 4, 'sweater': 4, 'scan': 4, 'barn': 4, 'cap': 4, 'math': 4, 'freeli': 4, 'stroll': 4, 'simplic': 4, 'monster': 4, 'blindli': 4, 'accustom': 4, 'weav': 4, 'steam': 4, 'stereotyp': 4, 'african': 4, 'disdain': 4, 'todd': 4, 'heap': 4, 'twin': 4, 'ego': 4, 'boil': 4, 'seven': 4, 'dawn': 4, 'septemb': 4, 'annoyingli': 4, 'tantrum': 4, 'comeback': 4, 'ryan': 4, 'jersey': 4, 'convey': 4, 'environment': 4, 'foggi': 4, 'eve': 4, 'legion': 4, 'ur': 4, 'accus': 4, 'cent': 4, 'fb': 4, 'thai': 4, 'peep': 4, 'obstacl': 4, 'intimaci': 4, 'march': 4, 'newspap': 4, 'frequenc': 4, 'unreason': 4, 'ghost': 4, 'destin': 4, 'hurri': 4, 'global': 4, 'bitten': 4, 'french': 4, 'chicago': 4, 'jordan': 4, 'empathet': 4, 'sober': 4, 'grit': 4, 'prison': 4, 'evok': 4, 'teari': 4, 'stimul': 4, 'whatsoev': 4, 'safer': 4, 'loung': 4, 'rep': 4, 'inspect': 4, 'slice': 4, 'wallpap': 4, 'mobil': 4, 'narrow': 4, 'wherea': 4, 'toddler': 4, 'licens': 4, 'align': 4, 'halfway': 4, 'diy': 4, 'naiv': 4, 'quarrel': 4, 'behaviour': 4, 'loner': 4, 'data': 4, 'affair': 4, 'stride': 4, 'infertil': 4, 'gentli': 4, 'cure': 4, 'purpl': 4, 'hype': 4, 'q': 4, 'ah': 4, 'eco': 4, 'injur': 4, 'chees': 4, 'unrealist': 4, 'pointless': 4, 'buddi': 4, 'kati': 4, 'reckon': 4, 'minim': 4, 'poke': 4, 'annual': 4, 'indian': 4, 'adrenalin': 4, 'alien': 4, 'landscap': 4, 'democrat': 4, 'momo': 4, 'fireplac': 3, 'thirsti': 3, 'barbi': 3, 'acut': 3, 'elderli': 3, 'spur': 3, 'conceal': 3, 'scissor': 3, 'valentin': 3, 'roller': 3, 'coaster': 3, 'lili': 3, 'heartedli': 3, 'grappl': 3, 'exagger': 3, 'clench': 3, 'disservic': 3, 'revis': 3, 'hung': 3, 'prescrib': 3, 'edgi': 3, 'homeless': 3, 'thief': 3, 'nov': 3, 'trim': 3, 'pea': 3, 'blossom': 3, 'sleev': 3, 'squeal': 3, 'thread': 3, 'barrag': 3, 'galleri': 3, 'delay': 3, 'meantim': 3, 'tremend': 3, 'persist': 3, 'tan': 3, 'mantra': 3, 'lump': 3, 'cubicl': 3, 'gigant': 3, 'ralli': 3, 'literatur': 3, 'atom': 3, 'sparkl': 3, 'plagu': 3, 'snuggl': 3, 'spider': 3, 'serif': 3, 'rewrit': 3, 'secretari': 3, 'benign': 3, 'thru': 3, 'fluid': 3, 'ali': 3, 'greatli': 3, 'sticki': 3, 'honesti': 3, 'introvert': 3, 'whale': 3, 'prep': 3, 'sleepless': 3, 'destruct': 3, 'twelv': 3, 'washington': 3, 'similarli': 3, 'plateau': 3, 'biolog': 3, 'blown': 3, 'babysit': 3, 'investig': 3, 'scientist': 3, 'vertigo': 3, 'journalist': 3, 'luci': 3, 'com': 3, 'primer': 3, 'lace': 3, 'pavement': 3, 'spous': 3, 'agoni': 3, 'laps': 3, 'saniti': 3, 'excruci': 3, 'ra': 3, 'orphan': 3, 'taiwan': 3, 'enorm': 3, 'nomin': 3, 'outburst': 3, 'keyboard': 3, 'smoothli': 3, 'tissu': 3, 'gestur': 3, 'ensur': 3, 'winner': 3, 'agreement': 3, 'tall': 3, 'relish': 3, 'comic': 3, 'diminish': 3, 'raptur': 3, 'dubai': 3, 'esp': 3, 'booth': 3, 'unsatisfi': 3, 'netflix': 3, 'vibrant': 3, 'evolut': 3, 'necessarili': 3, 'vast': 3, 'basebal': 3, 'ambiti': 3, 'digniti': 3, 'fluster': 3, 'bay': 3, 'ballet': 3, 'oxygen': 3, 'pose': 3, 'wrongli': 3, 'fought': 3, 'stadium': 3, 'suitcas': 3, 'cabin': 3, 'z': 3, 'headphon': 3, 'dint': 3, 'prone': 3, 'reliv': 3, 'introduct': 3, 'palm': 3, 'ebay': 3, 'lab': 3, 'graphic': 3, 'hoard': 3, 'demotiv': 3, 'nosi': 3, 'telephon': 3, 'benefici': 3, 'employe': 3, 'shini': 3, 'fifteen': 3, 'strut': 3, 'underr': 3, 'judgment': 3, 'firm': 3, 'impli': 3, 'wrist': 3, 'immun': 3, 'alter': 3, 'sidelin': 3, 'ipod': 3, 'jewelleri': 3, 'nephew': 3, 'clutch': 3, 'distant': 3, 'windi': 3, 'extens': 3, 'batter': 3, 'app': 3, 'surgeon': 3, 'albeit': 3, 'lull': 3, 'locat': 3, 'closest': 3, 'racism': 3, 'hahaha': 3, 'pupil': 3, 'modul': 3, 'housewif': 3, 'sue': 3, 'despond': 3, 'intuit': 3, 'hr': 3, 'wholli': 3, 'upbeat': 3, 'certifi': 3, 'idol': 3, 'kg': 3, 'scrutini': 3, 'vividli': 3, 'instructor': 3, 'recoveri': 3, 'breed': 3, 'divorc': 3, 'allah': 3, 'fluffi': 3, 'ti': 3, 'underneath': 3, 'factori': 3, 'ration': 3, 'nicer': 3, 'fade': 3, 'equat': 3, 'counter': 3, 'urgenc': 3, 'struck': 3, 'impuls': 3, 'daydream': 3, 'yo': 3, 'wierd': 3, 'weirdli': 3, 'fianc': 3, 'pushov': 3, 'pole': 3, 'stat': 3, 'perciev': 3, 'injustic': 3, 'inch': 3, 'wire': 3, 'jean': 3, 'spine': 3, 'energis': 3, 'textur': 3, 'twitchi': 3, 'yuuki': 3, 'column': 3, 'bod': 3, 'cashier': 3, 'necklac': 3, 'collabor': 3, 'panicki': 3, 'throb': 3, 'oper': 3, 'abroad': 3, 'garag': 3, 'bust': 3, 'garment': 3, 'blake': 3, 'statist': 3, 'dialog': 3, 'dublin': 3, 'raid': 3, 'sidewalk': 3, 'flew': 3, 'repetit': 3, 'drastic': 3, 'tangibl': 3, 'cliqu': 3, 'kay': 3, 'backyard': 3, 'kingdom': 3, 'pretenti': 3, 'chew': 3, 'pedestrian': 3, 'emotionless': 3, 'newbi': 3, 'scriptur': 3, 'lessen': 3, 'xanax': 3, 'morph': 3, 'capit': 3, 'epidur': 3, 'km': 3, 'heroin': 3, 'primari': 3, 'banter': 3, 'temptat': 3, 'caress': 3, 'recognit': 3, 'shortlist': 3, 'hello': 3, 'heartach': 3, 'moisturis': 3, 'tote': 3, 'fuel': 3, 'laptop': 3, 'shiver': 3, 'tummi': 3, 'pb': 3, 'uncondit': 3, 'plight': 3, 'sarcasm': 3, 'vendor': 3, 'default': 3, 'uneas': 3, 'franc': 3, 'motherhood': 3, 'combat': 3, 'trainer': 3, 'emphas': 3, 'eagl': 3, 'hollow': 3, 'bladder': 3, 'hack': 3, 'constitut': 3, 'interpret': 3, 'refin': 3, 'feast': 3, 'memor': 3, 'exhilar': 3, 'zumba': 3, 'spain': 3, 'pad': 3, 'mandarin': 3, 'stellar': 3, 'holli': 3, 'strand': 3, 'flourish': 3, 'butter': 3, 'puls': 3, 'swell': 3, 'warehous': 3, 'ann': 3, 'station': 3, 'central': 3, 'accur': 3, 'singular': 3, 'teeni': 3, 'clutter': 3, 'spark': 3, 'atm': 3, 'obes': 3, 'smack': 3, 'cozi': 3, 'quo': 3, 'newest': 3, 'sponsor': 3, 'freez': 3, 'stream': 3, 'cupcak': 3, 'preschool': 3, 'bull': 3, 'someway': 3, 'prioriti': 3, 'diabet': 3, 'ami': 3, 'ambul': 3, 'rins': 3, 'nut': 3, 'tangl': 3, 'lure': 3, 'champagn': 3, 'mexican': 3, 'shelter': 3, 'ping': 3, 'spi': 3, 'conquer': 3, 'squad': 3, 'merri': 3, 'crimin': 3, 'paralys': 3, 'fetch': 3, 'sod': 3, 'nuclear': 3, 'subtl': 3, 'ne': 3, 'buck': 3, 'lurk': 3, 'rack': 3, 'soil': 3, 'morbid': 3, 'usa': 3, 'sour': 3, 'idk': 3, 'toll': 3, 'bloat': 3, 'unsavori': 3, 'immigr': 3, 'ancient': 3, 'comfi': 3, 'goddess': 3, 'minimum': 3, 'courtesi': 3, 'chao': 3, 'venu': 3, 'stroke': 3, 'evolv': 3, 'prop': 3, 'command': 3, 'spiral': 3, 'bruce': 3, 'salvat': 3, 'flag': 3, 'tub': 3, 'unresolv': 3, 'euphoria': 3, 'pinterest': 3, 'hehe': 3, 'georg': 3, 'soap': 3, 'multitud': 3, 'raphael': 3, 'intervent': 3, 'fellowship': 3, 'itali': 3, 'throne': 3, 'procedur': 3, 'republican': 3, 'salad': 3, 'preserv': 3, 'packet': 3, 'reveng': 3, 'sluggish': 3, 'quirki': 3, 'superman': 3, 'ms': 3, 'dalla': 3, 'stump': 3, 'joint': 3, 'transpar': 3, 'tumblr': 3, 'penn': 3, 'gush': 3, 'stupid': 3, 'devic': 3, 'earthquak': 3, 'reserv': 3, 'bam': 3, 'pine': 3, 'crystal': 3, 'condescend': 3, 'patrick': 3, 'digit': 3, 'rabbit': 3, 'rose': 3, 'oversea': 3, 'insomnia': 3, 'ji': 3, 'analys': 3, 'potter': 3, 'entranc': 3, 'coerc': 3, 'absurd': 3, 'gown': 3, 'apathet': 3, 'cc': 3, 'gel': 3, 'residu': 3, 'heavier': 3, 'optim': 3, 'mba': 3, 'triumph': 3, 'penni': 3, 'pete': 3, 'dial': 3, 'whimsic': 3, 'dreami': 3, 'straightforward': 3, 'blade': 3, 'german': 3, 'spanish': 3, 'glori': 3, 'forehead': 3, 'wrinkl': 3, 'parallel': 3, 'south': 3, 'instagram': 3, 'ailment': 3, 'limbo': 3, 'calmer': 3, 'aftermath': 3, 'bob': 3, 'territori': 3, 'disinterest': 3, 'patriot': 3, 'harmoni': 3, 'hypocrit': 3, 'mummi': 3, 'approv': 3, 'rip': 3, 'diagnosi': 3, 'de': 3, 'discipl': 3, 'manipul': 3, 'commut': 3, 'reliabl': 3, 'survey': 3, 'pizza': 3, 'rhetor': 3, 'lunchtim': 3, 'caleb': 3, 'disorient': 3, 'queasi': 3, 'establish': 3, 'masculin': 3, 'geniu': 3, 'stubbornli': 3, 'sensori': 3, 'legal': 3, 'acn': 3, 'haiku': 3, 'inher': 3, 'conduc': 3, 'fee': 3, 'ladder': 3, 'void': 3, 'wildli': 3, 'flame': 3, 'shook': 3, 'jami': 3, 'inanim': 3, 'sleepi': 3, 'aa': 3, 'deepen': 3, 'instil': 3, 'mediocr': 3, 'mightili': 3, 'fingernail': 3, 'envi': 3, 'resum': 3, 'philippin': 3, 'prime': 3, 'roof': 3, 'twitch': 3, 'siren': 3, 'pakistan': 3, 'spoon': 3, 'mall': 3, 'chunk': 3, 'enabl': 3, 'histor': 3, 'hunger': 3, 'cooler': 3, 'ordeal': 3, 'congest': 3, 'heartbeat': 3, 'tweet': 3, 'uncharacterist': 3, 'carol': 3, 'matur': 3, 'onion': 3, 'montana': 3, 'nick': 3, 'undertak': 3, 'vanilla': 3, 'prematur': 3, 'courthous': 3, 'nevertheless': 3, 'hip': 3, 'bang': 3, 'knife': 3, 'wiggl': 3, 'doodl': 3, 'sassi': 3, 'traumat': 3, 'classi': 3, 'flush': 3, 'justin': 3, 'overpow': 3, 'bla': 3, 'upstair': 3, 'noisi': 3, 'ld': 3, 'su': 3, 'wen': 3, 'pierc': 3, 'oncologist': 3, 'skype': 3, 'hurrican': 3, 'snake': 3, 'chuf': 3, 'strip': 3, 'creami': 3, 'plastic': 3, 'benjamin': 3, 'wig': 3, 'showcas': 3, 'sunlight': 3, 'yash': 3, 'turkey': 3, 'cliff': 3, 'slum': 3, 'zombi': 3, 'trimest': 3, 'avers': 3, 'bald': 3, 'mock': 3, 'corn': 3, 'congreg': 3, 'illus': 3, 'flop': 3, 'longest': 3, 'tax': 3, 'impos': 3, 'ef': 3, 'contamin': 3, 'terrain': 3, 'taylor': 3, 'setback': 3, 'sunris': 3, 'oldest': 3, 'andrea': 3, 'gradual': 3, 'twing': 3, 'trophi': 3, 'obama': 3, 'violat': 3, 'dive': 3, 'lauri': 3, 'convolut': 3, 'jame': 3, 'wp': 3, 'aka': 3, 'how': 3, 'pastor': 3, 'bipolar': 3, 'dan': 3, 'preform': 3, 'artisan': 3, 'flirt': 3, 'retain': 3, 'nyc': 3, 'thursday': 3, 'nugget': 3, 'smirk': 3, 'taco': 3, 'breastfeed': 3, 'classmat': 3, 'mail': 3, 'embarass': 3, 'zach': 3, 'feroci': 3, 'ipad': 3, 'spectat': 3, 'homemad': 3, 'abid': 3, 'jazz': 3, 'gnaw': 3, 'weekli': 3, 'kindli': 3, 'european': 3, 'exceedingli': 3, 'biofuel': 3, 'bbq': 3, 'balloon': 3, 'lt': 3, 'princess': 3, 'flowi': 3, 'truck': 3, 'jumper': 3, 'flexibl': 3, 'infuri': 3, 'rider': 3, 'shove': 3, 'sinai': 3, 'judgement': 3, 'inadequaci': 3, 'preach': 3, 'sail': 3, 'jen': 3, 'occup': 3, 'slump': 3, 'humil': 3, 'grave': 3, 'killer': 3, 'surg': 3, 'bewild': 3, 'feminin': 3, 'june': 3, 'peek': 3, 'downstair': 3, 'crampi': 3, 'tunnel': 3, 'slower': 3, 'shimmer': 3, 'australian': 3, 'shinobi': 3, 'tabbi': 3, 'pal': 3, 'caterpillar': 3, 'rib': 3, 'refug': 3, 'bridesmaid': 3, 'mash': 3, 'petrona': 2, 'easiest': 2, 'sixti': 2, 'chai': 2, 'lifelin': 2, 'hamper': 2, 'dent': 2, 'handmad': 2, 'sane': 2, 'paragraph': 2, 'realm': 2, 'hallucin': 2, 'michel': 2, 'ballist': 2, 'usag': 2, 'error': 2, 'technic': 2, 'wushu': 2, 'spritz': 2, 'on': 2, 'assuredli': 2, 'brotherhood': 2, 'tsa': 2, 'croissant': 2, 'ancestr': 2, 'pumpkin': 2, 'eid': 2, 'witch': 2, 'bitterli': 2, 'brazil': 2, 'steep': 2, 'colon': 2, 'enhanc': 2, 'redeem': 2, 'underwear': 2, 'drawer': 2, 'gorgeous': 2, 'underway': 2, 'misunderstand': 2, 'remembr': 2, 'malign': 2, 'harbor': 2, 'consumer': 2, 'corps': 2, 'rever': 2, 'benedict': 2, 'arcad': 2, 'monitor': 2, 'befriend': 2, 'extern': 2, 'precipic': 2, 'tingli': 2, 'tastic': 2, 'advis': 2, 'bullet': 2, 'nasal': 2, 'timet': 2, 'antiqu': 2, 'defianc': 2, 'olivia': 2, 'promin': 2, 'characterist': 2, 'faux': 2, 'warmli': 2, 'eyelid': 2, 'li': 2, 'batch': 2, 'newtown': 2, 'mailman': 2, 'clerk': 2, 'willing': 2, 'accumul': 2, 'glee': 2, 'squish': 2, 'nauseat': 2, 'wail': 2, 'florida': 2, 'lego': 2, 'misplac': 2, 'devoid': 2, 'navig': 2, 'huckleberri': 2, 'toxin': 2, 'slate': 2, 'clumsi': 2, 'overhear': 2, 'soccer': 2, 'baker': 2, 'rex': 2, 'ltr': 2, 'ovat': 2, 'homemak': 2, 'halloween': 2, 'calv': 2, 'kidnap': 2, 'inflat': 2, 'maria': 2, 'torso': 2, 'siwon': 2, 'georgia': 2, 'frugal': 2, 'soundtrack': 2, 'min': 2, 'op': 2, 'eh': 2, 'encas': 2, 'muffl': 2, 'underpaid': 2, 'chemistri': 2, 'breastfe': 2, 'conspiraci': 2, 'whitley': 2, 'exert': 2, 'wretch': 2, 'womanhood': 2, 'wainwright': 2, 'envis': 2, 'relentless': 2, 'vitamin': 2, 'ongo': 2, 'reloc': 2, 'keenli': 2, 'offspr': 2, 'reciproc': 2, 'bryan': 2, 'erik': 2, 'civilian': 2, 'warrior': 2, 'predominantli': 2, 'autist': 2, 'wifi': 2, 'wardrob': 2, 'incomplet': 2, 'brad': 2, 'eric': 2, 'wat': 2, 'favour': 2, 'wealth': 2, 'hen': 2, 'punjabi': 2, 'masala': 2, 'warmer': 2, 'mytholog': 2, 'portland': 2, 'graviti': 2, 'atheist': 2, 'flutter': 2, 'cohen': 2, 'printer': 2, 'pimpl': 2, 'um': 2, 'ther': 2, 'messin': 2, 'attir': 2, 'consecut': 2, 'funer': 2, 'uninspir': 2, 'editor': 2, 'literari': 2, 'bin': 2, 'sought': 2, 'inconveni': 2, 'flavour': 2, 'prey': 2, 'slough': 2, 'crud': 2, 'glasgow': 2, 'pajama': 2, 'admiss': 2, 'chronic': 2, 'atheism': 2, 'harden': 2, 'enlist': 2, 'rollercoast': 2, 'haptic': 2, 'signal': 2, 'readili': 2, 'oatmeal': 2, 'niggl': 2, 'incas': 2, 'impostor': 2, 'cognit': 2, 'brag': 2, 'anni': 2, 'churn': 2, 'corinthian': 2, 'denounc': 2, 'blackburn': 2, 'manual': 2, 'tragedi': 2, 'apt': 2, 'revert': 2, 'orchestra': 2, 'hannah': 2, 'cracker': 2, 'tenur': 2, 'jimmi': 2, 'lane': 2, 'cardboard': 2, 'romeo': 2, 'juliet': 2, 'drake': 2, 'dope': 2, 'deed': 2, 'vs': 2, 'teammat': 2, 'counselor': 2, 'speaker': 2, 'impract': 2, 'del': 2, 'spencer': 2, 'vuner': 2, 'down': 2, 'hedg': 2, 'roug': 2, 'outer': 2, 'deject': 2, 'congress': 2, 'curriculum': 2, 'plea': 2, 'museum': 2, 'unprepar': 2, 'flu': 2, 'regul': 2, 'harvest': 2, 'grandma': 2, 'unavoid': 2, 'shortcom': 2, 'cloudi': 2, 'bs': 2, 'andov': 2, 'creepi': 2, 'tat': 2, 'noe': 2, 'renew': 2, 'mammoth': 2, 'deliber': 2, 'salon': 2, 'deform': 2, 'lacklustr': 2, 'behold': 2, 'nathan': 2, 'snippet': 2, 'salli': 2, 'mop': 2, 'john': 2, 'nicotin': 2, 'stain': 2, 'cantor': 2, 'vow': 2, 'seam': 2, 'toon': 2, 'guild': 2, 'maid': 2, 'frown': 2, 'oppress': 2, 'crossfit': 2, 'niko': 2, 'dorki': 2, 'compens': 2, 'nurseri': 2, 'branch': 2, 'proven': 2, 'myspac': 2, 'belt': 2, 'vista': 2, 'britain': 2, 'loui': 2, 'spa': 2, 'straighten': 2, 'hood': 2, 'artistri': 2, 'whing': 2, 'whirlwind': 2, 'boister': 2, 'subscrib': 2, 'tornado': 2, 'ceil': 2, 'fiber': 2, 'rugbi': 2, 'witti': 2, 'creme': 2, 'sandal': 2, 'hopelessli': 2, 'eyebrow': 2, 'excitedli': 2, 'duck': 2, 'leap': 2, 'coordin': 2, 'handheld': 2, 'cam': 2, 'adject': 2, 'sniffl': 2, 'greg': 2, 'expans': 2, 'asset': 2, 'lengthi': 2, 'rachel': 2, 'dean': 2, 'hometown': 2, 'overtak': 2, 'daylight': 2, 'spit': 2, 'blend': 2, 'programm': 2, 'outright': 2, 'bask': 2, 'wonderful': 2, 'israel': 2, 'overshadow': 2, 'healthcar': 2, 'socialis': 2, 'smiley': 2, 'firefli': 2, 'sword': 2, 'definetli': 2, 'detest': 2, 'owe': 2, 'concoct': 2, 'logan': 2, 'vine': 2, 'lick': 2, 'resembl': 2, 'narciss': 2, 'format': 2, 'myriad': 2, 'unfulfil': 2, 'trueli': 2, 'chaotic': 2, 'irresist': 2, 'bunk': 2, 'trivial': 2, 'solemn': 2, 'kim': 2, 'tranni': 2, 'departur': 2, 'peski': 2, 'ponder': 2, 'rte': 2, 'poll': 2, 'futil': 2, 'banana': 2, 'philip': 2, 'pompou': 2, 'ism': 2, 'neighbour': 2, 'thaw': 2, 'ensu': 2, 'lemonad': 2, 'hockey': 2, 'worldli': 2, 'retail': 2, 'innov': 2, 'compon': 2, 'winston': 2, 'churchil': 2, 'youngster': 2, 'anxious': 2, 'ww': 2, 'noah': 2, 'silver': 2, 'glitter': 2, 'caption': 2, 'mull': 2, 'weed': 2, 'readership': 2, 'seep': 2, 'inquir': 2, 'knight': 2, 'feebl': 2, 'coconut': 2, 'tropic': 2, 'embarras': 2, 'standbi': 2, 'comprehend': 2, 'rode': 2, 'bagel': 2, 'giver': 2, 'reluctantli': 2, 'grove': 2, 'poo': 2, 'deterior': 2, 'readjust': 2, 'bye': 2, 'displac': 2, 'east': 2, 'subdu': 2, 'crazili': 2, 'reilli': 2, 'suitabl': 2, 'notifi': 2, 'unreal': 2, 'unbear': 2, 'vbac': 2, 'deepika': 2, 'friggin': 2, 'dissip': 2, 'incap': 2, 'justif': 2, 'dorm': 2, 'liberti': 2, 'rustl': 2, 'dazzl': 2, 'malaysia': 2, 'menswear': 2, 'abyss': 2, 'pearl': 2, 'l': 2, 'boo': 2, 'dork': 2, 'provok': 2, 'adher': 2, 'medal': 2, 'unfit': 2, 'discount': 2, 'contrari': 2, 'persona': 2, 'saudi': 2, 'suspicion': 2, 'disagr': 2, 'mankind': 2, 'turkish': 2, 'consolid': 2, 'vicari': 2, 'distribut': 2, 'overweight': 2, 'undesir': 2, 'inact': 2, 'reconcil': 2, 'kai': 2, 'passport': 2, 'horrid': 2, 'dentist': 2, 'undon': 2, 'immin': 2, 'abou': 2, 'enact': 2, 'overdo': 2, 'shannon': 2, 'h': 2, 'pot': 2, 'narr': 2, 'mm': 2, 'composit': 2, 'implement': 2, 'grader': 2, 'wreck': 2, 'afield': 2, 'bearabl': 2, 'disclaim': 2, 'exposur': 2, 'decidedli': 2, 'humbug': 2, 'sephora': 2, 'equival': 2, 'clearboth': 2, 'grill': 2, 'veil': 2, 'ingrain': 2, 'rupe': 2, 'europ': 2, 'over': 2, 'sugari': 2, 'hone': 2, 'wield': 2, 'razor': 2, 'withstand': 2, 'bog': 2, 'burner': 2, 'exclus': 2, 'port': 2, 'cath': 2, 'ceo': 2, 'tower': 2, 'rooster': 2, 'amvassago': 2, 'beefi': 2, 'beef': 2, 'momma': 2, 'novic': 2, 'stationari': 2, 'percentag': 2, 'map': 2, 'frazzl': 2, 'melanchol': 2, 'dm': 2, 'jeff': 2, 'cornbread': 2, 'honey': 2, 'innat': 2, 'substitut': 2, 'moan': 2, 'sketch': 2, 'rekindl': 2, 'adomen': 2, 'coin': 2, 'evidenc': 2, 'alittl': 2, 'traumatis': 2, 'climat': 2, 'touchi': 2, 'feeli': 2, 'mormon': 2, 'atleast': 2, 'leaf': 2, 'uncommon': 2, 'western': 2, 'spotless': 2, 'sacr': 2, 'vener': 2, 'pore': 2, 'manila': 2, 'wheat': 2, 'pasta': 2, 'relev': 2, 'stanc': 2, 'istanbul': 2, 'claustrophob': 2, 'perus': 2, 'panick': 2, 'wallow': 2, 'materialist': 2, 'nitch': 2, 'bolt': 2, 'couldv': 2, 'chatter': 2, 'fuss': 2, 'spoiler': 2, 'badass': 2, 'cray': 2, 'smash': 2, 'deploy': 2, 'jon': 2, 'forgiven': 2, 'strongest': 2, 'costli': 2, 'falter': 2, 'unza': 2, 'tmr': 2, 'bsc': 2, 'alli': 2, 'prank': 2, 'hiccup': 2, 'swirl': 2, 'snore': 2, 'handbag': 2, 'pickl': 2, 'passag': 2, 'kenni': 2, 'steven': 2, 'undercurr': 2, 'maggi': 2, 'untouch': 2, 'checklist': 2, 'thailand': 2, 'spaciou': 2, 'recept': 2, 'hobbl': 2, 'delus': 2, 'denial': 2, 'occassion': 2, 'whack': 2, 'polar': 2, 'fragment': 2, 'woodland': 2, 'launch': 2, 'needlessli': 2, 'supposedli': 2, 'supplement': 2, 'illicit': 2, 'creator': 2, 'cruel': 2, 'vomit': 2, 'pragmat': 2, 'pavilion': 2, 'rear': 2, 'strewn': 2, 'pearli': 2, 'toast': 2, 'css': 2, 'yank': 2, 'parcel': 2, 'elsewher': 2, 'brat': 2, 'combo': 2, 'divulg': 2, 'awaken': 2, 'freshman': 2, 'jo': 2, 'bucket': 2, 'fanat': 2, 'yard': 2, 'nonexist': 2, 'alert': 2, 'guard': 2, 'senat': 2, 'procrastin': 2, 'built': 2, 'epiphani': 2, 'leak': 2, 'stagnat': 2, 'misbehavior': 2, 'vampir': 2, 'mayhem': 2, 'mesh': 2, 'sage': 2, 'smallest': 2, 'pelvi': 2, 'complaini': 2, 'menu': 2, 'jone': 2, 'revers': 2, 'unintent': 2, 'taller': 2, 'stinki': 2, 'jess': 2, 'fold': 2, 'sprint': 2, 'regist': 2, 'ankl': 2, 'salt': 2, 'heartburn': 2, 'pushi': 2, 'caregiv': 2, 'ethiopia': 2, 'matern': 2, 'disgruntl': 2, 'parodi': 2, 'adequ': 2, 'painless': 2, 'ambit': 2, 'lauren': 2, 'knitter': 2, 'apathi': 2, 'teeter': 2, 'apothecari': 2, 'nomine': 2, 'scotland': 2, 'clung': 2, 'majorli': 2, 'blabber': 2, 'swept': 2, 'mistreat': 2, 'lloyd': 2, 'ditch': 2, 'sift': 2, 'mound': 2, 'donut': 2, 'conform': 2, 'al': 2, 'alaska': 2, 'insidi': 2, 'effici': 2, 'steril': 2, 'brim': 2, 'sandi': 2, 'tempura': 2, 'dearli': 2, 'remedi': 2, 'boutiqu': 2, 'antisoci': 2, 'murder': 2, 'historian': 2, 'strap': 2, 'nightli': 2, 'amish': 2, 'agonis': 2, 'bookstor': 2, 'gm': 2, 'insati': 2, 'austen': 2, 'sceneri': 2, 'luminari': 2, 'kin': 2, 'bench': 2, 'threat': 2, 'woeful': 2, 'ds': 2, 'rd': 2, 'dd': 2, 'angst': 2, 'yelp': 2, 'deplet': 2, 'smoothi': 2, 'dynam': 2, 'gaia': 2, 'deodor': 2, 'snob': 2, 'stumbleupon': 2, 'alt': 2, 'elementari': 2, 'grimac': 2, 'yknow': 2, 'district': 2, 'katniss': 2, 'chalk': 2, 'blackpool': 2, 'unwillingli': 2, 'unpaid': 2, 'presum': 2, 'unfurl': 2, 'junior': 2, 'ta': 2, 'handedli': 2, 'relentlessli': 2, 'pe': 2, 'nao': 2, 'eloqu': 2, 'soapbox': 2, 'whiff': 2, 'burrow': 2, 'lowest': 2, 'edochi': 2, 'egalitarian': 2, 'shouldv': 2, 'tediou': 2, 'photoshoot': 2, 'droop': 2, 'crisp': 2, 'ash': 2, 'tail': 2, 'governor': 2, 'dirt': 2, 'idl': 2, 'snooz': 2, 'intak': 2, 'cruis': 2, 'ath': 2, 'dew': 2, 'cassandra': 2, 'ginger': 2, 'eater': 2, 'net': 2, 'ebook': 2, 'uniti': 2, 'sinu': 2, 'ted': 2, 'sneez': 2, 'shave': 2, 'whoop': 2, 'constip': 2, 'fatal': 2, 'britney': 2, 'fourth': 2, 'regiment': 2, 'midterm': 2, 'scold': 2, 'nightmarish': 2, 'permeat': 2, 'proceed': 2, 'dominican': 2, 'cautious': 2, 'jungl': 2, 'ie': 2, 'versu': 2, 'veer': 2, 'rite': 2, 'itd': 2, 'peak': 2, 'translat': 2, 'river': 2, 'liquor': 2, 'copper': 2, 'betti': 2, 'jolt': 2, 'dh': 2, 'compound': 2, 'regurgit': 2, 'beij': 2, 'pitcher': 2, 'iri': 2, 'taunt': 2, 'frailti': 2, 'stab': 2, 'unattain': 2, 'prolong': 2, 'wist': 2, 'pent': 2, 'underground': 2, 'murmur': 2, 'stoic': 2, 'icki': 2, 'tatter': 2, 'boredom': 2, 'mascara': 2, 'beachi': 2, 'gender': 2, 'superfici': 2, 'uhuru': 2, 'persecut': 2, 'martha': 2, 'cautiou': 2, 'angsti': 2, 'deer': 2, 'parad': 2, 'thoma': 2, 'au': 2, 'ng': 2, 'hamburg': 2, 'steak': 2, 'fob': 2, 'supervisor': 2, 'joey': 2, 'sitcom': 2, 'baggag': 2, 'preposter': 2, 'slope': 2, 'solac': 2, 'mingl': 2, 'strop': 2, 'quiver': 2, 'segment': 2, 'jet': 2, 'locker': 2, 'tide': 2, 'captiv': 2, 'scandal': 2, 'nfl': 2, 'captain': 2, 'cdm': 2, 'flac': 2, 'custod': 2, 'download': 2, 'varieti': 2, 'gosh': 2, 'sheepish': 2, 'dryer': 2, 'gimmick': 2, 'tia': 2, 'seventi': 2, 'cab': 2, 'mathemat': 2, 'devour': 2, 'profound': 2, 'embark': 2, 'biscuit': 2, 'glossi': 2, 'stoner': 2, 'me': 2, 'inhal': 2, 'blink': 2, 'blurt': 2, 'rank': 2, 'horizont': 2, 'persuas': 2, 'comp': 2, 'buzz': 2, 'luca': 2, 'wherebi': 2, 'passersbi': 2, 'surf': 2, 'broom': 2, 'scrub': 2, 'vinegar': 2, 'enamour': 2, 'refriger': 2, 'fa': 2, 'suscept': 2, 'caretak': 2, 'enchant': 2, 'bc': 2, 'classwork': 2, 'accent': 2, 'facil': 2, 'corneliu': 2, 'tab': 2, 'juici': 2, 'snoop': 2, 'loopi': 2, 'angi': 2, 'intrud': 2, 'retreat': 2, 'horrifi': 2, 'ugli': 2, 'prejud': 2, 'revisit': 2, 'chanel': 2, 'snapback': 2, 'wholesal': 2, 'obey': 2, 'aku': 2, 'superstit': 2, 'muddi': 2, 'collaps': 2, 'blowout': 2, 'marbl': 2, 'railway': 2, 'pistol': 2, 'rocket': 2, 'postgradu': 2, 'taryn': 2, 'durat': 2, 'cyber': 2, 'crossroad': 2, 'roughli': 2, 'segreg': 2, 'castl': 2, 'refere': 2, 'unwind': 2, 'swimsuit': 2, 'traci': 2, 'intrigu': 2, 'tether': 2, 'chemic': 2, 'goth': 2, 'punk': 2, 'principl': 2, 'recount': 2, 'hyena': 2, 'flaki': 2, 'trouser': 2, 'sinist': 2, 'compuls': 2, 'acquir': 2, 'shina': 2, 'infrastructur': 2, 'dam': 2, 'bush': 2, 'advers': 2, 'elus': 2, 'estrogen': 2, 'sweeney': 2, 'lightn': 2, 'theatr': 2, 'mutual': 2, 'menopaus': 2, 'alloc': 2, 'auster': 2, 'fatigu': 2, 'prevail': 2, 'sucki': 2, 'missi': 2, 'pokemon': 2, 'boldli': 2, 'restrain': 2, 'repay': 2, 'campu': 2, 'hook': 2, 'baffl': 2, 'luke': 2, 'gunong': 2, 'ledang': 2, 'sulfat': 2, 'towel': 2, 'hsp': 2, 'shelv': 2, 'satan': 2, 'ben': 2, 'cia': 2, 'oxford': 2, 'afrad': 2, 'partnership': 2, 'nip': 2, 'fic': 2, 'writ': 2, 'hazi': 2, 'dee': 2, 'triangl': 2, 'addison': 2, 'apron': 2, 'undergo': 2, 'recit': 2, 'architectur': 2, 'forest': 2, 'manli': 2, 'prosper': 2, 'omin': 2, 'buddhism': 2, 'leadership': 2, 'filter': 2, 'sarawak': 2, 'chronicl': 2, 'stamp': 2, 'culprit': 2, 'tigger': 2, 'institut': 2, 'quieter': 2, 'psycho': 2, 'invinc': 2, 'supervis': 2, 'spazz': 2, 'cardio': 2, 'canal': 2, 'shaun': 2, 'mumbai': 2, 'dens': 2, 'calcul': 2, 'brink': 2, 'multi': 2, 'speci': 2, 'rave': 2, 'grandpa': 2, 'bishop': 2, 'specul': 2, 'eboni': 2, 'agon': 2, 'daunt': 2, 'zimbabw': 2, 'slam': 2, 'queri': 2, 'thesi': 2, 'meaningless': 2, 'smother': 2, 'mojo': 2, 'claret': 2, 'jug': 2, 'rod': 2, 'divis': 2, 'mechan': 2, 'katrina': 2, 'reclus': 2, 'swan': 2, 'appetit': 2, 'noodl': 2, 'philadelphia': 2, 'pa': 2, 'tuition': 2, 'mph': 2, 'funki': 2, 'daisi': 2, 'msg': 2, 'loudli': 2, 'ritual': 2, 'sweden': 2, 'publicli': 2, 'outstand': 2, 'algebra': 2, 'longev': 2, 'turmoil': 2, 'wip': 2, 'le': 2, 'rash': 2, 'ep': 2, 'pip': 2, 'needless': 2, 'practis': 2, 'uh': 2, 'curb': 2, 'util': 2, 'drinkin': 2, 'whiskey': 2, 'tart': 2, 'cereal': 2, 'repuls': 2, 'household': 2, 'verdict': 2, 'freakishli': 2, 'maxim': 2, 'trustworthi': 2, 'explos': 2, 'slumber': 2, 'cara': 2, 'disciplin': 2, 'stray': 2, 'credenti': 2, 'wonderland': 2, 'karaok': 2, 'smitten': 2, 'eyelash': 2, 'merci': 2, 'magnific': 2, 'brows': 2, 'carb': 2, 'peach': 2, 'fame': 2, 'adulthood': 2, 'artifici': 2, 'def': 2, 'ici': 2, 'poetic': 2, 'tom': 2, 'dualiti': 2, 'trillion': 2, 'premonit': 2, 'candi': 2, 'neuropathi': 2, 'aspir': 2, 'stroller': 2, 'constrain': 2, 'righteou': 2, 'ballroom': 2, 'tape': 2, 'masterpiec': 2, 'tran': 2, 'courtney': 2, 'minuscul': 2, 'van': 2, 'winc': 2, 'alic': 2, 'haunt': 2, 'incredul': 2, 'josh': 2, 'munch': 2, 'swarm': 2, 'moonlight': 2, 'zest': 2, 'variat': 2, 'erm': 2, 'tulip': 2, 'desol': 2, 'sasha': 2, 'picki': 2, 'lag': 2, 'distort': 2, 'skincar': 2, 'glycerin': 2, 'indonesia': 2, 'gari': 2, 'snail': 2, 'snowi': 2, 'southern': 2, 'gratuit': 2, 'homophob': 2, 'fork': 2, 'sweetheart': 2, 'jay': 2, 'outweigh': 2, 'trusti': 2, 'quixot': 2, 'indi': 2, 'poverti': 2, 'shyness': 2, 'disapprov': 2, 'dot': 2, 'encompass': 2, 'nonstop': 2, 'stuffi': 2, 'sweatshirt': 2, 'unbeliev': 2, 'mua': 2, 'chart': 2, 'spew': 2, 'colbi': 2, 'contradict': 2, 'oftentim': 2, 'stew': 2, 'urgent': 2, 'logo': 2, 'pipe': 2, 'counti': 2, 'storag': 2, 'tha': 2, 'unwel': 2, 'isaac': 2, 'diari': 2, 'schoolgirl': 2, 'boston': 2, 'dutch': 2, 'poorli': 2, 'crochet': 2, 'swollen': 2, 'chin': 2, 'solitari': 2, 'ib': 2, 'reunit': 2, 'facilit': 2, 'offset': 2, 'webpag': 2, 'crutch': 2, 'payday': 2, 'loan': 2, 'monthli': 2, 'getaway': 2, 'pac': 2, 'peril': 2, 'derang': 2, 'microsoft': 2, 'kiddi': 2, 'paralysi': 2, 'bloodi': 2, 'patch': 2, 'workplac': 2, 'momentarili': 2, 'kuya': 2, 'sd': 2, 'commod': 2, 'fraud': 2, 'morsel': 2, 'brake': 2, 'convo': 2, 'broad': 2, 'activist': 2, 'christmassi': 2, 'appeas': 2, 'mona': 2, 'screenshot': 2, 'academia': 2, 'risen': 2, 'wizard': 2, 'oz': 2, 'savour': 2, 'plead': 2, 'loki': 2, 'ken': 2, 'sharia': 2, 'union': 2, 'hurl': 2, 'rearrang': 2, 'perri': 2, 'mous': 2, 'skillz': 2, 'sculpt': 2, 'gape': 2, 'sceptic': 2, 'boast': 2, 'fortitud': 2, 'instal': 2, 'globe': 2, 'embed': 2, 'tsunami': 2, 'ink': 2, 'sep': 2, 'certainti': 2, 'astonish': 2, 'inaugur': 2, 'shiraishi': 2, 'punctur': 2, 'mediat': 2, 'condon': 2, 'constructiv': 2, 'royal': 2, 'unfairli': 2, 'bound': 2, 'gospel': 2, 'mistress': 2, 'denis': 2, 'te': 2, 'normalci': 2, 'prestigi': 2, 'duct': 2, 'tactic': 2, 'breakup': 2, 'fuzzi': 2, 'correctli': 2, 'choru': 2, 'yu': 2, 'godli': 2, 'unforgett': 2, 'javascript': 2, 'whooooo': 2, 'trite': 2, 'nerd': 2, 'buff': 2, 'agenc': 2, 'beirut': 2, 'sl': 2, 'sheep': 2, 'mega': 2, 'clingi': 2, 'wh': 2, 'bomber': 2, 'pester': 2, 'templat': 2, 'cherri': 2, 'flatmat': 2, 'imprint': 2, 'overeat': 2, 'trumpet': 2, 'marginalis': 2, 'becasu': 2, 'drift': 2, 'eyelin': 2, 'mag': 2, 'approxim': 2, 'savior': 2, 'formal': 2, 'blogospher': 2, 'creed': 2, 'fragil': 2, 'inject': 2, 'inhuman': 2, 'unfinish': 2, 'invari': 2, 'salut': 2, 'temp': 2, 'simpler': 2, 'gettin': 2, 'hinder': 2, 'swedish': 2, 'ship': 2, 'feat': 2, 'emma': 2, 'shortli': 2, 'circu': 2, 'bee': 2, 'slog': 2, 'ml': 2, 'waft': 2, 'char': 2, 'merit': 2, 'patholog': 2, 'floss': 2, 'kentucki': 2, 'utah': 2, 'wept': 2, 'jam': 2, 'recruit': 2, 'soulmat': 2, 'fundament': 2, 'canadian': 2, 'brethren': 2, 'iam': 2, 'lh': 2, 'exot': 2, 'wagon': 2, 'par': 2, 'tooth': 2, 'shirley': 2, 'sub': 2, 'flake': 2, 'mumbl': 2, 'stud': 2, 'revenu': 2, 'thumb': 2, 'rawr': 2, 'hopper': 2, 'distrust': 2, 'snug': 2, 'dummi': 2, 'aretha': 2, 'batteri': 2, 'tutor': 2, 'endors': 2, 'lo': 2, 'rivalri': 2, 'apostroph': 2, 'monasteri': 2, 'withdrawn': 2, 'vice': 2, 'pertain': 2, 'tournament': 2, 'starbuck': 2, 'jenni': 2, 'pilot': 2, 'heighten': 2, 'posto': 2, 'swamp': 2, 'stub': 2, 'jar': 2, 'dehydr': 2, 'rub': 2, 'feautur': 2, 'da': 2, 'dat': 2, 'br': 2, 'monarch': 2, 'donna': 2, 'underappreci': 2, 'vancouv': 2, 'imperfect': 2, 'rpg': 2, 'yomi': 2, 'karat': 2, 'frog': 2, 'nuanc': 2, 'conclud': 2, 'questionnair': 2, 'kilter': 2, 'calmli': 2, 'oop': 2, 'influx': 2, 'carter': 2, 'crib': 2, 'retali': 2, 'shuffl': 2, 'effin': 2, 'se': 2, 'freshli': 2, 'empathis': 2, 'trailer': 2, 'jog': 2, 'chant': 2, 'muffin': 2, 'clamour': 2, 'blunder': 2, 'downtown': 2, 'delet': 2, 'miracul': 2, 'diamond': 2, 'japan': 2, 'manchest': 2, 'irrelev': 2, 'claudia': 2, 'forese': 2, 'mabel': 2, 'sandpip': 2, 'mislead': 2, 'storylin': 2, 'thi': 2, 'outsourc': 2, 'asa': 2, 'hs': 2, 'molest': 2, 'feng': 2, 'mariu': 2, 'schoolboy': 2, 'jew': 2, 'cairn': 2, 'podcast': 2, 'eighti': 2, 'tram': 2, 'dammit': 2, 'pronto': 2, 'olu': 2, 'jacob': 2, 'gna': 2, 'slytherin': 2, 'overflow': 2, 'egyptian': 2, 'detract': 2, 'milligram': 1, 'proto': 1, 'bm': 1, 'lenghth': 1, 'pp': 1, 'gentleman': 1, 'denmark': 1, 'dough': 1, 'stymi': 1, 'unintend': 1, 'qaf': 1, 'cryin': 1, 'jacynth': 1, 'lookin': 1, 'rupaul': 1, 'kayl': 1, 'gerl': 1, 'cellular': 1, 'implant': 1, 'proudest': 1, 'ovari': 1, 'unsuit': 1, 'mxm': 1, 'nay': 1, 'firey': 1, 'leann': 1, 'dannika': 1, 'shooter': 1, 'animos': 1, 'wryli': 1, 'banal': 1, 'attorney': 1, 'alba': 1, 'toner': 1, 'coron': 1, 'overcompens': 1, 'effortlessli': 1, 'pram': 1, 'latt': 1, 'hyperchondria': 1, 'bloge': 1, 'artif': 1, 'whimper': 1, 'dickinson': 1, 'enjamb': 1, 'sonnet': 1, 'rumour': 1, 'tango': 1, 'mak': 1, 'enclos': 1, 'solitud': 1, 'irrevoc': 1, 'educationg': 1, 'papa': 1, 'freshen': 1, 'antagon': 1, 'wholeheartedli': 1, 'armistic': 1, 'gosman': 1, 'touristi': 1, 'montauk': 1, 'infrequ': 1, 'caw': 1, 'seagul': 1, 'hy': 1, 'inarticul': 1, 'looter': 1, 'blackmail': 1, 'summeri': 1, 'bummin': 1, 'ssr': 1, 'lobbi': 1, 'inventori': 1, 'perish': 1, 'smelli': 1, 'jalopi': 1, 'curat': 1, 'tic': 1, 'sharpest': 1, 'wheeeeee': 1, 'blatant': 1, 'seriouli': 1, 'deen': 1, 'bandhu': 1, 'brick': 1, 'naomi': 1, 'klein': 1, 'hawk': 1, 'dykey': 1, 'caveman': 1, 'provokingbeauti': 1, 'bead': 1, 'hemorrhoid': 1, 'unibrow': 1, 'bodypump': 1, 'compulsori': 1, 'cue': 1, 'weatherman': 1, 'forecast': 1, 'microcosm': 1, 'nemo': 1, 'bouncer': 1, 'smoker': 1, 'mailbox': 1, 'hindranc': 1, 'conif': 1, 'shovel': 1, 'honkerblonk': 1, 'caller': 1, 'salti': 1, 'satur': 1, 'clermont': 1, 'jann': 1, 'suominen': 1, 'buti': 1, 'yardag': 1, 'pileon': 1, 'communion': 1, 'theolog': 1, 'brig': 1, 'toni': 1, 'ight': 1, 'merican': 1, 'happpi': 1, 'finn': 1, 'censor': 1, 'kamiki': 1, 'kun': 1, 'nozomi': 1, 'nonchan': 1, 'cheerlead': 1, 'unreward': 1, 'beaubronz': 1, 'boudoir': 1, 'asma': 1, 'docrat': 1, 'romcom': 1, 'morri': 1, 'sieg': 1, 'allthingsbuck': 1, 'nom': 1, 'nineteen': 1, 'unilater': 1, 'careless': 1, 'gooooood': 1, 'seo': 1, 'wink': 1, 'irresponc': 1, 'benzema': 1, 'mould': 1, 'rington': 1, 'belonging': 1, 'thia': 1, 'scruncher': 1, 'carbi': 1, 'glycem': 1, 'encod': 1, 'utf': 1, 'ispriv': 1, 'ismobil': 1, 'mobileclass': 1, 'isprivateblog': 1, 'languagedirect': 1, 'feedlink': 1, 'xml': 1, 'repriev': 1, 'moz': 1, 'lorena': 1, 'mister': 1, 'magnum': 1, 'uae': 1, 'oblivi': 1, 'cena': 1, 'indiffer': 1, 'bloom': 1, 'pagan': 1, 'weightless': 1, 'repent': 1, 'inbal': 1, 'committ': 1, 'reconcili': 1, 'sneha': 1, 'scone': 1, 'yup': 1, 'fma': 1, 'athletic': 1, 'hive': 1, 'moss': 1, 'sharper': 1, 'nameless': 1, 'awash': 1, 'overeduc': 1, 'indentur': 1, 'dupe': 1, 'trot': 1, 'mommyhood': 1, 'xox': 1, 'unsolv': 1, 'wither': 1, 'socket': 1, 'nowwwwww': 1, 'semblanc': 1, 'arab': 1, 'soldier': 1, 'doha': 1, 'unrel': 1, 'glum': 1, 'forelorn': 1, 'squeak': 1, 'baachan': 1, 'trolley': 1, 'wive': 1, 'shoeless': 1, 'loudon': 1, 'kate': 1, 'mcgarrigl': 1, 'rufu': 1, 'rafael': 1, 'bosch': 1, 'gulam': 1, 'singer': 1, 'snotfac': 1, 'gwiyomi': 1, 'chalic': 1, 'galley': 1, 'bodywork': 1, 'autobiographi': 1, 'blackwat': 1, 'unsung': 1, 'mccarthi': 1, 'spritzer': 1, 'nagalen': 1, 'stellarium': 1, 'bleu': 1, 'brandi': 1, 'poppi': 1, 'broaden': 1, 'dreari': 1, 'sweetli': 1, 'broadli': 1, 'ro': 1, 'coo': 1, 'firstborn': 1, 'walia': 1, 'tarun': 1, 'bani': 1, 'stiller': 1, 'vaughn': 1, 'hater': 1, 'lobia': 1, 'pensiv': 1, 'bqff': 1, 'agnost': 1, 'judeo': 1, 'fundamentalist': 1, 'outgrown': 1, 'fave': 1, 'jeanett': 1, 'winterson': 1, 'scope': 1, 'ridden': 1, 'forearm': 1, 'leonard': 1, 'fn': 1, 'missgiv': 1, 'terminando': 1, 'ano': 1, 'depoi': 1, 'inconsist': 1, 'ehb': 1, 'ow': 1, 'grievanc': 1, 'nouveau': 1, 'have': 1, 'elihu': 1, 'christmastim': 1, 'darkli': 1, 'proplem': 1, 'bitch': 1, 'bodili': 1, 'lexicon': 1, 'uncompos': 1, 'teachabl': 1, 'tiphani': 1, 'joshua': 1, 'dontknow': 1, 'linu': 1, 'lowlight': 1, 'rampag': 1, 'horrif': 1, 'hgtv': 1, 'gene': 1, 'poet': 1, 'covetousn': 1, 'terpen': 1, 'wieght': 1, 'docil': 1, 'exclud': 1, 'lion': 1, 'awkwardli': 1, 'melbourn': 1, 'carapac': 1, 'leadingstr': 1, 'constraint': 1, 'psalm': 1, 'laze': 1, 'terri': 1, 'yippe': 1, 'ratti': 1, 'dickensian': 1, 'flamingo': 1, 'ruach': 1, 'hakodesh': 1, 'dale': 1, 'fruster': 1, 'toughen': 1, 'myelf': 1, 'mehow': 1, 'infield': 1, 'zara': 1, 'groan': 1, 'unplan': 1, 'lyme': 1, 'coinfect': 1, 'comprehens': 1, 'herrman': 1, 'sxe': 1, 'bop': 1, 'espresso': 1, 'claw': 1, 'scratchi': 1, 'marg': 1, 'simpson': 1, 'squelch': 1, 'darker': 1, 'throng': 1, 'fervor': 1, 'refram': 1, 'defer': 1, 'horsey': 1, 'fatti': 1, 'struff': 1, 'fedtast': 1, 'tenni': 1, 'emm': 1, 'amblesid': 1, 'warmest': 1, 'sunniest': 1, 'increment': 1, 'rigid': 1, 'browser': 1, 'vineman': 1, 'racin': 1, 'ller': 1, 'misinform': 1, 'unsupervis': 1, 'sucess': 1, 'handbrak': 1, 'fulsom': 1, 'ac': 1, 'shaft': 1, 'kneel': 1, 'hapi': 1, 'desp': 1, 'gatsbi': 1, 'vault': 1, 'sti': 1, 'crucifi': 1, 'forsaken': 1, 'shun': 1, 'foundri': 1, 'wherewith': 1, 'bandwagon': 1, 'adolesc': 1, 'belmont': 1, 'alcest': 1, 'goodnight': 1, 'dunham': 1, 'minimis': 1, 'contort': 1, 'ritz': 1, 'undo': 1, 'bigotri': 1, 'altitud': 1, 'cliquey': 1, 'wrung': 1, 'hyperemesi': 1, 'intermarri': 1, 'soley': 1, 'gladiat': 1, 'wayn': 1, 'nikki': 1, 'minaj': 1, 'rucksack': 1, 'cosmic': 1, 'flung': 1, 'takeaway': 1, 'chocci': 1, 'preacher': 1, 'podium': 1, 'vella': 1, 'entail': 1, 'civilli': 1, 'derfwadmanor': 1, 'gracia': 1, 'por': 1, 'todo': 1, 'idealist': 1, 'proport': 1, 'nico': 1, 'vomiti': 1, 'slalom': 1, 'balk': 1, 'eighteen': 1, 'unedit': 1, 'trudg': 1, 'gulp': 1, 'carniola': 1, 'suburban': 1, 'kairi': 1, 'ceas': 1, 'holier': 1, 'thou': 1, 'mca': 1, 'cajol': 1, 'janel': 1, 'mon': 1, 'ell': 1, 'crust': 1, 'conor': 1, 'migrain': 1, 'damp': 1, 'motorway': 1, 'ramadan': 1, 'tenderli': 1, 'vlog': 1, 'rhythmic': 1, 'immedietli': 1, 'wal': 1, 'mart': 1, 'andthenwear': 1, 'linda': 1, 'macabr': 1, 'fountain': 1, 'itttt': 1, 'hovel': 1, 'creativecommon': 1, 'errrr': 1, 'benadryl': 1, 'herzog': 1, 'deck': 1, 'zayn': 1, 'churchofmess': 1, 'renov': 1, 'nvm': 1, 'predatori': 1, 'asylum': 1, 'seeker': 1, 'intermitt': 1, 'diego': 1, 'spaci': 1, 'ordin': 1, 'orderli': 1, 'fractur': 1, 'hilmari': 1, 'unsophist': 1, 'katja': 1, 'disallus': 1, 'anansi': 1, 'spurt': 1, 'reve': 1, 'pulp': 1, 'atop': 1, 'testimoni': 1, 'overr': 1, 'entireti': 1, 'consumpt': 1, 'untri': 1, 'boehner': 1, 'copiou': 1, 'speakership': 1, 'scafel': 1, 'mixer': 1, 'idreamcultur': 1, 'leech': 1, 'reagan': 1, 'slim': 1, 'veterinari': 1, 'roster': 1, 'housekeep': 1, 'hast': 1, 'harrass': 1, 'sunset': 1, 'plank': 1, 'stammer': 1, 'burlesqu': 1, 'overt': 1, 'speechless': 1, 'hipster': 1, 'mousekin': 1, 'buffi': 1, 'pan': 1, 'botani': 1, 'lec': 1, 'douevenlift': 1, 'framework': 1, 'chicki': 1, 'mystiqu': 1, 'acheiv': 1, 'bloater': 1, 'reiter': 1, 'mermaidhair': 1, 'bailey': 1, 'nh': 1, 'breakdown': 1, 'archeolog': 1, 'guinea': 1, 'sparrow': 1, 'dilut': 1, 'bulletin': 1, 'careess': 1, 'hu': 1, 'jia': 1, 'ace': 1, 'dishwash': 1, 'discard': 1, 'approx': 1, 'compel': 1, 'meek': 1, 'dojo': 1, 'newer': 1, 'franz': 1, 'liebkind': 1, 'fuhrer': 1, 'candyland': 1, 'haggard': 1, 'xvi': 1, 'antoinett': 1, 'russia': 1, 'croc': 1, 'stasia': 1, 'puff': 1, 'interven': 1, 'scribbl': 1, 'ghd': 1, 'russel': 1, 'merida': 1, 'phoenix': 1, 'crosshatch': 1, 'lensflar': 1, 'darren': 1, 'dozen': 1, 'oomph': 1, 'foist': 1, 'scab': 1, 'unheal': 1, 'tween': 1, 'turnout': 1, 'frombut': 1, 'chunki': 1, 'commiss': 1, 'butcheri': 1, 'hav': 1, 'babychas': 1, 'ratbagx': 1, 'influenti': 1, 'imdo': 1, 'vortex': 1, 'petit': 1, 'rampant': 1, 'lawrencewashington': 1, 'swag': 1, 'unpress': 1, 'outlet': 1, 'pronounc': 1, 'redhead': 1, 'sumthg': 1, 'thk': 1, 'irc': 1, 'bb': 1, 'leather': 1, 'ty': 1, 'molyneux': 1, 'lemm': 1, 'arena': 1, 'cagey': 1, 'quaker': 1, 'fortnight': 1, 'quantum': 1, 'kleinkind': 1, 'gawd': 1, 'extrememli': 1, 'tibri': 1, 'dreamworld': 1, 'lanc': 1, 'paw': 1, 'itchi': 1, 'musicianship': 1, 'resurrect': 1, 'yk': 1, 'leisur': 1, 'pout': 1, 'rusti': 1, 'moos': 1, 'pregant': 1, 'stunningli': 1, 'samuel': 1, 'exe': 1, 'extremley': 1, 'likeaudrey': 1, 'hepburn': 1, 'tiffani': 1, 'flounder': 1, 'offlin': 1, 'amo': 1, 'retrofit': 1, 'homag': 1, 'restart': 1, 'alis': 1, 'nightlif': 1, 'crunk': 1, 'mg': 1, 'seroquel': 1, 'blogpost': 1, 'lipbalm': 1, 'subj': 1, 'plod': 1, 'placc': 1, 'demostr': 1, 'constru': 1, 'acctual': 1, 'casserol': 1, 'pitch': 1, 'in': 1, 'luncheon': 1, 'shifti': 1, 'aoa': 1, 'mat': 1, 'anyhow': 1, 'circuit': 1, 'trampl': 1, 'encapsul': 1, 'fester': 1, 'detach': 1, 'rile': 1, 'unsheath': 1, 'titanium': 1, 'hedgehog': 1, 'trepidati': 1, 'idioci': 1, 'fastforward': 1, 'wean': 1, 'ia': 1, 'sooooo': 1, 'columbia': 1, 'tremor': 1, 'deaf': 1, 'comb': 1, 'bourbon': 1, 'postpon': 1, 'mauri': 1, 'ahahahaha': 1, 'morbidli': 1, 'stpm': 1, 'murakami': 1, 'canaglia': 1, 'lollypop': 1, 'hausa': 1, 'motorcyclist': 1, 'disclosur': 1, 'warner': 1, 'blu': 1, 'urbanit': 1, 'buzzi': 1, 'mil': 1, 'rattl': 1, 'exhal': 1, 'vapor': 1, 'laci': 1, 'babysitt': 1, 'reevalu': 1, 'czech': 1, 'wardrod': 1, 'excercis': 1, 'frock': 1, 'miyavi': 1, 'xia': 1, 'eagerli': 1, 'andri': 1, 'skater': 1, 'blurri': 1, 'dave': 1, 'atel': 1, 'render': 1, 'thearchitectur': 1, 'utopian': 1, 'scof': 1, 'kardashion': 1, 'onward': 1, 'trepid': 1, 'woop': 1, 'wade': 1, 'deflat': 1, 'fran': 1, 'holyhead': 1, 'pothol': 1, 'unearthli': 1, 'manipulk': 1, 'liz': 1, 'earl': 1, 'coolum': 1, 'smooch': 1, 'grayish': 1, 'thereof': 1, 'sheriff': 1, 'larri': 1, 'embaress': 1, 'naught': 1, 'disco': 1, 'uruk': 1, 'hai': 1, 'likewis': 1, 'reaura': 1, 'tripl': 1, 'notorieti': 1, 'espous': 1, 'borrow': 1, 'bumper': 1, 'bid': 1, 'muze': 1, 'mujh': 1, 'zay': 1, 'ladybit': 1, 'instig': 1, 'dumpl': 1, 'chinatown': 1, 'leafi': 1, 'brunswick': 1, 'barbecu': 1, 'edinburgh': 1, 'parmesan': 1, 'truffl': 1, 'prawn': 1, 'lollipop': 1, 'envious': 1, 'luka': 1, 'chakotay': 1, 'ebb': 1, 'sox': 1, 'tampa': 1, 'wilder': 1, 'downer': 1, 'persuad': 1, 'merg': 1, 'fad': 1, 'allianc': 1, 'snicker': 1, 'pinpoint': 1, 'carbohydr': 1, 'waistlin': 1, 'splendor': 1, 'hansen': 1, 'cha': 1, 'ching': 1, 'mooch': 1, 'turbillion': 1, 'hong': 1, 'kong': 1, 'oft': 1, 'marlin': 1, 'wimbledon': 1, 'misscariag': 1, 'springer': 1, 'letdown': 1, 'incheswhyinch': 1, 'exboyfriend': 1, 'midnight': 1, 'sickli': 1, 'zackmdavi': 1, 'lestat': 1, 'trace': 1, 'disgrac': 1, 'wearili': 1, 'derp': 1, 'lrt': 1, 'happywarmworld': 1, 'heartsick': 1, 'bizarr': 1, 'jalapeno': 1, 'gallow': 1, 'pirat': 1, 'landlubb': 1, 'ziplin': 1, 'shoelac': 1, 'commodor': 1, 'sabrina': 1, 'not': 1, 'digest': 1, 'cyst': 1, 'carl': 1, 'clark': 1, 'peeta': 1, 'katnisss': 1, 'mite': 1, 'drecki': 1, 'vj': 1, 'seth': 1, 'heinous': 1, 'infidel': 1, 'sweeti': 1, 'savingyourmarriagebeforeitstart': 1, 'uncanni': 1, 'laetshi': 1, 'preval': 1, 'fifti': 1, 'tgt': 1, 'unimagin': 1, 'saba': 1, 'wale': 1, 'snatch': 1, 'multiplay': 1, 'agenda': 1, 'elitist': 1, 'silhouett': 1, 'cede': 1, 'doomnat': 1, 'damnat': 1, 'fedex': 1, 'empower': 1, 'brainless': 1, 'mythic': 1, 'wane': 1, 'unconform': 1, 'ab': 1, 'wiser': 1, 'leo': 1, 'clara': 1, 'krupk': 1, 'easel': 1, 'hmmmmm': 1, 'cert': 1, 'toronto': 1, 'dingler': 1, 'exempt': 1, 'walli': 1, 'lamb': 1, 'synthet': 1, 'trinket': 1, 'friggeti': 1, 'personnel': 1, 'censorship': 1, 'procur': 1, 'registr': 1, 'unev': 1, 'august': 1, 'rotund': 1, 'buf': 1, 'bloke': 1, 'quak': 1, 'shore': 1, 'pia': 1, 'yoshida': 1, 'mishandl': 1, 'pun': 1, 'varvel': 1, 'hypersexu': 1, 'tartlet': 1, 'rihanna': 1, 'termin': 1, 'rolex': 1, 'vigil': 1, 'whoosh': 1, 'dipshit': 1, 'ubuntu': 1, 'fathom': 1, 'ewan': 1, 'barri': 1, 'almond': 1, 'redcoat': 1, 'calgari': 1, 'simplest': 1, 'germ': 1, 'overtli': 1, 'voluntari': 1, 'cador': 1, 'bloodsh': 1, 'reign': 1, 'nyquil': 1, 'hihi': 1, 'wintri': 1, 'wwii': 1, 'dang': 1, 'washroom': 1, 'fp': 1, 'ba': 1, 'rebekah': 1, 'satisfactori': 1, 'klau': 1, 'stefan': 1, 'damon': 1, 'ampl': 1, 'arch': 1, 'footb': 1, 'goliath': 1, 'humblest': 1, 'generos': 1, 'scabi': 1, 'verona': 1, 'untrustworthi': 1, 'islam': 1, 'tougher': 1, 'subtli': 1, 'breakthrough': 1, 'hed': 1, 'knuckl': 1, 'uneven': 1, 'oscil': 1, 'yoke': 1, 'stupidli': 1, 'internship': 1, 'moe': 1, 'eyr': 1, 'smith': 1, 'treassur': 1, 'dickish': 1, 'arrog': 1, 'clarifi': 1, 'feelbut': 1, 'beforehand': 1, 'fri': 1, 'trainabl': 1, 'j': 1, 'cumberland': 1, 'pap': 1, 'smear': 1, 'splutter': 1, 'mircowav': 1, 'moffat': 1, 'foreshadow': 1, 'dharma': 1, 'overland': 1, 'gloat': 1, 'escort': 1, 'ranbir': 1, 'ayan': 1, 'mukerji': 1, 'filmfar': 1, 'reexplain': 1, 'birthmom': 1, 'acuiti': 1, 'recollect': 1, 'playlist': 1, 'happenst': 1, 'lambrusco': 1, 'prefac': 1, 'peta': 1, 'holist': 1, 'liquid': 1, 'magnitud': 1, 'liebster': 1, 'cushion': 1, 'derek': 1, 'edibl': 1, 'garnish': 1, 'samphir': 1, 'perplex': 1, 'liam': 1, 'johnni': 1, 'scrapbook': 1, 'likeguy': 1, 'genealog': 1, 'stoop': 1, 'huhuhu': 1, 'whizz': 1, 'orlean': 1, 'pc': 1, 'irregardless': 1, 'remix': 1, 'padlock': 1, 'absolutli': 1, 'hindsight': 1, 'lava': 1, 'export': 1, 'moxi': 1, 'applebe': 1, 'blender': 1, 'sodden': 1, 'sardon': 1, 'squat': 1, 'ivi': 1, 'zimmerman': 1, 'alton': 1, 'beak': 1, 'nearest': 1, 'underwhelm': 1, 'ritalin': 1, 'flia': 1, 'amkri': 1, 'toshibalol': 1, 'amit': 1, 'nooo': 1, 'distributor': 1, 'ambulatori': 1, 'wacki': 1, 'coulter': 1, 'schultz': 1, 'tirad': 1, 'pcm': 1, 'fled': 1, 'underbelli': 1, 'subway': 1, 'meltdown': 1, 'euro': 1, 'concis': 1, 'nesti': 1, 'weeni': 1, 'downtempo': 1, 'xs': 1, 'coher': 1, 'lavend': 1, 'strasbourg': 1, 'prestig': 1, 'deceas': 1, 'marten': 1, 'errat': 1, 'swoon': 1, 'ini': 1, 'bodega': 1, 'changer': 1, 'cocoa': 1, 'flannel': 1, 'nighti': 1, 'direspect': 1, 'fraser': 1, 'submerg': 1, 'wd': 1, 'vehicl': 1, 'iolani': 1, 'rippl': 1, 'aloft': 1, 'onscreen': 1, 'jt': 1, 'roy': 1, 'salutari': 1, 'ged': 1, 'kassim': 1, 'selamat': 1, 'uniform': 1, 'glove': 1, 'clover': 1, 'masteri': 1, 'sharknado': 1, 'liver': 1, 'bt': 1, 'thn': 1, 'cx': 1, 'adam': 1, 'thorough': 1, 'skinnyg': 1, 'clog': 1, 'divid': 1, 'nonchal': 1, 'spelt': 1, 'sorbet': 1, 'strawberri': 1, 'agiat': 1, 'dezinesamaz': 1, 'cavali': 1, 'chiharu': 1, 'homesickish': 1, 'snowpea': 1, 'nissan': 1, 'stanza': 1, 'rt': 1, 'downvot': 1, 'rugmi': 1, 'readmit': 1, 'collin': 1, 'finnerti': 1, 'buuuuuut': 1, 'rach': 1, 'subcontin': 1, 'umbrella': 1, 'christin': 1, 'skull': 1, 'putrid': 1, 'weisman': 1, 'pinnacl': 1, 'thoughtless': 1, 'careeeee': 1, 'sec': 1, 'silki': 1, 'elabor': 1, 'muaz': 1, 'abruptli': 1, 'softbal': 1, 'pelvic': 1, 'comper': 1, 'thwart': 1, 'immobil': 1, 'bestfriend': 1, 'bff': 1, 'coeur': 1, 'alen': 1, 'therapeut': 1, 'compress': 1, 'neatli': 1, 'bestsel': 1, 'kathi': 1, 'lett': 1, 'prequel': 1, 'jedi': 1, 'tbh': 1, 'bobo': 1, 'drum': 1, 'homi': 1, 'kite': 1, 'jacqu': 1, 'meath': 1, 'rudolph': 1, 'valentino': 1, 'unspeak': 1, 'missil': 1, 'chromosom': 1, 'toughest': 1, 'dsp': 1, 'softwar': 1, 'ou': 1, 'tidbit': 1, 'xdd': 1, 'hohoho': 1, 'foward': 1, 'cya': 1, 'skillzz': 1, 'onset': 1, 'heathen': 1, 'dreamland': 1, 'sachay': 1, 'sombr': 1, 'charit': 1, 'canteen': 1, 'transgend': 1, 'brainwash': 1, 'physician': 1, 'germani': 1, 'intersex': 1, 'vol': 1, 'humung': 1, 'dous': 1, 'freind': 1, 'asasoulawaken': 1, 'cathart': 1, 'mychem': 1, 'cred': 1, 'backdrop': 1, 'phenomenon': 1, 'catalyst': 1, 'doucher': 1, 'ptsd': 1, 'burmeist': 1, 'ivori': 1, 'suppou': 1, 'barefoot': 1, 'counsellor': 1, 'plummet': 1, 'tot': 1, 'paratroop': 1, 'mu': 1, 'tou': 1, 'suppport': 1, 'dian': 1, 'von': 1, 'furstenberg': 1, 'rodart': 1, 'wu': 1, 'drainag': 1, 'intoler': 1, 'dispers': 1, 'redicul': 1, 'crake': 1, 'monro': 1, 'remodel': 1, 'amen': 1, 'lookout': 1, 'pr': 1, 'doer': 1, 'leopard': 1, 'variant': 1, 'litehead': 1, 'laser': 1, 'perserver': 1, 'squirt': 1, 'rundown': 1, 'duno': 1, 'sloppi': 1, 'wondrou': 1, 'maschk': 1, 'dire': 1, 'usmleasi': 1, 'provinc': 1, 'prudent': 1, 'evangel': 1, 'absorb': 1, 'tome': 1, 'shackl': 1, 'viewpoint': 1, 'stylesheet': 1, 'jdeliveri': 1, 'chief': 1, 'ccw': 1, 'timer': 1, 'shown': 1, 'shockingli': 1, 'ibleeditout': 1, 'kodi': 1, 'jakun': 1, 'glam': 1, 'nuptial': 1, 'schizofren': 1, 'maryland': 1, 'forefront': 1, 'kinship': 1, 'customari': 1, 'siesta': 1, 'tbr': 1, 'workload': 1, 'gabapentin': 1, 'zonisamid': 1, 'enuff': 1, 'baffroom': 1, 'glu': 1, 'bfd': 1, 'strictli': 1, 'anaesthet': 1, 'spook': 1, 'sympathis': 1, 'bernard': 1, 'ativan': 1, 'dumpe': 1, 'crushingli': 1, 'creativeliar': 1, 'wherein': 1, 'sneakili': 1, 'ma': 1, 'pranc': 1, 'eartha': 1, 'kitt': 1, 'blare': 1, 'fervent': 1, 'yile': 1, 'merciless': 1, 'unreli': 1, 'biblic': 1, 'msm': 1, 'urgh': 1, 'cnn': 1, 'divorce': 1, 'antonio': 1, 'nl': 1, 'cog': 1, 'championship': 1, 'reel': 1, 'bro': 1, 'hyperventil': 1, 'foodi': 1, 'airclean': 1, 'wispi': 1, 'fullest': 1, 'vale': 1, 'transient': 1, 'gandhigiri': 1, 'munnabhai': 1, 'inescap': 1, 'hindu': 1, 'quiltcon': 1, 'lizzi': 1, 'canning': 1, 'martinez': 1, 'headachi': 1, 'taboo': 1, 'overs': 1, 'tee': 1, 'baggi': 1, 'streak': 1, 'aiiiiighhhht': 1, 'monogam': 1, 'contradictori': 1, 'groundless': 1, 'dlk': 1, 'xbla': 1, 'soni': 1, 'repetet': 1, 'norah': 1, 'omega': 1, 'weightlessli': 1, 'laiya': 1, 'jennif': 1, 'scamper': 1, 'alfr': 1, 'molina': 1, 'dimension': 1, 'caricatur': 1, 'int': 1, 'knowleg': 1, 'wanderlust': 1, 'coca': 1, 'cola': 1, 'warhound': 1, 'fieldi': 1, 'scroll': 1, 'raven': 1, 'tighter': 1, 'tought': 1, 'diwali': 1, 'spurn': 1, 'bedriacum': 1, 'henrietta': 1, 'ariel': 1, 'chelmsford': 1, 'undoubtedli': 1, 'pundit': 1, 'vinegari': 1, 'calli': 1, 'submarin': 1, 'cartwheel': 1, 'destash': 1, 'sai': 1, 'cinderalla': 1, 'prizecompetit': 1, 'scoop': 1, 'spinach': 1, 'feta': 1, 'cranberri': 1, 'balsam': 1, 'viniagrett': 1, 'unemot': 1, 'tilt': 1, 'coerciv': 1, 'sleek': 1, 'smoother': 1, 'blaster': 1, 'tychel': 1, 'thepag': 1, 'william': 1, 'natasha': 1, 'gan': 1, 'sued': 1, 'chadston': 1, 'tonit': 1, 'proof': 1, 'metier': 1, 'aris': 1, 'doodli': 1, 'trendi': 1, 'piou': 1, 'uppiti': 1, 'montagu': 1, 'rmb': 1, 'bgr': 1, 'dylan': 1, 'dorama': 1, 'aaaaand': 1, 'cutesi': 1, 'pg': 1, 'roundli': 1, 'ravag': 1, 'ellipt': 1, 'statur': 1, 'intro': 1, 'fff': 1, 'trebuchet': 1, 'helvetica': 1, 'bitstream': 1, 'vera': 1, 'discern': 1, 'paperwork': 1, 'bureaucrat': 1, 'heav': 1, 'unrest': 1, 'warp': 1, 'californian': 1, 'legitem': 1, 'cluster': 1, 'backach': 1, 'feefyefo': 1, 'kook': 1, 'grossman': 1, 'vuitton': 1, 'lv': 1, 'impression': 1, 'sonipro': 1, 'geekparti': 1, 'linkedin': 1, 'atari': 1, 'taker': 1, 'cdn': 1, 'entrust': 1, 'jani': 1, 'sander': 1, 'gander': 1, 'priu': 1, 'gore': 1, 'patagonia': 1, 'warrick': 1, 'naiveti': 1, 'joan': 1, 'specimen': 1, 'glisten': 1, 'accentu': 1, 'can': 1, 'swung': 1, 'christchurch': 1, 'northwestern': 1, 'superstorm': 1, 'eagleandhamm': 1, 'shimmi': 1, 'whitney': 1, 'sunda': 1, 'unlock': 1, 'estrang': 1, 'batman': 1, 'gere': 1, 'lea': 1, 'pleasent': 1, 'monetarili': 1, 'kakashi': 1, 'primetim': 1, 'notch': 1, 'goodi': 1, 'eschew': 1, 'forag': 1, 'palat': 1, 'messian': 1, 'bicep': 1, 'sprinkl': 1, 'sturdi': 1, 'averi': 1, 'clueless': 1, 'cruz': 1, 'meaning': 1, 'caf': 1, 'lupron': 1, 'spreadsheet': 1, 'someplac': 1, 'whir': 1, 'mda': 1, 'telethon': 1, 'shelf': 1, 'continent': 1, 'asbesto': 1, 'ifram': 1, 'allowfullscreen': 1, 'framebord': 1, 'alphabet': 1, 'jsk': 1, 'lolita': 1, 'psychic': 1, 'galvanis': 1, 'nanashi': 1, 'pyongyang': 1, 'preceptor': 1, 'gleefulli': 1, 'marshmallow': 1, 'mudder': 1, 'swinelord': 1, 'delux': 1, 'spore': 1, 'mailord': 1, 'kome': 1, 'deffin': 1, 'berat': 1, 'reproduc': 1, 'mariah': 1, 'carey': 1, 'toter': 1, 'uw': 1, 'uwilnevrknow': 1, 'reset': 1, 'acclim': 1, 'bio': 1, 'flail': 1, 'bridget': 1, 'bunnysuit': 1, 'admitt': 1, 'chast': 1, 'persom': 1, 'wickdli': 1, 'ssba': 1, 'mosquito': 1, 'lunchroom': 1, 'likelihood': 1, 'wobbl': 1, 'projector': 1, 'displeas': 1, 'musti': 1, 'vegitarian': 1, 'joyou': 1, 'auto': 1, 'happiu': 1, 'pigeon': 1, 'uninhabit': 1, 'intermin': 1, 'lapel': 1, 'spectacl': 1, 'beacus': 1, 'scratcheveryth': 1, 'holloway': 1, 'seafood': 1, 'paella': 1, 'sangria': 1, 'willingli': 1, 'gambia': 1, 'sup': 1, 'presupposit': 1, 'clown': 1, 'fling': 1, 'jz': 1, 'anonym': 1, 'zack': 1, 'lola': 1, 'demograph': 1, 'dt': 1, 'lawn': 1, 'paig': 1, 'deke': 1, 'brownish': 1, 'tint': 1, 'bodyguard': 1, 'cologn': 1, 'johann': 1, 'khartoum': 1, 'descara': 1, 'broomfield': 1, 'grim': 1, 'inflict': 1, 'jun': 1, 'crone': 1, 'sir': 1, 'array': 1, 'legard': 1, 'unnotic': 1, 'ny': 1, 'hotshot': 1, 'lunajubile': 1, 'mcdonald': 1, 'hoax': 1, 'olajideolafunmbi': 1, 'fiddli': 1, 'canvas': 1, 'jonalyn': 1, 'fincher': 1, 'soulat': 1, 'compartmentalis': 1, 'twd': 1, 'dual': 1, 'superhero': 1, 'nelli': 1, 'lesli': 1, 'hairstyl': 1, 'frizz': 1, 'envou': 1, 'tomfooleri': 1, 'shenanigan': 1, 'thinner': 1, 'stench': 1, 'greasi': 1, 'yeast': 1, 'cesspool': 1, 'michigan': 1, 'prostitut': 1, 'simplifi': 1, 'castanet': 1, 'raposa': 1, 'crest': 1, 'teng': 1, 'riot': 1, 'fiddl': 1, 'liveagainsttheflow': 1, 'duluth': 1, 'estim': 1, 'nepali': 1, 'tith': 1, 'afp': 1, 'scrunch': 1, 'robot': 1, 'seiz': 1, 'dishonor': 1, 'eerili': 1, 'flexi': 1, 'attic': 1, 'abelard': 1, 'unus': 1, 'pgce': 1, 'symbol': 1, 'gina': 1, 'misgiv': 1, 'bandaid': 1, 'ryodan': 1, 'alight': 1, 'bellmen': 1, 'adress': 1, 'undeservedli': 1, 'eddi': 1, 'eg': 1, 'rapport': 1, 'sacrif': 1, 'runni': 1, 'mighti': 1, 'roar': 1, 'forego': 1, 'futon': 1, 'paparazzi': 1, 'zq': 1, 'jcho': 1, 'cpine': 1, 'prelim': 1, 'cambodia': 1, 'lax': 1, 'expload': 1, 'unment': 1, 'rehears': 1, 'varnish': 1, 'brazilian': 1, 'laura': 1, 'gilbert': 1, 'theybf': 1, 'telstra': 1, 'pessimist': 1, 'carson': 1, 'abstract': 1, 'anesthet': 1, 'bunion': 1, 'madr': 1, 'bail': 1, 'decaf': 1, 'holler': 1, 'yhhhay': 1, 'femm': 1, 'corey': 1, 'reckless': 1, 'shrug': 1, 'bureaucraci': 1, 'deede': 1, 'curious': 1, 'sophist': 1, 'sobrieti': 1, 'eateri': 1, 'ecstasi': 1, 'estat': 1, 'brooklyn': 1, 'latch': 1, 'riva': 1, 'harvey': 1, 'weinstein': 1, 'patron': 1, 'md': 1, 'prowl': 1, 'hummpffff': 1, 'winterpaysforsumm': 1, 'eurovis': 1, 'tatsuma': 1, 'aoi': 1, 'ron': 1, 'palin': 1, 'matti': 1, 'unexplain': 1, 'canon': 1, 'iii': 1, 'cliniqu': 1, 'ff': 1, 'ashlott': 1, 'talim': 1, 'gucci': 1, 'housebound': 1, 'peckish': 1, 'mica': 1, 'slash': 1, 'kuwait': 1, 'ew': 1, 'maze': 1, 'preclud': 1, 'detoxifi': 1, 'iw': 1, 'outlandish': 1, 'unrespons': 1, 'doubli': 1, 'driftingthroughlif': 1, 'ffviii': 1, 'compagnon': 1, 'persever': 1, 'snowboard': 1, 'generalis': 1, 'joie': 1, 'vivr': 1, 'jumbleupon': 1, 'eva': 1, 'plural': 1, 'snarki': 1, 'disinfect': 1, 'sauna': 1, 'goldilock': 1, 'gameplay': 1, 'busier': 1, 'asd': 1, 'repairman': 1, 'wimp': 1, 'onel': 1, 'emin': 1, 'mushroom': 1, 'conscienti': 1, 'dao': 1, 'ethan': 1, 'alabama': 1, 'frumpi': 1, 'forgav': 1, 'peregrino': 1, 'arc': 1, 'gwen': 1, 'stacey': 1, 'freakin': 1, 'orthodox': 1, 'duplex': 1, 'dsl': 1, 'wireless': 1, 'blair': 1, 'admin': 1, 'homepag': 1, 'keyword': 1, 'cru': 1, 'liverpool': 1, 'exterior': 1, 'flighti': 1, 'knowingli': 1, 'alexi': 1, 'foment': 1, 'saddl': 1, 'limpli': 1, 'aspi': 1, 'iq': 1, 'earliest': 1, 'tbt': 1, 'strait': 1, 'fertil': 1, 'roundabout': 1, 'skinner': 1, 'cite': 1, 'scarc': 1, 'briton': 1, 'monogram': 1, 'thicker': 1, 'dub': 1, 'apendag': 1, 'hobnob': 1, 'karen': 1, 'bohemian': 1, 'devin': 1, 'leas': 1, 'karua': 1, 'essay': 1, 'spat': 1, 'anchorag': 1, 'imagebox': 1, 'hurtl': 1, 'pollut': 1, 'mice': 1, 'spasm': 1, 'diarrhea': 1, 'defriend': 1, 'frank': 1, 'workshop': 1, 'werner': 1, 'khi': 1, 'rephras': 1, 'heidi': 1, 'unspoilt': 1, 'documentari': 1, 'usari': 1, 'parlor': 1, 'oooh': 1, 'achi': 1, 'telegram': 1, 'guardian': 1, 'indiscrimin': 1, 'jaeryong': 1, 'jungeun': 1, 'barbequ': 1, 'sensationalist': 1, 'connecticut': 1, 'polyvor': 1, 'advent': 1, 'bent': 1, 'thaliad': 1, 'lex': 1, 'misti': 1, 'bombard': 1, 'notci': 1, 'copycat': 1, 'earplug': 1, 'okc': 1, 'eharmoni': 1, 'rrreeaallyy': 1, 'tracifishbowl': 1, 'pioneer': 1, 'roomat': 1, 'shermin': 1, 'surmis': 1, 'predecessor': 1, 'renaiss': 1, 'baroqu': 1, 'purg': 1, 'dunstabl': 1, 'triall': 1, 'entitil': 1, 'unwis': 1, 'spooki': 1, 'matin': 1, 'stewart': 1, 'dpn': 1, 'stupor': 1, 'wildstar': 1, 'yummi': 1, 'leftov': 1, 'shona': 1, 'abstin': 1, 'specialist': 1, 'sinus': 1, 'sloshi': 1, 'acceler': 1, 'flicker': 1, 'herald': 1, 'gluten': 1, 'nestl': 1, 'sundri': 1, 'blogstalk': 1, 'datey': 1, 'commonplac': 1, 'revi': 1, 'dom': 1, 'calvaryccv': 1, 'formul': 1, 'fraction': 1, 'nakahara': 1, 'mai': 1, 'playoff': 1, 'ruslan': 1, 'fedotenko': 1, 'aroma': 1, 'bhubaneswar': 1, 'orissa': 1, 'evan': 1, 'donor': 1, 'alibi': 1, 'premium': 1, 'bertram': 1, 'ptbertram': 1, 'pervert': 1, 'abnorm': 1, 'stake': 1, 'feeder': 1, 'endzon': 1, 'itsi': 1, 'bitsi': 1, 'vogu': 1, 'summari': 1, 'uganda': 1, 'screenwrit': 1, 'workmat': 1, 'transcrib': 1, 'tak': 1, 'backfir': 1, 'solondz': 1, 'hackl': 1, 'twosong': 1, 'prupos': 1, 'antipasti': 1, 'mozzarella': 1, 'proscuito': 1, 'cottag': 1, 'blogspot': 1, 'debri': 1, 'compil': 1, 'songi': 1, 'camilla': 1, 'cuti': 1, 'exhilir': 1, 'tpt': 1, 'aversari': 1, 'gunk': 1, 'treader': 1, 'hardcov': 1, 'weightloss': 1, 'chef': 1, 'academi': 1, 'sabotag': 1, 'yuck': 1, 'gabriella': 1, 'sonam': 1, 'genelia': 1, 'tubelight': 1, 'edith': 1, 'emotionali': 1, 'bareminer': 1, 'muay': 1, 'kangna': 1, 'ranaut': 1, 'invis': 1, 'thunder': 1, 'kindergarten': 1, 'vm': 1, 'superduperr': 1, 'leaden': 1, 'coldsor': 1, 'antic': 1, 'carolina': 1, 'vastli': 1, 'rut': 1, 'abstain': 1, 'ashley': 1, 'rommel': 1, 'guru': 1, 'phenomena': 1, 'axel': 1, 'poop': 1, 'shortag': 1, 'portabl': 1, 'compat': 1, 'cohes': 1, 'arist': 1, 'aaron': 1, 'dorothi': 1, 'kelsey': 1, 'rememberi': 1, 'marillac': 1, 'residenti': 1, 'freezer': 1, 'nostril': 1, 'gig': 1, 'biopsi': 1, 'unfocus': 1, 'swaddl': 1, 'woefulli': 1, 'illog': 1, 'mysalvagedtreasur': 1, 'detatch': 1, 'grandson': 1, 'sled': 1, 'refrain': 1, 'holden': 1, 'caulfield': 1, 'rent': 1, 'porcelain': 1, 'cgi': 1, 'bonka': 1, 'neva': 1, 'illinoi': 1, 'pristin': 1, 'mortuari': 1, 'compasion': 1, 'greiv': 1, 'slung': 1, 'embalm': 1, 'mbourgon': 1, 'rotat': 1, 'celebratori': 1, 'gona': 1, 'decrib': 1, 'evar': 1, 'dittmar': 1, 'chendol': 1, 'kacang': 1, 'ivspirit': 1, 'translatethi': 1, 'intercessor': 1, 'denim': 1, 'shandur': 1, 'polo': 1, 'dudley': 1, 'dursley': 1, 'fudg': 1, 'minerva': 1, 'mcgonnagal': 1, 'nevil': 1, 'longbottom': 1, 'pettigrew': 1, 'oliv': 1, 'neuroticworkahol': 1, 'twa': 1, 'bedsid': 1, 'magi': 1, 'herod': 1, 'audac': 1, 'fifth': 1, 'yearbook': 1, 'commemor': 1, 'rudi': 1, 'autom': 1, 'memset': 1, 'trafford': 1, 'stamford': 1, 'grudgingli': 1, 'enliven': 1, 'rockabilli': 1, 'lent': 1, 'insuffici': 1, 'snuck': 1, 'indigest': 1, 'guitarist': 1, 'unmitig': 1, 'atletico': 1, 'clasheen': 1, 'nicola': 1, 'keepmeinstitchez': 1, 'usain': 1, 'griff': 1, 'schindler': 1, 'trav': 1, 'mope': 1, 'cosmet': 1, 'sasuk': 1, 'moriarti': 1, 'bridal': 1, 'steinbeck': 1, 'broadcast': 1, 'protocol': 1, 'handsomefamili': 1, 'snidey': 1, 'soooooooooooo': 1, 'bibliographi': 1, 'bachelorett': 1, 'engrain': 1, 'colbert': 1, 'owen': 1, 'morgan': 1, 'lemoni': 1, 'buttermilk': 1, 'deprec': 1, 'multitask': 1, 'feverish': 1, 'gray': 1, 'demis': 1, 'pinki': 1, 'dysphoria': 1, 'fend': 1, 'ome': 1, 'blubber': 1, 'fist': 1, 'zhu': 1, 'lotu': 1, 'prosecut': 1, 'monger': 1, 'elashi': 1, 'noor': 1, 'suppliment': 1, 'disastr': 1, 'merasa': 1, 'luar': 1, 'biasa': 1, 'karena': 1, 'kulihat': 1, 'sendi': 1, 'simplethoughtsonth': 1, 'maev': 1, 'dialogu': 1, 'caution': 1, 'perspir': 1, 'worsen': 1, 'voter': 1, 'elbow': 1, 'grandios': 1, 'shortsight': 1, 'oakland': 1, 'databas': 1, 'proce': 1, 'luftwaff': 1, 'kerouac': 1, 'maelstrom': 1, 'sur': 1, 'abundantli': 1, 'mombasa': 1, 'ducki': 1, 'commi': 1, 'hijack': 1, 'fudgi': 1, 'unsteadi': 1, 'simon': 1, 'jag': 1, 'jointli': 1, 'brendon': 1, 'interperson': 1, 'bargain': 1, 'mira': 1, 'breather': 1, 'usher': 1, 'chug': 1, 'cashmer': 1, 'rainboot': 1, 'andi': 1, 'getyourprettyon': 1, 'wuss': 1, 'elf': 1, 'streaki': 1, 'swath': 1, 'fourteen': 1, 'looser': 1, 'benni': 1, 'dumbfound': 1, 'iya': 1, 'uncomfterbl': 1, 'shh': 1, 'patio': 1, 'foster': 1, 'mediterranean': 1, 'hobica': 1, 'uglier': 1, 'enought': 1, 'yorkshir': 1, 'inaccur': 1, 'bludgeon': 1, 'onlook': 1, 'ho': 1, 'weighin': 1, 'aout': 1, 'signifi': 1, 'undu': 1, 'aryiku': 1, 'aimless': 1, 'sor': 1, 'payoff': 1, 'grabbi': 1, 'redden': 1, 'manhood': 1, 'launder': 1, 'inequ': 1, 'evey': 1, 'mercilessli': 1, 'abomin': 1, 'newsprint': 1, 'celtic': 1, 'fingertip': 1, 'oak': 1, 'recycl': 1, 'happend': 1, 'tallinn': 1, 'hearnsay': 1, 'baht': 1, 'usd': 1, 'dosag': 1, 'biannual': 1, 'mammogram': 1, 'woodstock': 1, 'defiant': 1, 'gw': 1, 'karma': 1, 'knelt': 1, 'outcast': 1, 'trendier': 1, 'unfriendli': 1, 'stagger': 1, 'bleak': 1, 'noconsci': 1, 'counterproduct': 1, 'nic': 1, 'liar': 1, 'thug': 1, 'thrive': 1, 'corpor': 1, 'regent': 1, 'haley': 1, 'animesh': 1, 'napkin': 1, 'reusabl': 1, 'should': 1, 'guidelin': 1, 'moreso': 1, 'chiangmai': 1, 'oakwood': 1, 'metabol': 1, 'hyperthyroid': 1, 'firstli': 1, 'secondli': 1, 'scariest': 1, 'kitw': 1, 'amma': 1, 'atlanta': 1, 'poignant': 1, 'penetr': 1, 'figment': 1, 'amorph': 1, 'ryder': 1, 'spitbal': 1, 'lair': 1, 'chewi': 1, 'puteri': 1, 'grandeur': 1, 'andrew': 1, 'geocentr': 1, 'cheapli': 1, 'margaret': 1, 'superpow': 1, 'il': 1, 'rosa': 1, 'chasm': 1, 'etri': 1, 'upheav': 1, 'gatorad': 1, 'uncontrol': 1, 'hyde': 1, 'kat': 1, 'denningss': 1, 'deadpan': 1, 'crab': 1, 'aol': 1, 'verizon': 1, 'ari': 1, 'menash': 1, 'mousavi': 1, 'manuchehr': 1, 'ghorbani': 1, 'correspond': 1, 'catsa': 1, 'flab': 1, 'migrat': 1, 'orthot': 1, 'writter': 1, 'heartdesir': 1, 'mentel': 1, 'disjoint': 1, 'declutt': 1, 'eupherm': 1, 'soporif': 1, 'lusciou': 1, 'kara': 1, 'ounc': 1, 'treacher': 1, 'ecker': 1, 'bewar': 1, 'kitti': 1, 'racial': 1, 'slur': 1, 'invert': 1, 'quantiti': 1, 'togeht': 1, 'reed': 1, 'collector': 1, 'coldston': 1, 'waaaaayyyi': 1, 'reactiv': 1, 'swap': 1, 'gorg': 1, 'disgustingli': 1, 'spiel': 1, 'scarlet': 1, 'maladapt': 1, 'americana': 1, 'gump': 1, 'stayviol': 1, 'pistil': 1, 'daytim': 1, 'arlovski': 1, 'ufc': 1, 'dismantl': 1, 'seattl': 1, 'concid': 1, 'velvet': 1, 'ploy': 1, 'ashraf': 1, 'pakistani': 1, 'overboard': 1, 'unpopular': 1, 'init': 1, 'internist': 1, 'sarcoma': 1, 'aimlessli': 1, 'jeanni': 1, 'keith': 1, 'detour': 1, 'xela': 1, 'unspecifi': 1, 'equip': 1, 'friendfe': 1, 'dearwendi': 1, 'entrenchedli': 1, 'pureland': 1, 'chabad': 1, 'sukkah': 1, 'woven': 1, 'schach': 1, 'lattic': 1, 'imagi': 1, 'toenail': 1, 'nigeria': 1, 'olden': 1, 'jugra': 1, 'chaperon': 1, 'punctual': 1, 'vex': 1, 'moham': 1, 'hussein': 1, 'xango': 1, 'yahoo': 1, 'verrrrrrrryyyy': 1, 'ntoward': 1, 'dissect': 1, 'backlog': 1, 'lindo': 1, 'aros': 1, 'jumbl': 1, 'compliant': 1, 'voip': 1, 'telephoni': 1, 'desktop': 1, 'shush': 1, 'insert': 1, 'arun': 1, 'harmless': 1, 'insect': 1, 'fateh': 1, 'intrus': 1, 'thriller': 1, 'pluto': 1, 'pacesett': 1, 'hp': 1, 'dealer': 1, 'philter': 1, 'paaker': 1, 'mso': 1, 'bidi': 1, 'concurr': 1, 'trajectori': 1, 'grandchild': 1, 'fil': 1, 'julian': 1, 'thingi': 1, 'gikwang': 1, 'emilyhursh': 1, 'childlik': 1, 'crap': 1, 'pli': 1, 'tweedi': 1, 'rowan': 1, 'shawl': 1, 'mishap': 1, 'mereka': 1, 'penyeri': 1, 'tofurkey': 1, 'contentedli': 1, 'dictat': 1, 'nerdi': 1, 'assuag': 1, 'realism': 1, 'siri': 1, 'hondura': 1, 'equilibrium': 1, 'sim': 1, 'berni': 1, 'reground': 1, 'nutrient': 1, 'spaghetti': 1, 'meatbal': 1, 'workahol': 1, 'revealthestaryoutrulyar': 1, 'corrupt': 1, 'thunk': 1, 'kala': 1, 'fangirl': 1, 'beast': 1, 'quell': 1, 'dodd': 1, 'overanalyz': 1, 'hibern': 1, 'compunct': 1, 'adf': 1, 'consecr': 1, 'satiat': 1, 'pompom': 1, 'braid': 1, 'flap': 1, 'lyman': 1, 'melonoma': 1, 'shoplift': 1, 'gummi': 1, 'io': 1, 'galaxi': 1, 'sii': 1, 'lumia': 1, 'stave': 1, 'remaind': 1, 'emphasis': 1, 'ugh': 1, 'naight': 1, 'humid': 1, 'advocaci': 1, 'grain': 1, 'hudson': 1, 'mashmellow': 1, 'trebl': 1, 'handbook': 1, 'discharg': 1, 'tyler': 1, 'durden': 1, 'unpleasantli': 1, 'phil': 1, 'ka': 1, 'earread': 1, 'audiobook': 1, 'digress': 1, 'zimbabwean': 1, 'fabol': 1, 'loso': 1, 'graham': 1, 'rylin': 1, 'carrri': 1, 'jahmen': 1, 'fundrais': 1, 'blister': 1, 'unheard': 1, 'fleec': 1, 'prejudic': 1, 'farewel': 1, 'airplan': 1, 'platitud': 1, 'cuff': 1, 'anklet': 1, 'harass': 1, 'drowsi': 1, 'exspress': 1, 'apprici': 1, 'jin': 1, 'hee': 1, 'lott': 1, 'lunapad': 1, 'wap': 1, 'folder': 1, 'dashboard': 1, 'nicknam': 1, 'moanday': 1, 'maximis': 1, 'detriment': 1, 'fink': 1, 'begleit': 1, 'randythoma': 1, 'irwin': 1, 'norma': 1, 'stall': 1, 'pesticid': 1, 'adrift': 1, 'underwat': 1, 'lenten': 1, 'transitori': 1, 'gusto': 1, 'cobweb': 1, 'psychopatholog': 1, 'healthier': 1, 'rawli': 1, 'loft': 1, 'ditlevsen': 1, 'comedian': 1, 'defenc': 1, 'snipe': 1, 'insdi': 1, 'curri': 1, 'miso': 1, 'cascad': 1, 'sexuali': 1, 'wealthi': 1, 'jongwoon': 1, 'ryeowook': 1, 'retort': 1, 'reestablish': 1, 'offenc': 1, 'delhi': 1, 'sang': 1, 'posses': 1, 'hallmark': 1, 'oven': 1, 'greatbritain': 1, 'hatch': 1, 'holland': 1, 'bikini': 1, 'swift': 1, 'utmost': 1, 'froze': 1, 'replica': 1, 'spock': 1, 'parabl': 1, 'truley': 1, 'resuppli': 1, 'pipsqueak': 1, 'stephani': 1, 'bernd': 1, 'sportsbook': 1, 'khatsii': 1, 'mug': 1, 'bowler': 1, 'frickin': 1, 'kisser': 1, 'nijifagili': 1, 'antidot': 1, 'unlucki': 1, 'genet': 1, 'orthodontist': 1, 'pediatr': 1, 'aftereffect': 1, 'coupon': 1, 'boardwalk': 1, 'refuge': 1, 'israelit': 1, 'don': 1, 'vip': 1, 'sticker': 1, 'perpetr': 1, 'crim': 1, 'hefti': 1, 'burgo': 1, 'auggi': 1, 'outta': 1, 'electrifi': 1, 'penanc': 1, 'lurgi': 1, 'bellingham': 1, 'apc': 1, 'walmart': 1, 'macey': 1, 'allergen': 1, 'appearanc': 1, 'ewhich': 1, 'movign': 1, 'uv': 1, 'tyrant': 1, 'pander': 1, 'misinterpret': 1, 'decept': 1, 'sophat': 1, 'kandal': 1, 'colorado': 1, 'pneumonia': 1, 'poni': 1, 'uncoil': 1, 'chesley': 1, 'specialti': 1, 'klysta': 1, 'et': 1, 'cetera': 1, 'ruffl': 1, 'zucchini': 1, 'pagetyp': 1, 'mimedog': 1, 'upfront': 1, 'aubrey': 1, 'baptism': 1, 'jumpi': 1, 'seoul': 1, 'nothing': 1, 'awok': 1, 'transpir': 1, 'roethisberg': 1, 'steeler': 1, 'avon': 1, 'heartrend': 1, 'oprah': 1, 'wod': 1, 'aaaaaaand': 1, 'baton': 1, 'gang': 1, 'wyatt': 1, 'bowi': 1, 'iman': 1, 'hardwork': 1, 'copay': 1, 'planner': 1, 'bridezilla': 1, 'groom': 1, 'uninform': 1, 'tna': 1, 'crimson': 1, 'sweeten': 1, 'untidi': 1, 'hoarder': 1, 'upgrad': 1, 'flashi': 1, 'adversari': 1, 'geez': 1, 'mord': 1, 'sith': 1, 'hendrick': 1, 'enmayi': 1, 'rounder': 1, 'convict': 1, 'getti': 1, 'renown': 1, 'redund': 1, 'synod': 1, 'irreplac': 1, 'idrc': 1, 'fron': 1, 'trader': 1, 'battalion': 1, 'caribbean': 1, 'bewertung': 1, 'ifyouwanttoknow': 1, 'snowglob': 1, 'rammstein': 1, 'soda': 1, 'turbul': 1, 'thirteen': 1, 'shishido': 1, 'senpai': 1, 'lethal': 1, 'overdos': 1, 'ect': 1, 'mollusk': 1, 'solopgangfor': 1, 'barnog': 1, 'shiftless': 1, 'dart': 1, 'undress': 1, 'inspit': 1, 'yogurt': 1, 'trudger': 1, 'ig': 1, 'cartoonish': 1, 'diva': 1, 'wrestler': 1, 'accru': 1, 'barista': 1, 'psychopath': 1, 'artefact': 1, 'locomot': 1, 'atroci': 1, 'babe': 1, 'marilyn': 1, 'multiband': 1, 'effectu': 1, 'asami': 1, 'mutter': 1, 'violin': 1, 'vocab': 1, 'springpad': 1, 'abdomin': 1, 'upright': 1, 'protagonist': 1, 'curvebal': 1, 'tattoo': 1, 'peggi': 1, 'mara': 1, 'babysat': 1, 'dimpl': 1, 'sag': 1, 'serendip': 1, 'collid': 1, 'slacker': 1, 'mcslackerson': 1, 'dewi': 1, 'lestari': 1, 'patent': 1, 'ugliest': 1, 'dayummm': 1, 'synthwav': 1, 'ned': 1, 'dustbin': 1, 'posi': 1, 'pixi': 1, 'springhous': 1, 'morrissey': 1, 'authorit': 1, 'incis': 1, 'unproduct': 1, 'crude': 1, 'triniti': 1, 'somethign': 1, 'ayumi': 1, 'extrovert': 1, 'digg': 1, 'sooooooooooo': 1, 'aligncent': 1, 'mrdanbaird': 1, 'tumor': 1, 'amiss': 1, 'jareth': 1, 'labyrinth': 1, 'tobi': 1, 'digust': 1, 'permiss': 1, 'bun': 1, 'nuh': 1, 'va': 1, 'prandi': 1, 'npr': 1, 'motherland': 1, 'bittersweet': 1, 'giardina': 1, 'sandblog': 1, 'craftisan': 1, 'hideaki': 1, 'daiki': 1, 'olympian': 1, 'hugh': 1, 'sarcoidosi': 1, 'gyp': 1, 'capp': 1, 'hyphen': 1, 'unstabl': 1, 'inexperi': 1, 'spitak': 1, 'lotta': 1, 'heinou': 1, 'insular': 1, 'xviith': 1, 'strick': 1, 'den': 1, 'veld': 1, 'opt': 1, 'hiit': 1, 'interv': 1, 'sm': 1, 'unexpectedli': 1, 'aiw': 1, 'phantomwis': 1, 'apologet': 1, 'drivel': 1, 'stupend': 1, 'harshli': 1, 'debacl': 1, 'shubhi': 1, 'feb': 1, 'julianna': 1, 'savori': 1, 'platon': 1, 'synchron': 1, 'lite': 1, 'reali': 1, 'therel': 1, 'drill': 1, 'unencumbered': 1, 'opi': 1, 'sashi': 1, 'lavand': 1, 'mesmer': 1, 'casablanca': 1, 'vinni': 1, 'kompani': 1, 'joleon': 1, 'kolo': 1, 'shroud': 1, 'colic': 1, 'imma': 1, 'exclaim': 1, 'personifi': 1, 'progeni': 1, 'genuflect': 1, 'unjust': 1, 'snippi': 1, 'momentum': 1, 'titan': 1, 'pumpin': 1, 'wage': 1, 'inept': 1, 'payer': 1, 'bungl': 1, 'naega': 1, 'deo': 1, 'apaya': 1, 'hae': 1, 'dasi': 1, 'neol': 1, 'chajeul': 1, 'itg': 1, 'sigani': 1, 'heureulsurok': 1, 'gaseumi': 1, 'apawa': 1, 'hanbeon': 1, 'manirado': 1, 'wo': 1, 'doedollil': 1, 'suman': 1, 'itdamyeon': 1, 'gotong': 1, 'ttawin': 1, 'naegen': 1, 'fightstar': 1, 'catchi': 1, 'ceram': 1, 'ateli': 1, 'patrimoni': 1, 'primit': 1, 'ashtray': 1, 'divert': 1, 'sadhana': 1, 'diner': 1, 'oppi': 1, 'beyonc': 1, 'lawless': 1, 'innuendo': 1, 'bishan': 1, 'unawar': 1, 'heather': 1, 'settlement': 1, 'recur': 1, 'botan': 1, 'tor': 1, 'poseur': 1, 'keiko': 1, 'zoll': 1, 'spotlight': 1, 'craziest': 1, 'weirdest': 1, 'karin': 1, 'conspir': 1, 'kathump': 1, 'subaru': 1, 'lux': 1, 'papermakeupstamp': 1, 'welfar': 1, 'bass': 1, 'shahzad': 1, 'ismaili': 1, 'veget': 1, 'lear': 1, 'diktat': 1, 'jeoffrey': 1, 'eyo': 1, 'loom': 1, 'seal': 1, 'horn': 1, 'cathi': 1, 'techno': 1, 'slander': 1, 'mucu': 1, 'nokia': 1, 'gp': 1, 'katanya': 1, 'ulyss': 1, 'speedi': 1, 'filmmak': 1, 'conceiv': 1, 'peasi': 1, 'anipik': 1, 'fanfict': 1, 'sebastian': 1, 'discrimin': 1, 'serina': 1, 'cleaner': 1, 'tch': 1, 'accessari': 1, 'coax': 1, 'nastili': 1, 'kinison': 1, 'ax': 1, 'toung': 1, 'indid': 1, 'bereft': 1, 'nothnig': 1, 'someoen': 1, 'laug': 1, 'kiddo': 1, 'biggi': 1, 'kevin': 1, 'hart': 1, 'wiz': 1, 'khalifa': 1, 'thaim': 1, 'lurker': 1, 'demo': 1, 'squint': 1, 'magnifi': 1, 'dictionari': 1, 'eyesight': 1, 'windmil': 1, 'lin': 1, 'chubbi': 1, 'ocd': 1, 'strict': 1, 'torment': 1, 'korea': 1, 'kj': 1, 'middot': 1, 'vanquish': 1, 'mooshilu': 1, 'victoria': 1, 'rubi': 1, 'imperturb': 1, 'cataclysm': 1, 'manufactur': 1, 'olli': 1, 'founder': 1, 'clot': 1, 'clint': 1, 'fetish': 1, 'befc': 1, 'giraff': 1, 'majest': 1, 'aloof': 1, 'gmc': 1, 'denali': 1, 'ungodli': 1, 'yesubai': 1, 'misrepres': 1, 'acco': 1, 'nahariya': 1, 'hogmanay': 1, 'outset': 1, 'mccann': 1, 'sci': 1, 'veloc': 1, 'picoult': 1, 'sporkgasm': 1, 'backstag': 1, 'phenomen': 1, 'travesti': 1, 'bobbi': 1, 'melodramat': 1, 'ade': 1, 'dakota': 1, 'hiatu': 1, 'reaffirm': 1, 'inclus': 1, 'chemotherapi': 1, 'poach': 1, 'agtalk': 1, 'krem': 1, 'tget': 1, 'contin': 1, 'imbicil': 1, 'smartest': 1, 'elizabeth': 1, 'undevelop': 1, 'atrophi': 1, 'rlsh': 1, 'sizzler': 1, 'rv': 1, 'dinett': 1, 'driveway': 1, 'trembl': 1, 'heavili': 1, 'johnson': 1, 'pi': 1, 'ata': 1, 'reshap': 1, 'jhbdjhdfbjdfhbfd': 1, 'upbring': 1, 'cocki': 1, 'alhamdulillah': 1, 'hoop': 1, 'befuddl': 1, 'bengal': 1, 'coast': 1, 'muck': 1, 'stalker': 1, 'milli': 1, 'conciev': 1, 'inadvert': 1, 'smidgen': 1, 'neglig': 1, 'blip': 1, 'melti': 1, 'atlephobia': 1, 'discontinu': 1, 'theif': 1, 'outward': 1, 'passer': 1, 'sausag': 1, 'nw': 1, 'cumbersom': 1, 'victorian': 1, 'niec': 1, 'woah': 1, 'phyica': 1, 'jigsaw': 1, 'outlook': 1, 'derbyshir': 1, 'suburb': 1, 'midwest': 1, 'heimbuch': 1, 'midwestern': 1, 'actauli': 1, 'willi': 1, 'monkey': 1, 'shack': 1, 'follicl': 1, 'beluga': 1, 'tec': 1, 'parish': 1, 'albuquerqu': 1, 'earthli': 1, 'jonti': 1, 'valor': 1, 'cig': 1, 'colomn': 1, 'conservatish': 1, 'reus': 1, 'scrap': 1, 'ashton': 1, 'lovin': 1, 'cafeteria': 1, 'pocketbook': 1, 'antm': 1, 'beam': 1, 'metr': 1, 'materialis': 1, 'sector': 1, 'overshar': 1, 'brokeup': 1, 'cinema': 1, 'utopia': 1, 'innanim': 1, 'carpet': 1, 'zenden': 1, 'reuter': 1, 'kidnapp': 1, 'magnat': 1, 'freddi': 1, 'heineken': 1, 'retribut': 1, 'incent': 1, 'cindi': 1, 'atticu': 1, 'ttc': 1, 'koyama': 1, 'jene': 1, 'gland': 1, 'cm': 1, 'slat': 1, 'mattress': 1, 'unsurprisingli': 1, 'relent': 1, 'sweep': 1, 'zen': 1, 'krista': 1, 'putter': 1, 'kubrick': 1, 'ediebloom': 1, 'bowel': 1, 'idiosyncrasi': 1, 'diversifi': 1, 'shire': 1, 'placement': 1, 'misjudg': 1, 'unsuspect': 1, 'oneself': 1, 'blogoversari': 1, 'lighthead': 1, 'clump': 1, 'freelanc': 1, 'deiti': 1, 'foray': 1, 'unaccept': 1, 'omit': 1, 'nyp': 1, 'marlon': 1, 'brando': 1, 'bradburi': 1, 'lightweight': 1, 'midori': 1, 'doorway': 1, 'cruelti': 1, 'azul': 1, 'villian': 1, 'schalm': 1, 'radic': 1, 'woe': 1, 'pam': 1, 'grotesqu': 1, 'cal': 1, 'pear': 1, 'blueberri': 1, 'glitch': 1, 'panorma': 1, 'superbik': 1, 'cb': 1, 'sportslin': 1, 'irl': 1, 'quitter': 1, 'morrow': 1, 'dangl': 1, 'ignorantli': 1, 'bark': 1, 'squirrel': 1, 'frail': 1, 'catapult': 1, 'ange': 1, 'fluf': 1, 'cbc': 1, 'jazzyboy': 1, 'messer': 1, 'zap': 1, 'standout': 1, 'feist': 1, 'lawyer': 1, 'snare': 1, 'illegitim': 1, 'bouncier': 1, 'midcenturi': 1, 'dresser': 1, 'whelm': 1, 'tighten': 1, 'erad': 1, 'nearbi': 1, 'frosti': 1, 'abduct': 1, 'hinterland': 1, 'gaig': 1, 'scrape': 1, 'nook': 1, 'cranni': 1, 'vacanc': 1, 'sciatica': 1, 'pedal': 1, 'heir': 1, 'crol': 1, 'tl': 1, 'skew': 1, 'polenta': 1, 'exuber': 1, 'latex': 1, 'hungov': 1, 'marketplac': 1, 'sycf': 1, 'edmontonian': 1, 'swimwear': 1, 'audi': 1, 'multipli': 1, 'abat': 1, 'vegetarian': 1, 'naked': 1, 'umlungu': 1, 'warfight': 1, 'watersid': 1, 'brood': 1, 'forefoot': 1, 'wari': 1, 'soundscap': 1, 'scarecrow': 1, 'lard': 1, 'throe': 1, 'ownership': 1, 'peg': 1, 'unbound': 1, 'emboss': 1, 'feather': 1, 'orihim': 1, 'imaginari': 1, 'blunt': 1, 'dir': 1, 'henypir': 1, 'brass': 1, 'ignit': 1, 'seneg': 1, 'farafina': 1, 'cassava': 1, 'rape': 1, 'loreal': 1, 'adn': 1, 'someobdi': 1, 'cinemat': 1, 'awoken': 1, 'florenc': 1, 'lunar': 1, 'papamoka': 1, 'fahad': 1, 'skeleton': 1, 'palett': 1, 'unsupport': 1, 'avril': 1, 'lavign': 1, 'happiest': 1, 'jayson': 1, 'mensa': 1, 'glc': 1, 'madden': 1, 'splurg': 1, 'epithet': 1, 'soooooooo': 1, 'assembl': 1, 'incessantli': 1, 'livevideo': 1, 'ptk': 1, 'vey': 1, 'oncolog': 1, 'dpt': 1, 'paranoiud': 1, 'comfid': 1, 'cheerful': 1, 'wendi': 1, 'alexa': 1, 'orient': 1, 'hyundai': 1, 'tucson': 1, 'savor': 1, 'theo': 1, 'eli': 1, 'scenario': 1, 'rebuild': 1, 'rudley': 1, 'bumb': 1, 'mystic': 1, 'culmin': 1, 'dancefloor': 1, 'tempo': 1, 'ecolog': 1, 'joe': 1, 'inlov': 1, 'sean': 1, 'fari': 1, 'sleepov': 1, 'scaveng': 1, 'vermont': 1, 'farther': 1, 'tabloid': 1, 'comed': 1, 'alva': 1, 'suuuper': 1, 'slew': 1, 'fitch': 1, 'mihm': 1, 'kyuhyun': 1, 'apgujeong': 1, 'hyunjin': 1, 'rubbl': 1, 'deborah': 1, 'lippmann': 1, 'ws': 1, 'modifi': 1, 'peachi': 1, 'jelli': 1, 'sation': 1, 'byte': 1, 'crop': 1, 'fossil': 1, 'unwash': 1, 'drier': 1, 'glowi': 1, 'salvag': 1, 'powel': 1, 'clan': 1, 'colombian': 1, 'gringa': 1, 'el': 1, 'amparo': 1, 'softer': 1, 'eurodancemix': 1, 'kiyoshi': 1, 'impromptu': 1, 'tampon': 1, 'fir': 1, 'ii': 1, 'hairsty': 1, 'disengag': 1, 'prenat': 1, 'legtim': 1, 'makin': 1, 'hammer': 1, 'pilat': 1, 'craisin': 1, 'thinker': 1, 'jerald': 1, 'rue': 1, 'shred': 1, 'folkeskol': 1, 'scim': 1, 'analysi': 1, 'moribund': 1, 'mri': 1, 'semipro': 1, 'sharpli': 1, 'overwork': 1, 'fume': 1, 'saunter': 1, 'flickr': 1, 'hatchet': 1, 'skdd': 1, 'maturestudenthanginginther': 1, 'miniscul': 1, 'thumbnail': 1, 'changel': 1, 'easygo': 1, 'cabbag': 1, 'venison': 1, 'pomegran': 1, 'kali': 1, 'ni': 1, 'dah': 1, 'bertukar': 1, 'jadi': 1, 'benci': 1, 'bothersom': 1, 'kenya': 1, 'tyre': 1, 'revalid': 1, 'portfolio': 1, 'cello': 1, 'hath': 1, 'solomon': 1, 'affili': 1, 'neil': 1, 'odonnel': 1, 'intercept': 1, 'pittsburgh': 1, 'chivalri': 1, 'magnanim': 1, 'pesach': 1, 'ethnic': 1, 'jingli': 1, 'ar': 1, 'croatian': 1, 'moist': 1, 'ahhh': 1, 'shopper': 1, 'fuchsia': 1, 'heroic': 1, 'guffaw': 1, 'unconcern': 1, 'trope': 1, 'prick': 1, 'flogger': 1, 'tribal': 1, 'wisconsin': 1, 'insyallah': 1, 'sublim': 1, 'fullbright': 1, 'pacifi': 1, 'selfless': 1, 'northern': 1, 'saskatchewan': 1, 'buffalo': 1, 'widow': 1, 'ridgerunn': 1, 'solberg': 1, 'lightsync': 1, 'blous': 1, 'spike': 1, 'warsaw': 1, 'nutshel': 1, 'emillionstar': 1, 'sadist': 1, 'opinon': 1, 'videotap': 1, 'naman': 1, 'na': 1, 'marshal': 1, 'glenn': 1, 'unwil': 1, 'alleg': 1, 'untal': 1, 'handrail': 1, 'basement': 1, 'gaug': 1, 'flog': 1, 'sh': 1, 'mulligan': 1, 'traction': 1, 'outbreak': 1, 'ptpt': 1, 'pouher': 1, 'mistaken': 1, 'wearer': 1, 'huddl': 1, 'rhinebeck': 1, 'edmonton': 1, 'dodg': 1, 'seedi': 1, 'deepest': 1, 'permanent': 1, 'zum': 1, 'eintrag': 1, 'funk': 1, 'surmount': 1, 'brittney': 1, 'peppermint': 1, 'patti': 1, 'runneth': 1, 'improvis': 1, 'hunter': 1, 'omangi': 1, 'heung': 1, 'clash': 1, 'lacon': 1, 'hog': 1, 'pauli': 1, 'bezo': 1, 'outro': 1, 'aforement': 1, 'schmidt': 1, 'esili': 1, 'airrit': 1, 'underag': 1, 'dnt': 1, 'fr': 1, 'knwing': 1, 'nthing': 1, 'plastikan': 1, 'makeov': 1, 'roslin': 1, 'acaus': 1, 'lightmet': 1, 'jamba': 1, 'frappucino': 1, 'downtim': 1, 'teresa': 1, 'expansiveperspect': 1, 'walter': 1, 'eastern': 1, 'danni': 1, 'stalk': 1, 'erica': 1, 'tx': 1, 'membr': 1, 'recless': 1, 'mamma': 1, 'headlock': 1, 'whooooooooo': 1, 'craaaaaaack': 1, 'ensign': 1, 'camper': 1, 'noisiest': 1, 'atoshealthcar': 1, 'paraphras': 1, 'revuls': 1, 'elicit': 1, 'bartend': 1, 'kx': 1, 'disc': 1, 'paypal': 1, 'copyright': 1, 'machiavellian': 1, 'len': 1, 'chukey': 1, 'inapporpri': 1, 'fergi': 1, 'scientif': 1, 'playhousecomm': 1, 'memoir': 1, 'rees': 1, 'witnes': 1, 'coil': 1, 'rocker': 1, 'demor': 1, 'distast': 1, 'flatten': 1, 'godaddi': 1, 'privelleg': 1, 'domain': 1, 'vehement': 1, 'elviv': 1, 'dim': 1, 'amd': 1, 'undiscov': 1, 'todayyy': 1, 'habitu': 1, 'inconsequenti': 1, 'ungraci': 1, 'convoy': 1, 'hauler': 1, 'zine': 1, 'sienc': 1, 'femin': 1, 'bauer': 1, 'unconvinc': 1, 'smugli': 1, 'textil': 1, 'appt': 1, 'acker': 1, 'drunken': 1, 'agil': 1, 'srcurl': 1, 'draftblog': 1, 'lsd': 1, 'chemist': 1, 'shroomeri': 1, 'smarti': 1, 'dubi': 1, 'dampen': 1, 'sentinel': 1, 'hanford': 1, 'councilman': 1, 'committe': 1, 'justli': 1, 'wristwatch': 1, 'homophobia': 1, 'mend': 1, 'burgeon': 1, 'sri': 1, 'lanka': 1, 'jacksonvil': 1, 'seminar': 1, 'linklat': 1, 'confidenti': 1, 'intermediari': 1, 'pollicino': 1, 'piddi': 1, 'scout': 1, 'pinewood': 1, 'cleat': 1, 'cox': 1, 'liv': 1, 'pail': 1, 'tommi': 1, 'flashlight': 1, 'asher': 1, 'distil': 1, 'tantric': 1, 'pri': 1, 'partak': 1, 'litt': 1, 'carp': 1, 'amplifi': 1, 'setup': 1, 'ffxi': 1, 'duh': 1, 'flusher': 1, 'luh': 1, 'eqaf': 1, 'monopoli': 1, 'cocktail': 1, 'inquisit': 1, 'barcial': 1, 'surreal': 1, 'gervas': 1, 'unfollow': 1, 'crown': 1, 'decit': 1, 'avalanch': 1, 'wesleyan': 1, 'kitoben': 1, 'playground': 1, 'queezi': 1, 'carcass': 1, 'nordstrom': 1, 'hatter': 1, 'subpar': 1, 'reproduct': 1, 'everybitterthingissweet': 1, 'jones': 1, 'ineffect': 1, 'chiuv': 1, 'kaddish': 1, 'daven': 1, 'amud': 1, 'cantina': 1, 'council': 1, 'decompress': 1, 'freeer': 1, 'curler': 1, 'atent': 1, 'misstreat': 1, 'affeccion': 1, 'zoo': 1, 'cordial': 1, 'exemplifi': 1, 'appris': 1, 'disgest': 1, 'eighth': 1, 'suzann': 1, 'vega': 1, 'missionari': 1, 'palcebowhor': 1, 'patern': 1, 'enquiri': 1, 'solidar': 1, 'iraq': 1, 'ptl': 1, 'dabbl': 1, 'pubicli': 1, 'elit': 1, 'mogul': 1, 'comatos': 1, 'kremlin': 1, 'chechen': 1, 'afghan': 1, 'mujahedin': 1, 'newton': 1, 'panther': 1, 'dkang': 1, 'subscript': 1, 'annot': 1, 'thequeenbuzz': 1, 'mun': 1, 'thump': 1, 'venom': 1, 'tourett': 1, 'unpredict': 1, 'carnag': 1, 'skudriv': 1, 'becsus': 1, 'bacus': 1, 'passerbi': 1, 'sulk': 1, 'revolv': 1, 'reddit': 1, 'dispair': 1, 'poser': 1, 'libertin': 1, 'jail': 1, 'netherland': 1, 'macendarf': 1, 'justquiltn': 1, 'thrifti': 1, 'rot': 1, 'tdi': 1, 'convert': 1, 'currenc': 1, 'radar': 1, 'unnot': 1, 'slink': 1, 'indirectli': 1, 'manhandl': 1, 'hertha': 1, 'rejoic': 1, 'juri': 1, 'reincarn': 1, 'arabia': 1, 'indigen': 1, 'heater': 1, 'muddl': 1, 'wot': 1, 'survivor': 1, 'rudderless': 1, 'murua': 1, 'wakeup': 1, 'nourish': 1, 'sack': 1, 'lowli': 1, 'khezef': 1, 'effeminaci': 1, 'scad': 1, 'headlamp': 1, 'tent': 1, 'dharavi': 1, 'turnov': 1, 'feelingless': 1, 'nighter': 1, 'hierarchi': 1, 'shampoo': 1, 'lather': 1, 'chink': 1, 'armor': 1, 'genentech': 1, 'takeov': 1, 'pageview': 1, 'reaaallyyyy': 1, 'rego': 1, 'instant': 1, 'refocu': 1, 'epilept': 1, 'mele': 1, 'dp': 1, 'pendant': 1, 'mouss': 1, 'turnip': 1, 'metropolitan': 1, 'inter': 1, 'bridgewat': 1, 'reactor': 1, 'rebel': 1, 'wt': 1, 'txl': 1, 'ultralight': 1, 'newcom': 1, 'tangent': 1, 'hypnosi': 1, 'porcupin': 1, 'inexplic': 1, 'unfound': 1, 'astray': 1, 'sonia': 1, 'yixuan': 1, 'atiqah': 1, 'ambienc': 1, 'architect': 1, 'swore': 1, 'kristi': 1, 'gastric': 1, 'superdrug': 1, 'bard': 1, 'hillari': 1, 'elud': 1, 'colin': 1, 'entirelli': 1, 'undertaken': 1, 'marlow': 1, 'ruthless': 1, 'rapac': 1, 'susanna': 1, 'devest': 1, 'andangri': 1, 'glint': 1, 'overslept': 1, 'drape': 1, 'conect': 1, 'winey': 1, 'scummi': 1, 'autism': 1, 'bontoc': 1, 'ribbon': 1, 'sabbat': 1, 'oxbow': 1, 'preak': 1, 'jerri': 1, 'sloan': 1, 'logist': 1, 'thatrupert': 1, 'biz': 1, 'kierkegaard': 1, 'philosoph': 1, 'interfer': 1, 'stunt': 1, 'headcold': 1, 'intensifi': 1, 'opiat': 1, 'infant': 1, 'claire': 1, 'undecor': 1, 'cornish': 1, 'cornwal': 1, 'imbib': 1, 'incalcul': 1, 'mischief': 1, 'lovedi': 1, 'cheesecak': 1, 'seemad': 1, 'nadia': 1, 'neal': 1, 'overtook': 1, 'soulbitesblog': 1, 'louder': 1, 'raider': 1, 'methink': 1, 'egypt': 1, 'disorganis': 1, 'uuuugh': 1, 'recours': 1, 'cabeal': 1, 'viral': 1, 'hotlin': 1, 'reliant': 1, 'foibl': 1, 'storytel': 1, 'pew': 1, 'inund': 1, 'dissappear': 1, 'qq': 1, 'freeston': 1, 'gag': 1, 'alexand': 1, 'hectic': 1, 'espa': 1, 'hd': 1, 'murrelet': 1, 'conductor': 1, 'oiut': 1, 'minibu': 1, 'impot': 1, 'faithsedg': 1, 'archdioces': 1, 'cathedr': 1, 'strateg': 1, 'esqu': 1, 'bondmus': 1, 'hickori': 1, 'lenoir': 1, 'morganton': 1, 'lathi': 1, 'yea': 1, 'forebod': 1, 'vietnam': 1, 'tazi': 1, 'devis': 1, 'bia': 1, 'antholog': 1, 'herd': 1, 'mindless': 1, 'cohort': 1, 'inadaqu': 1, 'vocalist': 1, 'leaner': 1, 'overrrrrrrrrrrr': 1, 'sachet': 1, 'brandish': 1, 'obedi': 1, 'abort': 1, 'overdon': 1, 'laden': 1, 'biowar': 1, 'proxim': 1, 'playroom': 1, 'bombsit': 1, 'conservatori': 1, 'timelin': 1, 'carseat': 1, 'cinnamon': 1, 'egan': 1, 'kurt': 1, 'intention': 1, 'travelogu': 1, 'bough': 1, 'cardiff': 1, 'pervas': 1, 'faculti': 1, 'crossword': 1, 'milkshak': 1, 'habanero': 1, 'rad': 1, 'maclain': 1, 'abund': 1, 'extraordinari': 1, 'invent': 1, 'hail': 1, 'ember': 1, 'whalente': 1, 'benson': 1, 'monica': 1, 'releg': 1, 'wanatrib': 1, 'spotlessli': 1, 'gust': 1, 'plein': 1, 'dlpt': 1, 'stressor': 1, 'consign': 1, 'goodwil': 1, 'scarf': 1, 'biochemistri': 1, 'zambia': 1, 'ransom': 1, 'nanci': 1, 'alotta': 1, 'sonogram': 1, 'coldplay': 1, 'manicur': 1, 'overton': 1, 'jonni': 1, 'of': 1, 'cardiovascular': 1, 'emoexaderist': 1, 'evgeni': 1, 'malkin': 1, 'timmi': 1, 'ytear': 1, 'justwhen': 1, 'futru': 1, 'timesa': 1, 'efeel': 1, 'slit': 1, 'tartandheath': 1, 'louch': 1, 'disbelief': 1, 'fixtur': 1, 'jajaja': 1, 'overtaken': 1, 'greeneri': 1, 'jogless': 1, 'stripe': 1, 'oogl': 1, 'actress': 1, 'sexier': 1, 'brutal': 1, 'forefing': 1, 'persev': 1, 'idaho': 1, 'kudo': 1, 'summit': 1, 'akin': 1, 'carla': 1, 'burki': 1, 'adrasteiu': 1, 'eulalia': 1, 'tho': 1, 'mar': 1, 'prose': 1, 'particulari': 1, 'folksi': 1, 'jillian': 1, 'documenti': 1, 'ffayth': 1, 'armpit': 1, 'dianam': 1, 'cricnep': 1, 'faint': 1, 'lll': 1, 'karmardav': 1, 'peel': 1, 'allerg': 1, 'tout': 1, 'cogniz': 1, 'cosmo': 1, 'years': 1, 'hamster': 1, 'sylvanian': 1, 'flock': 1, 'fur': 1, 'zeno': 1, 'solver': 1, 'sermon': 1, 'scotti': 1, 'mural': 1, 'painstakingli': 1, 'rigor': 1, 'ingeni': 1, 'pariah': 1, 'lve': 1, 'homeland': 1, 'mansion': 1, 'plantar': 1, 'fasciti': 1, 'dissassoci': 1, 'grudg': 1, 'glow': 1, 'jasmin': 1, 'teapot': 1, 'pretzel': 1, 'athf': 1, 'sweatpant': 1, 'ferri': 1, 'armani': 1, 'blazer': 1, 'overthink': 1, 'disband': 1, 'server': 1, 'lad': 1, 'herbal': 1, 'autonomi': 1, 'dispos': 1, 'pani': 1, 'nonbipartisan': 1, 'aluminum': 1, 'deader': 1, 'predawn': 1, 'scape': 1, 'goat': 1, 'ehh': 1, 'hideous': 1, 'guili': 1, 'befo': 1, 'tod': 1, 'keeper': 1, 'batchmat': 1, 'jamaica': 1, 'thundershow': 1, 'ginorm': 1, 'earley': 1, 'alan': 1, 'exfoli': 1, 'mimic': 1, 'longlast': 1, 'winehous': 1, 'ford': 1, 'buoy': 1, 'surrend': 1, 'jerk': 1, 'internetspher': 1, 'sojourn': 1, 'judi': 1, 'glasberg': 1, 'unduli': 1, 'detector': 1, 'anthem': 1, 'practici': 1, 'cult': 1, 'falun': 1, 'gong': 1, 'bemus': 1, 'fray': 1, 'spinner': 1, 'detachedli': 1, 'noseband': 1, 'liek': 1, 'vienna': 1, 'litter': 1, 'racist': 1, 'swingset': 1, 'tiniest': 1, 'curfew': 1, 'hb': 1, 'orlando': 1, 'hirsi': 1, 'ingrid': 1, 'sparsh': 1, 'climax': 1, 'quench': 1, 'extinguish': 1, 'mold': 1, 'riley': 1, 'unseat': 1, 'frilli': 1, 'bloomer': 1, 'babydol': 1, 'dissatisfact': 1, 'misus': 1, 'bbc': 1, 'incorrect': 1, 'itv': 1, 'jitteri': 1, 'meh': 1, 'looooong': 1, 'benno': 1, 'motorcycl': 1, 'slouchi': 1, 'resili': 1, 'var': 1, 'bogart': 1, 'arvo': 1, 'benedictin': 1, 'monast': 1, 'contend': 1, 'pediatrician': 1, 'aaaand': 1, 'deterg': 1, 'newli': 1, 'addl': 1, 'emty': 1, 'smelt': 1, 'taint': 1, 'pestil': 1, 'starvat': 1, 'pepper': 1, 'zico': 1, 'leer': 1, 'firsthand': 1, 'outstretch': 1, 'purposeless': 1, 'hermion': 1, 'spazzola': 1, 'prima': 1, 'andar': 1, 'dormir': 1, 'pamper': 1, 'weakest': 1, 'dilig': 1, 'underlin': 1, 'oxtail': 1, 'tomo': 1, 'theofil': 1, 'kastrioti': 1, 'impenetr': 1, 'crescent': 1, 'havet': 1, 'gloss': 1, 'heed': 1, 'contagi': 1, 'lodg': 1, 'oesophagu': 1, 'insipid': 1, 'boomer': 1, 'unamerican': 1, 'detent': 1, 'figt': 1, 'becuz': 1, 'badman': 1, 'cammi': 1, 'headless': 1, 'shrink': 1, 'riski': 1, 'imit': 1, 'reminisc': 1, 'millennia': 1, 'brainstorm': 1, 'snoozel': 1, 'contractu': 1, 'vietnames': 1, 'unbreak': 1, 'writin': 1, 'gs': 1, 'dwindl': 1, 'arsen': 1, 'mack': 1, 'revamp': 1, 'nik': 1, 'dinn': 1, 'roam': 1, 'whistl': 1, 'oppon': 1, 'disqualif': 1, 'hawaiian': 1, 'pineappl': 1, 'prettiest': 1, 'serioulsi': 1, 'jreyez': 1, 'alll': 1, 'veryy': 1, 'crunchi': 1, 'waitros': 1, 'yearli': 1, 'hollyoak': 1, 'liriano': 1, 'ardmor': 1, 'kaikoh': 1, 'licenc': 1, 'problemat': 1, 'endlessli': 1, 'riku': 1, 'extract': 1, 'overreact': 1, 'ahaha': 1, 'kindaish': 1, 'sighhh': 1, 'playwright': 1, 'reid': 1, 'portugu': 1, 'boredwithquinn': 1, 'popey': 1, 'cartoon': 1, 'nano': 1, 'tread': 1, 'osteopath': 1, 'boulder': 1, 'snappi': 1, 'bayou': 1, 'cypress': 1, 'wildlif': 1, 'unpav': 1, 'undergradu': 1, 'humanli': 1, 'shailen': 1, 'undeserv': 1, 'annul': 1, 'sectret': 1, 'egf': 1, 'sparkleappl': 1, 'akward': 1, 'tizzi': 1, 'haagen': 1, 'daz': 1, 'indisput': 1, 'doorknob': 1, 'cloest': 1, 'belittl': 1, 'growl': 1, 'nevercontrari': 1, 'jake': 1, 'mongoos': 1, 'tai': 1, 'chi': 1, 'hasan': 1, 'modest': 1, 'schadenfreud': 1, 'neurosurgeon': 1, 'ick': 1, 'selena': 1, 'ruptur': 1, 'skid': 1, 'churchi': 1, 'cheesi': 1, 'hourglass': 1, 'rfttttttttttsjiowefmklldkavsvdsbtwrsbdvfocxfibjxrklrgrmvaeridubneosdvfrwfd': 1, 'gen': 1, 'xer': 1, 'finalist': 1, 'expend': 1, 'miscreant': 1, 'diagnostician': 1, 'lauper': 1, 'sadlovequotesforhim': 1, 'crucial': 1, 'expatri': 1, 'budgetari': 1, 'ant': 1, 'cudnt': 1, 'fren': 1, 'rapid': 1, 'roman': 1, 'freaki': 1, 'geograph': 1, 'overemot': 1, 'jtwoo': 1, 'fixabl': 1, 'cuss': 1, 'overconfid': 1, 'mohdashif': 1, 'mcraven': 1, 'ut': 1, 'pluson': 1, 'wilcfri': 1, 'freud': 1, 'irma': 1, 'subsequ': 1, 'lifespan': 1, 'twiggi': 1, 'holder': 1, 'neon': 1, 'shizz': 1, 'oregon': 1, 'sniff': 1, 'rockett': 1, 'stipul': 1, 'skeer': 1, 'allus': 1, 'massou': 1, 'puter': 1, 'invas': 1, 'lik': 1, 'fiesti': 1, 'haggl': 1, 'nickey': 1, 'out': 1, 'popcorn': 1, 'pinot': 1, 'gri': 1, 'obbi': 1, 'consul': 1, 'infp': 1, 'hassl': 1, 'curli': 1, 'creek': 1, 'meadow': 1, 'fighter': 1, 'wooden': 1, 'upholst': 1, 'timeless': 1, 'gertrud': 1, 'discombobul': 1, 'poster': 1, 'bryangregorylewi': 1, 'blogland': 1, 'dunnno': 1, 'miniatur': 1, 'dribbl': 1, 'disput': 1, 'sexist': 1, 'diss': 1, 'fug': 1, 'keynot': 1, 'hypocrisi': 1, 'wantig': 1, 'yawn': 1, 'mang': 1, 'jrpg': 1, 'righteous': 1, 'unprofession': 1, 'detroit': 1, 'oiler': 1, 'pt': 1, 'gloom': 1, 'overh': 1, 'finest': 1, 'ren': 1, 'stimpi': 1, 'gemini': 1, 'scorpio': 1, 'slr': 1, 'zz': 1, 'keychain': 1, 'tltg': 1, 'delv': 1, 'mystifi': 1, 'diagon': 1, 'kendo': 1, 'downstream': 1, 'motel': 1, 'cleari': 1, 'merson': 1, 'wolfiewolfgang': 1, 'numbingli': 1, 'nudist': 1, 'snorkel': 1, 'eclips': 1, 'scrambl': 1, 'meticul': 1, 'chop': 1, 'winetast': 1, 'neferet': 1, 'kuribayashi': 1, 'hesei': 1, 'kamen': 1, 'descend': 1, 'sooooooooper': 1, 'satir': 1, 'springi': 1, 'camwhor': 1, 'pud': 1, 'anotehr': 1, 'ftw': 1, 'paramilitari': 1, 'derid': 1, 'apocalyps': 1, 'ica': 1, 'loosen': 1, 'infatu': 1, 'vase': 1, 'bud': 1, 'buoi': 1, 'tryin': 1, 'gud': 1, 'understad': 1, 'abt': 1, 'problemn': 1, 'carin': 1, 'cape': 1, 'akron': 1, 'odkh': 1, 'gunna': 1, 'hymn': 1, 'proffer': 1, 'duet': 1, 'tallest': 1, 'conqueror': 1, 'wiki': 1, 'alsway': 1, 'intub': 1, 'ime': 1, 'hunch': 1, 'admittedli': 1, 'gop': 1, 'drinki': 1, 'lemur': 1, 'slobbi': 1, 'incestu': 1, 'twoyear': 1, 'abhorr': 1, 'clodia': 1, 'everitt': 1, 'kina': 1, 'darkest': 1, 'peic': 1, 'bicycl': 1, 'obrian': 1, 'characteris': 1, 'wettest': 1, 'rec': 1, 'thompson': 1, 'fluff': 1, 'eepctqlhiafjwnrrma': 1, 'permit': 1, 'flour': 1, 'tricki': 1, 'complement': 1, 'chic': 1, 'mudblood': 1, 'whatnot': 1, 'hockney': 1, 'saloon': 1, 'underton': 1, 'aj': 1, 'burnout': 1, 'helena': 1, 'bonham': 1, 'johnnykaj': 1, 'scotch': 1, 'expedit': 1, 'amazing': 1, 'acim': 1, 'abraham': 1, 'caramel': 1, 'syrup': 1, 'shhh': 1, 'laddi': 1, 'vantag': 1, 'flagel': 1, 'albino': 1, 'priest': 1, 'hmm': 1, 'rhyme': 1, 'potion': 1, 'dessen': 1, 'muslim': 1, 'opera': 1, 'shhhhhhh': 1, 'hella': 1, 'juggl': 1, 'trigonometri': 1, 'tute': 1, 'liabl': 1, 'paulo': 1, 'coelho': 1, 'miller': 1, 'trickeri': 1, 'fraudul': 1, 'rosari': 1, 'treacheri': 1, 'xl': 1, 'gimm': 1, 'spout': 1, 'lulu': 1, 'mover': 1, 'blew': 1, 'supplic': 1, 'celexa': 1, 'spectra': 1, 'gfb': 1, 'bookworm': 1, 'choc': 1, 'bloc': 1, 'yawwwn': 1, 'doodlesandscrapsofm': 1, 'bal': 1, 'thackerey': 1, 'palpabl': 1, 'diazepam': 1, 'clozapin': 1, 'sepang': 1, 'axilla': 1, 'morla': 1, 'fluidli': 1, 'jude': 1, 'asciat': 1, 'nikola': 1, 'torward': 1, 'tryst': 1, 'jurer': 1, 'pulpit': 1, 'efficaci': 1, 'varsiti': 1, 'muster': 1, 'tim': 1, 'taxat': 1, 'mayor': 1, 'byron': 1, 'haka': 1, 'rubber': 1, 'pointi': 1, 'cu': 1, 'overnight': 1, 'ahem': 1, 'arti': 1, 'ahkman': 1, 'maniac': 1, 'aboard': 1, 'gillard': 1, 'undefin': 1, 'bleh': 1, 'irrepar': 1, 'nolean': 1, 'wihtout': 1, 'needin': 1, 'beth': 1, 'kindda': 1, 'brunch': 1, 'waldo': 1, 'flinch': 1, 'airtim': 1, 'tin': 1, 'reverber': 1, 'clammi': 1, 'flaunt': 1, 'cotton': 1, 'barker': 1, 'proudli': 1, 'mimm': 1, 'thislifeissparkl': 1, 'tinsel': 1, 'headband': 1, 'brooch': 1, 'nashvil': 1, 'refrenc': 1, 'mallrat': 1, 'torch': 1, 'posh': 1, 'cushi': 1, 'exict': 1, 'nanni': 1, 'snark': 1, 'avenu': 1, 'goin': 1, 'moshav': 1, 'dancin': 1, 'beatl': 1, 'prosecutor': 1, 'dc': 1, 'terrribl': 1, 'livejourn': 1, 'ryota': 1, 'keita': 1, 'kota': 1, 'undeni': 1, 'iggi': 1, 'azealea': 1, 'louboutin': 1, 'rita': 1, 'ora': 1, 'vivienn': 1, 'westwood': 1, 'rural': 1, 'vocref': 1, 'ontolog': 1, 'erupt': 1, 'stylish': 1, 'ingrat': 1, 'auction': 1, 'lest': 1, 'daley': 1, 'rightli': 1, 'bronz': 1, 'wi': 1, 'carnivor': 1, 'councillor': 1, 'audr': 1, 'antidepress': 1, 'brach': 1, 'chipmunk': 1, 'vultur': 1, 'sic': 1, 'psychiatri': 1, 'gf': 1, 'vivek': 1, 'oberoi': 1, 'tow': 1, 'herb': 1, 'arrow': 1, 'jerom': 1, 'supersensit': 1, 'abbigail': 1, 'apraxia': 1, 'everymessingth': 1, 'passiv': 1, 'lovecraft': 1, 'analog': 1, 'sparkli': 1, 'policemen': 1, 'mammal': 1, 'overlap': 1, 'squeek': 1, 'underli': 1, 'hachi': 1, 'nobu': 1, 'nana': 1, 'riotousrambl': 1, 'ps': 1, 'odeon': 1, 'lev': 1, 'eachoth': 1, 'killjoy': 1, 'terroris': 1, 'squirm': 1, 'calf': 1, 'ribcag': 1, 'aunti': 1, 'disconsol': 1, 'crise': 1, 'bungalow': 1, 'pandora': 1, 'cosmopolitian': 1, 'braeden': 1, 'calvin': 1, 'beanbag': 1, 'bouquet': 1, 'uncommit': 1, 'breathless': 1, 'jest': 1, 'menstrual': 1, 'walru': 1, 'baba': 1, 'pessim': 1, 'bcoz': 1, 'stigmat': 1, 'stigma': 1, 'farmer': 1, 'irish': 1, 'hummu': 1, 'magzin': 1, 'prioritis': 1, 'barcomb': 1, 'boe': 1, 'schaub': 1, 'bleacherreport': 1, 'cart': 1, 'blanch': 1, 'sistah': 1, 'propon': 1, 'billiard': 1, 'pollen': 1, 'barometr': 1, 'paradis': 1, 'earnest': 1, 'metformin': 1, 'soften': 1, 'strung': 1, 'overcommit': 1, 'hazel': 1, 'valeri': 1, 'potent': 1, 'irfan': 1, 'pathan': 1, 'buse': 1, 'compost': 1, 'evict': 1, 'webmat': 1, 'sf': 1, 'redshank': 1, 'chuckl': 1, 'kith': 1, 'offhand': 1, 'piddl': 1, 'magnet': 1, 'airbu': 1, 'honolulu': 1, 'uhm': 1, 'elast': 1, 'jare': 1, 'pitocin': 1, 'mustard': 1, 'enfold': 1, 'pti': 1, 'jamiat': 1, 'raymond': 1, 'davi': 1, 'amman': 1, 'jessicadickinsongoodman': 1, 'interestingli': 1, 'landlord': 1, 'confin': 1, 'quinn': 1, 'barney': 1, 'wth': 1, 'unfathom': 1, 'airlin': 1, 'brazen': 1, 'demeanor': 1, 'kilometr': 1, 'garmin': 1, 'manga': 1, 'ambush': 1, 'rebellion': 1, 'occult': 1, 'fumbl': 1, 'purs': 1, 'conceptu': 1, 'emphasi': 1, 'stella': 1, 'eleven': 1, 'porch': 1, 'radianc': 1, 'dhawan': 1, 'midwif': 1, 'distinguish': 1, 'cano': 1, 'effortless': 1, 'est': 1, 'aaaah': 1, 'nolong': 1, 'loada': 1, 'maybe': 1, 'bitt': 1, 'troop': 1, 'rewind': 1, 'dvred': 1, 'preview': 1, 'urban': 1, 'outfitt': 1, 'briar': 1, 'beagl': 1, 'souless': 1, 'wilt': 1, 'vessel': 1, 'peanut': 1, 'stander': 1, 'solicit': 1, 'teh': 1, 'ventrur': 1, 'mic': 1, 'disharmoni': 1, 'nighthawk': 1, 'edward': 1, 'grassroot': 1, 'yurusei': 1, 'yatsura': 1, 'cohe': 1, 'cambria': 1, 'sacrament': 1, 'agn': 1, 'electrocut': 1, 'diagnos': 1, 'heyi': 1, 'turtl': 1, 'sneak': 1, 'zhuo': 1, 'xiao': 1, 'obssess': 1, 'petal': 1, 'complimentari': 1, 'replenish': 1, 'prohibit': 1, 'partit': 1, 'thinli': 1, 'lime': 1, 'reprogram': 1, 'overstep': 1, 'getin': 1, 'enforc': 1, 'playdat': 1, 'terrifyingli': 1, 'hari': 1, 'raya': 1, 'prebook': 1, 'kueh': 1, 'makmur': 1, 'hygien': 1, 'paralyz': 1, 'strappi': 1, 'ninewest': 1, 'cyclind': 1, 'carryout': 1, 'vesa': 1, 'kivinen': 1, 'ambassador': 1, 'lefti': 1, 'propaganda': 1, 'comfor': 1, 'teleport': 1, 'hostag': 1, 'negoti': 1, 'sanctum': 1, 'goos': 1, 'rendal': 1, 'munro': 1, 'underestim': 1, 'walker': 1, 'mitchel': 1, 'superflu': 1, 'jenn': 1, 'elain': 1, 'enjorla': 1, 'concequ': 1, 'osp': 1, 'rand': 1, 'assessor': 1, 'helm': 1, 'dumber': 1, 'landmass': 1, 'nini': 1, 'snuffl': 1, 'phew': 1, 'goosey': 1, 'fiercli': 1, 'completli': 1, 'zofran': 1, 'versa': 1, 'gb': 1, 'buyer': 1, 'predica': 1, 'bel': 1, 'helterskelt': 1, 'guidebook': 1, 'martina': 1, 'fodder': 1, 'hillsid': 1, 'stepchildren': 1, 'pacif': 1, 'avant': 1, 'gard': 1, 'uninstal': 1, 'deactiv': 1, 'hatena': 1, 'sesam': 1, 'gent': 1, 'damper': 1, 'wotc': 1, 'berri': 1, 'cutter': 1, 'hilli': 1, 'cempaka': 1, 'chinesepod': 1, 'pedicur': 1, 'tootsi': 1, 'kermit': 1, 'donald': 1, 'meander': 1, 'malm': 1, 'doraemon': 1, 'switzerland': 1, 'largest': 1, 'compellingli': 1, 'predat': 1, 'mire': 1, 'expereinc': 1, 'ohio': 1, 'countrysid': 1, 'postcard': 1, 'penc': 1, 'cosplay': 1, 'goon': 1, 'lacey': 1, 'rikki': 1, 'imperson': 1, 'abba': 1, 'amalgam': 1, 'techfeel': 1, 'hindi': 1, 'imperi': 1, 'lesbian': 1, 'restiv': 1, 'isra': 1, 'theu': 1, 'prickli': 1, 'whisker': 1, 'thang': 1, 'blacken': 1, 'wnat': 1, 'unintellig': 1, 'tianjin': 1, 'clap': 1, 'widget': 1, 'squash': 1, 'deduc': 1, 'negat': 1, 'careen': 1, 'kareena': 1, 'akshay': 1, 'kumar': 1, 'minissha': 1, 'amisha': 1, 'patel': 1, 'avtaar': 1, 'succed': 1, 'firearm': 1, 'sidebar': 1, 'creepili': 1, 'hallway': 1, 'millionth': 1, 'priestess': 1, 'ven': 1, 'talia': 1, 'exploit': 1, 'bruno': 1, 'marzzz': 1, 'bulk': 1, 'kardashian': 1, 'roseann': 1, 'inscri': 1, 'intr': 1, 'rafina': 1, 'lejer': 1, 'priceless': 1, 'headway': 1, 'ascens': 1, 'prejudg': 1, 'tt': 1, 'stutter': 1, 'dearest': 1, 'coincid': 1, 'cabernet': 1, 'congeni': 1, 'blast': 1, 'spruce': 1, 'doorstep': 1, 'airbrush': 1, 'quilti': 1, 'humour': 1, 'neat': 1, 'remours': 1, 'sid': 1, 'invoc': 1, 'atlant': 1, 'chilli': 1, 'livid': 1, 'vest': 1, 'cellulit': 1, 'flare': 1, 'detectin': 1, 'fieldtrip': 1, 'redesign': 1, 'blaze': 1, 'marker': 1, 'ablo': 1, 'homeown': 1, 'rig': 1, 'errand': 1, 'cora': 1, 'sleeper': 1, 'yoghurt': 1, 'flex': 1, 'cowboy': 1, 'greek': 1, 'plush': 1, 'stingi': 1, 'traips': 1, 'tromp': 1, 'stiletto': 1, 'unjustifi': 1, 'scraper': 1, 'screech': 1, 'halt': 1, 'contempt': 1, 'ure': 1, 'communicat': 1, 'prescenc': 1, 'pulsar': 1, 'harley': 1, 'davidson': 1, 'earshot': 1, 'kame': 1, 'audrey': 1, 'badminton': 1, 'sensuou': 1, 'cellphon': 1, 'alumninium': 1, 'socialist': 1, 'govren': 1, 'pension': 1, 'lilongw': 1, 'assistat': 1, 'cretin': 1, 'ultrasound': 1, 'chex': 1, 'tacki': 1, 'drunkenli': 1, 'waist': 1, 'goldschlag': 1, 'rockstar': 1, 'razzl': 1, 'straddl': 1, 'articulaci': 1, 'incoher': 1, 'neighbourhood': 1, 'ole': 1, 'moonbeam': 1, 'dreamili': 1, 'ulta': 1, 'babsbrisban': 1, 'brewer': 1, 'hawkshead': 1, 'smackdown': 1, 'condiment': 1, 'pressi': 1, 'backstabb': 1, 'plow': 1, 'juliemadblogg': 1, 'shark': 1, 'ranch': 1, 'chub': 1, 'fondl': 1, 'ineffectu': 1, 'fait': 1, 'feelingof': 1, 'lister': 1, 'drew': 1, 'grumpili': 1, 'terrorist': 1, 'recharg': 1, 'gestat': 1, 'amazon': 1, 'nobl': 1, 'introspect': 1, 'euskc': 1, 'zj': 1, 'bai': 1, 'tu': 1, 'tang': 1, 'tonk': 1, 'chriss': 1, 'bbw': 1, 'calendar': 1, 'briefli': 1, 'lololol': 1, 'slid': 1, 'hazzard': 1, 'unchart': 1, 'midlif': 1, 'anderson': 1, 'lovingli': 1, 'fe': 1, 'ingor': 1, 'elimin': 1, 'lingo': 1, 'overjoy': 1, 'flunk': 1, 'duo': 1, 'portraitur': 1, 'grittili': 1, 'scorn': 1, 'stsm': 1, 'mansoor': 1, 'linguist': 1, 'deconstructionist': 1, 'oblivion': 1, 'plumb': 1, 'skate': 1, 'mortal': 1, 'biostatist': 1, 'physiolog': 1, 'assimil': 1, 'stoup': 1, 'brian': 1, 'fat': 1, 'outpour': 1, 'respirometri': 1, 'tumbl': 1, 'harmon': 1, 'mopey': 1, 'decreas': 1, 'logarythm': 1, 'wiggi': 1, 'lib': 1, 'georgi': 1, 'porgi': 1, 'concret': 1, 'lid': 1, 'culinari': 1, 'cineworld': 1, 'moder': 1, 'vicent': 1, 'mt': 1, 'slatebook': 1, 'litsen': 1, 'prolif': 1, 'dicken': 1, 'few': 1, 'doingaon': 1, 'mouthfeel': 1, 'exexbf': 1, 'caustic': 1, 'flist': 1, 'lokpal': 1, 'basketbal': 1, 'miler': 1, 'tier': 1, 'facsimilogo': 1, 'didint': 1, 'leslielandberg': 1, 'misl': 1, 'asthma': 1, 'helplessli': 1, 'collapes': 1, 'reseach': 1, 'becoz': 1, 'austin': 1, 'banjo': 1, 'molli': 1, 'purrrr': 1, 'absolout': 1, 'stiffen': 1, 'vaster': 1, 'bachelor': 1, 'brillianc': 1, 'spay': 1, 'belat': 1, 'pleeeeeeas': 1, 'terbutalin': 1, 'volvo': 1, 'unsimilar': 1, 'waddl': 1, 'micah': 1, 'flo': 1, 'lobelia': 1, 'overhead': 1, 'housem': 1, 'gerri': 1, 'hyun': 1, 'joong': 1, 'boundless': 1, 'exponenti': 1, 'hearti': 1, 'weekday': 1, 'pacman': 1, 'pacquiao': 1, 'chillax': 1, 'tshirt': 1, 'teensiest': 1, 'musicjuzz': 1, 'simul': 1, 'midwiferi': 1, 'vt': 1, 'mk': 1, 'everblight': 1, 'jehovah': 1, 'sssa': 1, 'intric': 1, 'gi': 1, 'comu': 1, 'inn': 1, 'nich': 1, 'disquiet': 1, 'billion': 1, 'effac': 1, 'comer': 1, 'latley': 1, 'polyamor': 1, 'lonley': 1, 'bommi': 1, 'dara': 1, 'clamor': 1, 'bassanio': 1, 'woo': 1, 'portia': 1, 'zane': 1, 'hawaii': 1, 'slant': 1, 'hover': 1, 'pixar': 1, 'outdid': 1, 'lightheart': 1, 'unwittingli': 1, 'hypothermia': 1, 'balmi': 1, 'sadder': 1, 'advil': 1, 'inflamm': 1, 'infact': 1}\n"
          ]
        }
      ]
    },
    {
      "cell_type": "markdown",
      "source": [
        "## Vectorization using Bag of Words"
      ],
      "metadata": {
        "id": "UYxG4NP3EEbS"
      }
    },
    {
      "cell_type": "code",
      "source": [
        "from sklearn.feature_extraction.text import CountVectorizer\n",
        "\n",
        "# Text Vectorization\n",
        "cv = CountVectorizer()\n",
        "\n",
        "X_cv = cv.fit_transform(sentences)"
      ],
      "metadata": {
        "id": "8-TmvPi_n9CU"
      },
      "execution_count": 55,
      "outputs": []
    },
    {
      "cell_type": "code",
      "source": [
        "print(\"Vocabulary:\", cv.get_feature_names_out())"
      ],
      "metadata": {
        "colab": {
          "base_uri": "https://localhost:8080/"
        },
        "id": "yBhMMK4kouHm",
        "outputId": "7179b00a-5c64-483e-aee4-f32bf446c8d4"
      },
      "execution_count": 56,
      "outputs": [
        {
          "output_type": "stream",
          "name": "stdout",
          "text": [
            "Vocabulary: ['aa' 'aaaaaaand' 'aaaaand' ... 'zum' 'zumba' 'zz']\n"
          ]
        }
      ]
    },
    {
      "cell_type": "markdown",
      "source": [
        "## Vectorization using TFIDF"
      ],
      "metadata": {
        "id": "WGnJiZzwEMcU"
      }
    },
    {
      "cell_type": "code",
      "source": [
        "from sklearn.feature_extraction.text import TfidfVectorizer\n",
        "\n",
        "tfidf = TfidfVectorizer()\n",
        "\n",
        "X_tfidf = tfidf.fit_transform(sentences)"
      ],
      "metadata": {
        "id": "xtBtEe1gACln"
      },
      "execution_count": 59,
      "outputs": []
    },
    {
      "cell_type": "markdown",
      "source": [
        "# Modelling using Count Vectorizer"
      ],
      "metadata": {
        "id": "WAjbinkQD2Al"
      }
    },
    {
      "cell_type": "code",
      "source": [
        "from sklearn.model_selection import train_test_split\n",
        "from sklearn.metrics import classification_report, accuracy_score, f1_score\n",
        "\n",
        "X = X_cv.toarray()\n",
        "X_train, X_test, y_train, y_test = train_test_split(X, labels,\n",
        "                                                    test_size = 0.2,\n",
        "                                                    random_state=32)\n",
        "\n",
        "print(X_train.shape, len(y_train))\n",
        "print(X_test.shape, len(y_test))\n",
        "\n",
        "from sklearn.naive_bayes import MultinomialNB\n",
        "model = MultinomialNB()\n",
        "model.fit(X_train, y_train)\n",
        "\n",
        "y_pred = model.predict(X_test)\n",
        "\n",
        "print(classification_report(y_test, y_pred))"
      ],
      "metadata": {
        "colab": {
          "base_uri": "https://localhost:8080/"
        },
        "id": "e0sq-1nVBsFv",
        "outputId": "0e3d072a-875a-4f26-f305-e9d84bb455f8"
      },
      "execution_count": 74,
      "outputs": [
        {
          "output_type": "stream",
          "name": "stdout",
          "text": [
            "(13570, 10476) 13570\n",
            "(3393, 10476) 3393\n",
            "              precision    recall  f1-score   support\n",
            "\n",
            "       anger       0.87      0.65      0.75       465\n",
            "        fear       0.83      0.63      0.72       416\n",
            "         joy       0.72      0.92      0.81      1133\n",
            "        love       0.76      0.28      0.41       268\n",
            "     sadness       0.76      0.92      0.83       973\n",
            "    surprise       0.72      0.09      0.17       138\n",
            "\n",
            "    accuracy                           0.76      3393\n",
            "   macro avg       0.78      0.58      0.61      3393\n",
            "weighted avg       0.77      0.76      0.74      3393\n",
            "\n"
          ]
        }
      ]
    },
    {
      "cell_type": "code",
      "source": [
        "from sklearn.preprocessing import LabelEncoder\n",
        "le = LabelEncoder()\n",
        "\n",
        "y_train_num = le.fit_transform(y_train)\n",
        "y_test_num = le.transform(y_test)"
      ],
      "metadata": {
        "id": "8zSb79M_FHO3"
      },
      "execution_count": 76,
      "outputs": []
    },
    {
      "cell_type": "code",
      "source": [
        "# print(\"Classes: \", le.classes_)\n",
        "# print(\"Encoded Vals: \", le.transform(le.classes_))\n",
        "\n",
        "print('Target Encoding')\n",
        "target_dict = dict(zip(le.classes_, le.transform(le.classes_)))\n",
        "target_dict"
      ],
      "metadata": {
        "colab": {
          "base_uri": "https://localhost:8080/"
        },
        "id": "wDtRKD5MFb21",
        "outputId": "609f292d-bd1d-4103-a6c2-d17d87efefd5"
      },
      "execution_count": 85,
      "outputs": [
        {
          "output_type": "stream",
          "name": "stdout",
          "text": [
            "Target Encoding\n"
          ]
        },
        {
          "output_type": "execute_result",
          "data": {
            "text/plain": [
              "{'anger': 0, 'fear': 1, 'joy': 2, 'love': 3, 'sadness': 4, 'surprise': 5}"
            ]
          },
          "metadata": {},
          "execution_count": 85
        }
      ]
    },
    {
      "cell_type": "code",
      "source": [
        "# XG Boost\n",
        "\n",
        "from xgboost import XGBClassifier\n",
        "\n",
        "model = XGBClassifier()\n",
        "\n",
        "model.fit(X_train, y_train_num)\n",
        "\n",
        "y_pred = model.predict(X_test)\n",
        "\n",
        "print(classification_report(y_test_num, y_pred))"
      ],
      "metadata": {
        "colab": {
          "base_uri": "https://localhost:8080/"
        },
        "id": "Vcqm5-U9EnAK",
        "outputId": "49679087-91b6-4c40-a28c-dcce60a19679"
      },
      "execution_count": 87,
      "outputs": [
        {
          "output_type": "stream",
          "name": "stdout",
          "text": [
            "              precision    recall  f1-score   support\n",
            "\n",
            "           0       0.86      0.90      0.88       465\n",
            "           1       0.82      0.85      0.83       416\n",
            "           2       0.88      0.91      0.89      1133\n",
            "           3       0.73      0.71      0.72       268\n",
            "           4       0.93      0.87      0.90       973\n",
            "           5       0.69      0.70      0.70       138\n",
            "\n",
            "    accuracy                           0.86      3393\n",
            "   macro avg       0.82      0.82      0.82      3393\n",
            "weighted avg       0.86      0.86      0.86      3393\n",
            "\n"
          ]
        }
      ]
    },
    {
      "cell_type": "markdown",
      "source": [
        "## Modelling using TFIDF Vectorizer"
      ],
      "metadata": {
        "id": "K2LFvxURD7qc"
      }
    },
    {
      "cell_type": "code",
      "source": [
        "\n",
        "X = X_tfidf.toarray()\n",
        "X_train, X_test, y_train, y_test = train_test_split(X, labels,\n",
        "                                                    test_size = 0.2,\n",
        "                                                    random_state=32)\n",
        "\n",
        "print(X_train.shape, len(y_train))\n",
        "print(X_test.shape, len(y_test))\n",
        "\n",
        "from sklearn.naive_bayes import MultinomialNB\n",
        "model = MultinomialNB()\n",
        "model.fit(X_train, y_train)\n",
        "\n",
        "y_pred = model.predict(X_test)\n",
        "\n",
        "print(classification_report(y_test, y_pred))"
      ],
      "metadata": {
        "colab": {
          "base_uri": "https://localhost:8080/"
        },
        "id": "-YO6q50_EBVp",
        "outputId": "bcbcb7b9-6ab3-45f8-9bd8-e9f00fb2704e"
      },
      "execution_count": 89,
      "outputs": [
        {
          "output_type": "stream",
          "name": "stdout",
          "text": [
            "(13570, 10476) 13570\n",
            "(3393, 10476) 3393\n",
            "              precision    recall  f1-score   support\n",
            "\n",
            "       anger       0.97      0.31      0.47       465\n",
            "        fear       0.89      0.27      0.41       416\n",
            "         joy       0.59      0.98      0.74      1133\n",
            "        love       1.00      0.04      0.07       268\n",
            "     sadness       0.71      0.90      0.80       973\n",
            "    surprise       0.00      0.00      0.00       138\n",
            "\n",
            "    accuracy                           0.66      3393\n",
            "   macro avg       0.69      0.42      0.41      3393\n",
            "weighted avg       0.72      0.66      0.60      3393\n",
            "\n"
          ]
        },
        {
          "output_type": "stream",
          "name": "stderr",
          "text": [
            "/usr/local/lib/python3.11/dist-packages/sklearn/metrics/_classification.py:1565: UndefinedMetricWarning: Precision is ill-defined and being set to 0.0 in labels with no predicted samples. Use `zero_division` parameter to control this behavior.\n",
            "  _warn_prf(average, modifier, f\"{metric.capitalize()} is\", len(result))\n",
            "/usr/local/lib/python3.11/dist-packages/sklearn/metrics/_classification.py:1565: UndefinedMetricWarning: Precision is ill-defined and being set to 0.0 in labels with no predicted samples. Use `zero_division` parameter to control this behavior.\n",
            "  _warn_prf(average, modifier, f\"{metric.capitalize()} is\", len(result))\n",
            "/usr/local/lib/python3.11/dist-packages/sklearn/metrics/_classification.py:1565: UndefinedMetricWarning: Precision is ill-defined and being set to 0.0 in labels with no predicted samples. Use `zero_division` parameter to control this behavior.\n",
            "  _warn_prf(average, modifier, f\"{metric.capitalize()} is\", len(result))\n"
          ]
        }
      ]
    },
    {
      "cell_type": "code",
      "source": [
        "# XG Boost\n",
        "\n",
        "from xgboost import XGBClassifier\n",
        "\n",
        "model = XGBClassifier()\n",
        "\n",
        "model.fit(X_train, y_train_num)\n",
        "\n",
        "y_pred = model.predict(X_test)\n",
        "\n",
        "print(classification_report(y_test_num, y_pred))"
      ],
      "metadata": {
        "colab": {
          "base_uri": "https://localhost:8080/"
        },
        "id": "mdrLpIdoHMMX",
        "outputId": "7d3ea937-4c1a-4a08-aa99-1efcce8f2ac5"
      },
      "execution_count": 90,
      "outputs": [
        {
          "output_type": "stream",
          "name": "stdout",
          "text": [
            "              precision    recall  f1-score   support\n",
            "\n",
            "           0       0.88      0.86      0.87       465\n",
            "           1       0.83      0.82      0.83       416\n",
            "           2       0.83      0.91      0.87      1133\n",
            "           3       0.73      0.65      0.69       268\n",
            "           4       0.92      0.86      0.89       973\n",
            "           5       0.71      0.72      0.72       138\n",
            "\n",
            "    accuracy                           0.85      3393\n",
            "   macro avg       0.82      0.80      0.81      3393\n",
            "weighted avg       0.85      0.85      0.85      3393\n",
            "\n"
          ]
        }
      ]
    },
    {
      "cell_type": "code",
      "source": [],
      "metadata": {
        "id": "6FEvssBeHY5b"
      },
      "execution_count": null,
      "outputs": []
    }
  ]
}